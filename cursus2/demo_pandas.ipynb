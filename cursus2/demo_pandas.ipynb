{
 "cells": [
  {
   "cell_type": "markdown",
   "id": "ca74acee-cd77-4bfa-88f0-3be1dc0389ca",
   "metadata": {},
   "source": [
    "# Pandas"
   ]
  },
  {
   "cell_type": "code",
   "execution_count": 90,
   "id": "c237ecd5-a1b2-47e8-916c-217c6e7602d8",
   "metadata": {},
   "outputs": [],
   "source": [
    "import pandas as pd"
   ]
  },
  {
   "cell_type": "code",
   "execution_count": 91,
   "id": "111a4136-d8a5-4c01-ad9b-d36381245fa5",
   "metadata": {},
   "outputs": [
    {
     "data": {
      "text/plain": [
       "'2.3.2'"
      ]
     },
     "execution_count": 91,
     "metadata": {},
     "output_type": "execute_result"
    }
   ],
   "source": [
    "pd.__version__"
   ]
  },
  {
   "cell_type": "code",
   "execution_count": 92,
   "id": "7aa7a8c2-69bd-4b92-8d05-a9c1083dd4b2",
   "metadata": {},
   "outputs": [],
   "source": [
    "data = {\n",
    "    'naam': ['Miranda', 'Hennie', 'Ivan', 'Anko', 'Jan Jaap'],\n",
    "    'woonplaats': ['Groningen', 'Groningen', None, 'Haren', 'Grolloo'],\n",
    "    'aantal': [23, 45, 23, 43, 12],\n",
    "    'vanaf' : ['2-12-2009', '5-5-2013', '9-3-2011', '8-8-2024', '29-1-2025']\n",
    "}"
   ]
  },
  {
   "cell_type": "code",
   "execution_count": 93,
   "id": "5ed89de1-9356-4d3a-a338-6048fb29589f",
   "metadata": {},
   "outputs": [
    {
     "data": {
      "text/plain": [
       "{'naam': ['Miranda', 'Hennie', 'Ivan', 'Anko', 'Jan Jaap'],\n",
       " 'woonplaats': ['Groningen', 'Groningen', None, 'Haren', 'Grolloo'],\n",
       " 'aantal': [23, 45, 23, 43, 12],\n",
       " 'vanaf': ['2-12-2009', '5-5-2013', '9-3-2011', '8-8-2024', '29-1-2025']}"
      ]
     },
     "execution_count": 93,
     "metadata": {},
     "output_type": "execute_result"
    }
   ],
   "source": [
    "data"
   ]
  },
  {
   "cell_type": "code",
   "execution_count": 94,
   "id": "9f23c9fb-1148-4cf7-8c04-602e8428bcc4",
   "metadata": {},
   "outputs": [
    {
     "data": {
      "text/html": [
       "<div>\n",
       "<style scoped>\n",
       "    .dataframe tbody tr th:only-of-type {\n",
       "        vertical-align: middle;\n",
       "    }\n",
       "\n",
       "    .dataframe tbody tr th {\n",
       "        vertical-align: top;\n",
       "    }\n",
       "\n",
       "    .dataframe thead th {\n",
       "        text-align: right;\n",
       "    }\n",
       "</style>\n",
       "<table border=\"1\" class=\"dataframe\">\n",
       "  <thead>\n",
       "    <tr style=\"text-align: right;\">\n",
       "      <th></th>\n",
       "      <th>naam</th>\n",
       "      <th>woonplaats</th>\n",
       "      <th>aantal</th>\n",
       "      <th>vanaf</th>\n",
       "    </tr>\n",
       "  </thead>\n",
       "  <tbody>\n",
       "    <tr>\n",
       "      <th>0</th>\n",
       "      <td>Miranda</td>\n",
       "      <td>Groningen</td>\n",
       "      <td>23</td>\n",
       "      <td>2-12-2009</td>\n",
       "    </tr>\n",
       "    <tr>\n",
       "      <th>1</th>\n",
       "      <td>Hennie</td>\n",
       "      <td>Groningen</td>\n",
       "      <td>45</td>\n",
       "      <td>5-5-2013</td>\n",
       "    </tr>\n",
       "    <tr>\n",
       "      <th>2</th>\n",
       "      <td>Ivan</td>\n",
       "      <td>None</td>\n",
       "      <td>23</td>\n",
       "      <td>9-3-2011</td>\n",
       "    </tr>\n",
       "    <tr>\n",
       "      <th>3</th>\n",
       "      <td>Anko</td>\n",
       "      <td>Haren</td>\n",
       "      <td>43</td>\n",
       "      <td>8-8-2024</td>\n",
       "    </tr>\n",
       "    <tr>\n",
       "      <th>4</th>\n",
       "      <td>Jan Jaap</td>\n",
       "      <td>Grolloo</td>\n",
       "      <td>12</td>\n",
       "      <td>29-1-2025</td>\n",
       "    </tr>\n",
       "  </tbody>\n",
       "</table>\n",
       "</div>"
      ],
      "text/plain": [
       "       naam woonplaats  aantal      vanaf\n",
       "0   Miranda  Groningen      23  2-12-2009\n",
       "1    Hennie  Groningen      45   5-5-2013\n",
       "2      Ivan       None      23   9-3-2011\n",
       "3      Anko      Haren      43   8-8-2024\n",
       "4  Jan Jaap    Grolloo      12  29-1-2025"
      ]
     },
     "execution_count": 94,
     "metadata": {},
     "output_type": "execute_result"
    }
   ],
   "source": [
    "df = pd.DataFrame(data)\n",
    "df"
   ]
  },
  {
   "cell_type": "markdown",
   "id": "573f1303-98a7-4158-90b7-d066880b4a77",
   "metadata": {},
   "source": [
    "### EDA - Exploratory Data Analysis"
   ]
  },
  {
   "cell_type": "code",
   "execution_count": 95,
   "id": "813b890e-7d5d-4bf3-a922-3342105a799d",
   "metadata": {},
   "outputs": [
    {
     "name": "stdout",
     "output_type": "stream",
     "text": [
      "<class 'pandas.core.frame.DataFrame'>\n",
      "RangeIndex: 5 entries, 0 to 4\n",
      "Data columns (total 4 columns):\n",
      " #   Column      Non-Null Count  Dtype \n",
      "---  ------      --------------  ----- \n",
      " 0   naam        5 non-null      object\n",
      " 1   woonplaats  4 non-null      object\n",
      " 2   aantal      5 non-null      int64 \n",
      " 3   vanaf       5 non-null      object\n",
      "dtypes: int64(1), object(3)\n",
      "memory usage: 292.0+ bytes\n"
     ]
    }
   ],
   "source": [
    "df.info()"
   ]
  },
  {
   "cell_type": "code",
   "execution_count": 96,
   "id": "7e47bdbc-b6f9-411c-901b-733c9c2898f6",
   "metadata": {},
   "outputs": [
    {
     "data": {
      "text/html": [
       "<div>\n",
       "<style scoped>\n",
       "    .dataframe tbody tr th:only-of-type {\n",
       "        vertical-align: middle;\n",
       "    }\n",
       "\n",
       "    .dataframe tbody tr th {\n",
       "        vertical-align: top;\n",
       "    }\n",
       "\n",
       "    .dataframe thead th {\n",
       "        text-align: right;\n",
       "    }\n",
       "</style>\n",
       "<table border=\"1\" class=\"dataframe\">\n",
       "  <thead>\n",
       "    <tr style=\"text-align: right;\">\n",
       "      <th></th>\n",
       "      <th>naam</th>\n",
       "      <th>woonplaats</th>\n",
       "      <th>aantal</th>\n",
       "      <th>vanaf</th>\n",
       "    </tr>\n",
       "  </thead>\n",
       "  <tbody>\n",
       "    <tr>\n",
       "      <th>0</th>\n",
       "      <td>Miranda</td>\n",
       "      <td>Groningen</td>\n",
       "      <td>23</td>\n",
       "      <td>2-12-2009</td>\n",
       "    </tr>\n",
       "    <tr>\n",
       "      <th>1</th>\n",
       "      <td>Hennie</td>\n",
       "      <td>Groningen</td>\n",
       "      <td>45</td>\n",
       "      <td>5-5-2013</td>\n",
       "    </tr>\n",
       "  </tbody>\n",
       "</table>\n",
       "</div>"
      ],
      "text/plain": [
       "      naam woonplaats  aantal      vanaf\n",
       "0  Miranda  Groningen      23  2-12-2009\n",
       "1   Hennie  Groningen      45   5-5-2013"
      ]
     },
     "execution_count": 96,
     "metadata": {},
     "output_type": "execute_result"
    }
   ],
   "source": [
    "df.head(2)"
   ]
  },
  {
   "cell_type": "code",
   "execution_count": 97,
   "id": "1dbb82e4-fc57-4a29-8485-cc9ea89b00cb",
   "metadata": {},
   "outputs": [
    {
     "data": {
      "text/html": [
       "<div>\n",
       "<style scoped>\n",
       "    .dataframe tbody tr th:only-of-type {\n",
       "        vertical-align: middle;\n",
       "    }\n",
       "\n",
       "    .dataframe tbody tr th {\n",
       "        vertical-align: top;\n",
       "    }\n",
       "\n",
       "    .dataframe thead th {\n",
       "        text-align: right;\n",
       "    }\n",
       "</style>\n",
       "<table border=\"1\" class=\"dataframe\">\n",
       "  <thead>\n",
       "    <tr style=\"text-align: right;\">\n",
       "      <th></th>\n",
       "      <th>naam</th>\n",
       "      <th>woonplaats</th>\n",
       "      <th>aantal</th>\n",
       "      <th>vanaf</th>\n",
       "    </tr>\n",
       "  </thead>\n",
       "  <tbody>\n",
       "    <tr>\n",
       "      <th>3</th>\n",
       "      <td>Anko</td>\n",
       "      <td>Haren</td>\n",
       "      <td>43</td>\n",
       "      <td>8-8-2024</td>\n",
       "    </tr>\n",
       "    <tr>\n",
       "      <th>4</th>\n",
       "      <td>Jan Jaap</td>\n",
       "      <td>Grolloo</td>\n",
       "      <td>12</td>\n",
       "      <td>29-1-2025</td>\n",
       "    </tr>\n",
       "  </tbody>\n",
       "</table>\n",
       "</div>"
      ],
      "text/plain": [
       "       naam woonplaats  aantal      vanaf\n",
       "3      Anko      Haren      43   8-8-2024\n",
       "4  Jan Jaap    Grolloo      12  29-1-2025"
      ]
     },
     "execution_count": 97,
     "metadata": {},
     "output_type": "execute_result"
    }
   ],
   "source": [
    "df.tail(2)"
   ]
  },
  {
   "cell_type": "code",
   "execution_count": 98,
   "id": "8fdc1ae5-7dbb-467c-8c04-4c7e138079f4",
   "metadata": {},
   "outputs": [
    {
     "data": {
      "text/plain": [
       "Index(['naam', 'woonplaats', 'aantal', 'vanaf'], dtype='object')"
      ]
     },
     "execution_count": 98,
     "metadata": {},
     "output_type": "execute_result"
    }
   ],
   "source": [
    "df.columns"
   ]
  },
  {
   "cell_type": "code",
   "execution_count": 99,
   "id": "1570c73a-e04c-4ab8-aed9-27b23d1863fe",
   "metadata": {},
   "outputs": [
    {
     "data": {
      "text/plain": [
       "naam          object\n",
       "woonplaats    object\n",
       "aantal         int64\n",
       "vanaf         object\n",
       "dtype: object"
      ]
     },
     "execution_count": 99,
     "metadata": {},
     "output_type": "execute_result"
    }
   ],
   "source": [
    "df.dtypes"
   ]
  },
  {
   "cell_type": "code",
   "execution_count": 100,
   "id": "152532b2-1b15-434a-9e8d-42208928cb88",
   "metadata": {},
   "outputs": [
    {
     "data": {
      "text/plain": [
       "(5, 4)"
      ]
     },
     "execution_count": 100,
     "metadata": {},
     "output_type": "execute_result"
    }
   ],
   "source": [
    "df.shape"
   ]
  },
  {
   "cell_type": "code",
   "execution_count": 101,
   "id": "4bd9dbc7-26ab-440d-9e87-b44fd42abe61",
   "metadata": {},
   "outputs": [
    {
     "data": {
      "text/html": [
       "<div>\n",
       "<style scoped>\n",
       "    .dataframe tbody tr th:only-of-type {\n",
       "        vertical-align: middle;\n",
       "    }\n",
       "\n",
       "    .dataframe tbody tr th {\n",
       "        vertical-align: top;\n",
       "    }\n",
       "\n",
       "    .dataframe thead th {\n",
       "        text-align: right;\n",
       "    }\n",
       "</style>\n",
       "<table border=\"1\" class=\"dataframe\">\n",
       "  <thead>\n",
       "    <tr style=\"text-align: right;\">\n",
       "      <th></th>\n",
       "      <th>aantal</th>\n",
       "    </tr>\n",
       "  </thead>\n",
       "  <tbody>\n",
       "    <tr>\n",
       "      <th>count</th>\n",
       "      <td>5.000000</td>\n",
       "    </tr>\n",
       "    <tr>\n",
       "      <th>mean</th>\n",
       "      <td>29.200000</td>\n",
       "    </tr>\n",
       "    <tr>\n",
       "      <th>std</th>\n",
       "      <td>14.254824</td>\n",
       "    </tr>\n",
       "    <tr>\n",
       "      <th>min</th>\n",
       "      <td>12.000000</td>\n",
       "    </tr>\n",
       "    <tr>\n",
       "      <th>25%</th>\n",
       "      <td>23.000000</td>\n",
       "    </tr>\n",
       "    <tr>\n",
       "      <th>50%</th>\n",
       "      <td>23.000000</td>\n",
       "    </tr>\n",
       "    <tr>\n",
       "      <th>75%</th>\n",
       "      <td>43.000000</td>\n",
       "    </tr>\n",
       "    <tr>\n",
       "      <th>max</th>\n",
       "      <td>45.000000</td>\n",
       "    </tr>\n",
       "  </tbody>\n",
       "</table>\n",
       "</div>"
      ],
      "text/plain": [
       "          aantal\n",
       "count   5.000000\n",
       "mean   29.200000\n",
       "std    14.254824\n",
       "min    12.000000\n",
       "25%    23.000000\n",
       "50%    23.000000\n",
       "75%    43.000000\n",
       "max    45.000000"
      ]
     },
     "execution_count": 101,
     "metadata": {},
     "output_type": "execute_result"
    }
   ],
   "source": [
    "df.describe()"
   ]
  },
  {
   "cell_type": "code",
   "execution_count": 102,
   "id": "67e1bde5-1601-4c37-b0af-d60c2c50be28",
   "metadata": {},
   "outputs": [
    {
     "data": {
      "text/plain": [
       "woonplaats\n",
       "Groningen    2\n",
       "Haren        1\n",
       "Grolloo      1\n",
       "Name: count, dtype: int64"
      ]
     },
     "execution_count": 102,
     "metadata": {},
     "output_type": "execute_result"
    }
   ],
   "source": [
    "df['woonplaats'].value_counts()"
   ]
  },
  {
   "cell_type": "code",
   "execution_count": 103,
   "id": "73976cef-e489-4d75-9d5a-88ec0f396afc",
   "metadata": {},
   "outputs": [
    {
     "data": {
      "text/plain": [
       "<Axes: ylabel='woonplaats'>"
      ]
     },
     "execution_count": 103,
     "metadata": {},
     "output_type": "execute_result"
    },
    {
     "data": {
      "image/png": "[encoded data removed]",
      "text/plain": [
       "<Figure size 640x480 with 1 Axes>"
      ]
     },
     "metadata": {},
     "output_type": "display_data"
    }
   ],
   "source": [
    "df['woonplaats'].value_counts().plot(kind='barh')"
   ]
  },
  {
   "cell_type": "code",
   "execution_count": 104,
   "id": "356c2850-f577-45ed-9782-8bcf113fdaa6",
   "metadata": {},
   "outputs": [],
   "source": [
    "df['naam'] = df['naam'].astype('string')"
   ]
  },
  {
   "cell_type": "code",
   "execution_count": 105,
   "id": "f951afda-3a0c-4411-ad51-b5ca1163b61d",
   "metadata": {},
   "outputs": [],
   "source": [
    "df['woonplaats'] = df['woonplaats'].astype('category')"
   ]
  },
  {
   "cell_type": "code",
   "execution_count": 106,
   "id": "c647c993-2662-49f0-b6a6-2e7b85178733",
   "metadata": {},
   "outputs": [],
   "source": [
    "df['vanaf'] = pd.to_datetime(df['vanaf'], format='%d-%m-%Y')"
   ]
  },
  {
   "cell_type": "code",
   "execution_count": 107,
   "id": "a8496c66-dada-4bf5-a415-8297f62d2a46",
   "metadata": {},
   "outputs": [
    {
     "name": "stdout",
     "output_type": "stream",
     "text": [
      "<class 'pandas.core.frame.DataFrame'>\n",
      "RangeIndex: 5 entries, 0 to 4\n",
      "Data columns (total 4 columns):\n",
      " #   Column      Non-Null Count  Dtype         \n",
      "---  ------      --------------  -----         \n",
      " 0   naam        5 non-null      string        \n",
      " 1   woonplaats  4 non-null      category      \n",
      " 2   aantal      5 non-null      int64         \n",
      " 3   vanaf       5 non-null      datetime64[ns]\n",
      "dtypes: category(1), datetime64[ns](1), int64(1), string(1)\n",
      "memory usage: 389.0 bytes\n"
     ]
    }
   ],
   "source": [
    "df.info()"
   ]
  },
  {
   "cell_type": "code",
   "execution_count": 108,
   "id": "fdbcb3a0-b437-4a08-adb9-bc419062ed3f",
   "metadata": {},
   "outputs": [],
   "source": [
    "df.columns = ['NAAM', 'WOONPLAATS', 'AANTAL', 'VANAF']"
   ]
  },
  {
   "cell_type": "code",
   "execution_count": 109,
   "id": "b0c7d219-c5b3-4117-a36c-81137285dc3f",
   "metadata": {},
   "outputs": [],
   "source": [
    "df.rename(columns={'WOONPLAATS': 'PLAATS'}, inplace=True)"
   ]
  },
  {
   "cell_type": "code",
   "execution_count": 110,
   "id": "11c82538-970f-4d9f-a6ac-9b4ebc40bf2d",
   "metadata": {},
   "outputs": [
    {
     "name": "stdout",
     "output_type": "stream",
     "text": [
      "<class 'pandas.core.frame.DataFrame'>\n",
      "RangeIndex: 5 entries, 0 to 4\n",
      "Data columns (total 4 columns):\n",
      " #   Column  Non-Null Count  Dtype         \n",
      "---  ------  --------------  -----         \n",
      " 0   NAAM    5 non-null      string        \n",
      " 1   PLAATS  4 non-null      category      \n",
      " 2   AANTAL  5 non-null      int64         \n",
      " 3   VANAF   5 non-null      datetime64[ns]\n",
      "dtypes: category(1), datetime64[ns](1), int64(1), string(1)\n",
      "memory usage: 389.0 bytes\n"
     ]
    }
   ],
   "source": [
    "df.info()"
   ]
  },
  {
   "cell_type": "code",
   "execution_count": 111,
   "id": "b48f2481-a25a-42e9-9eda-9fee0e365947",
   "metadata": {},
   "outputs": [
    {
     "data": {
      "text/html": [
       "<div>\n",
       "<style scoped>\n",
       "    .dataframe tbody tr th:only-of-type {\n",
       "        vertical-align: middle;\n",
       "    }\n",
       "\n",
       "    .dataframe tbody tr th {\n",
       "        vertical-align: top;\n",
       "    }\n",
       "\n",
       "    .dataframe thead th {\n",
       "        text-align: right;\n",
       "    }\n",
       "</style>\n",
       "<table border=\"1\" class=\"dataframe\">\n",
       "  <thead>\n",
       "    <tr style=\"text-align: right;\">\n",
       "      <th></th>\n",
       "      <th>NAAM</th>\n",
       "      <th>PLAATS</th>\n",
       "      <th>AANTAL</th>\n",
       "      <th>VANAF</th>\n",
       "    </tr>\n",
       "  </thead>\n",
       "  <tbody>\n",
       "    <tr>\n",
       "      <th>0</th>\n",
       "      <td>Miranda</td>\n",
       "      <td>Groningen</td>\n",
       "      <td>23</td>\n",
       "      <td>2009-12-02</td>\n",
       "    </tr>\n",
       "    <tr>\n",
       "      <th>1</th>\n",
       "      <td>Hennie</td>\n",
       "      <td>Groningen</td>\n",
       "      <td>45</td>\n",
       "      <td>2013-05-05</td>\n",
       "    </tr>\n",
       "    <tr>\n",
       "      <th>2</th>\n",
       "      <td>Ivan</td>\n",
       "      <td>NaN</td>\n",
       "      <td>23</td>\n",
       "      <td>2011-03-09</td>\n",
       "    </tr>\n",
       "    <tr>\n",
       "      <th>3</th>\n",
       "      <td>Anko</td>\n",
       "      <td>Haren</td>\n",
       "      <td>43</td>\n",
       "      <td>2024-08-08</td>\n",
       "    </tr>\n",
       "    <tr>\n",
       "      <th>4</th>\n",
       "      <td>Jan Jaap</td>\n",
       "      <td>Grolloo</td>\n",
       "      <td>12</td>\n",
       "      <td>2025-01-29</td>\n",
       "    </tr>\n",
       "  </tbody>\n",
       "</table>\n",
       "</div>"
      ],
      "text/plain": [
       "       NAAM     PLAATS  AANTAL      VANAF\n",
       "0   Miranda  Groningen      23 2009-12-02\n",
       "1    Hennie  Groningen      45 2013-05-05\n",
       "2      Ivan        NaN      23 2011-03-09\n",
       "3      Anko      Haren      43 2024-08-08\n",
       "4  Jan Jaap    Grolloo      12 2025-01-29"
      ]
     },
     "execution_count": 111,
     "metadata": {},
     "output_type": "execute_result"
    }
   ],
   "source": [
    "df"
   ]
  },
  {
   "cell_type": "code",
   "execution_count": 112,
   "id": "feba11a8-7e9c-4080-b5bb-6e9850c4b5fc",
   "metadata": {},
   "outputs": [],
   "source": [
    "df.drop(1, inplace=True)"
   ]
  },
  {
   "cell_type": "code",
   "execution_count": 115,
   "id": "7a352cf5-b12e-402d-af4b-0d5b85e8b31c",
   "metadata": {},
   "outputs": [
    {
     "data": {
      "text/html": [
       "<div>\n",
       "<style scoped>\n",
       "    .dataframe tbody tr th:only-of-type {\n",
       "        vertical-align: middle;\n",
       "    }\n",
       "\n",
       "    .dataframe tbody tr th {\n",
       "        vertical-align: top;\n",
       "    }\n",
       "\n",
       "    .dataframe thead th {\n",
       "        text-align: right;\n",
       "    }\n",
       "</style>\n",
       "<table border=\"1\" class=\"dataframe\">\n",
       "  <thead>\n",
       "    <tr style=\"text-align: right;\">\n",
       "      <th></th>\n",
       "      <th>NAAM</th>\n",
       "      <th>PLAATS</th>\n",
       "      <th>AANTAL</th>\n",
       "      <th>VANAF</th>\n",
       "    </tr>\n",
       "  </thead>\n",
       "  <tbody>\n",
       "    <tr>\n",
       "      <th>0</th>\n",
       "      <td>Miranda</td>\n",
       "      <td>Groningen</td>\n",
       "      <td>23</td>\n",
       "      <td>2009-12-02</td>\n",
       "    </tr>\n",
       "    <tr>\n",
       "      <th>2</th>\n",
       "      <td>Ivan</td>\n",
       "      <td>NaN</td>\n",
       "      <td>23</td>\n",
       "      <td>2011-03-09</td>\n",
       "    </tr>\n",
       "    <tr>\n",
       "      <th>3</th>\n",
       "      <td>Anko</td>\n",
       "      <td>Haren</td>\n",
       "      <td>43</td>\n",
       "      <td>2024-08-08</td>\n",
       "    </tr>\n",
       "    <tr>\n",
       "      <th>4</th>\n",
       "      <td>Jan Jaap</td>\n",
       "      <td>Grolloo</td>\n",
       "      <td>12</td>\n",
       "      <td>2025-01-29</td>\n",
       "    </tr>\n",
       "  </tbody>\n",
       "</table>\n",
       "</div>"
      ],
      "text/plain": [
       "       NAAM     PLAATS  AANTAL      VANAF\n",
       "0   Miranda  Groningen      23 2009-12-02\n",
       "2      Ivan        NaN      23 2011-03-09\n",
       "3      Anko      Haren      43 2024-08-08\n",
       "4  Jan Jaap    Grolloo      12 2025-01-29"
      ]
     },
     "execution_count": 115,
     "metadata": {},
     "output_type": "execute_result"
    }
   ],
   "source": [
    "df"
   ]
  },
  {
   "cell_type": "code",
   "execution_count": 117,
   "id": "28594e27-064f-47c4-84ca-a28608ceaeda",
   "metadata": {},
   "outputs": [
    {
     "data": {
      "text/html": [
       "<div>\n",
       "<style scoped>\n",
       "    .dataframe tbody tr th:only-of-type {\n",
       "        vertical-align: middle;\n",
       "    }\n",
       "\n",
       "    .dataframe tbody tr th {\n",
       "        vertical-align: top;\n",
       "    }\n",
       "\n",
       "    .dataframe thead th {\n",
       "        text-align: right;\n",
       "    }\n",
       "</style>\n",
       "<table border=\"1\" class=\"dataframe\">\n",
       "  <thead>\n",
       "    <tr style=\"text-align: right;\">\n",
       "      <th></th>\n",
       "      <th>NAAM</th>\n",
       "      <th>PLAATS</th>\n",
       "      <th>AANTAL</th>\n",
       "    </tr>\n",
       "    <tr>\n",
       "      <th>VANAF</th>\n",
       "      <th></th>\n",
       "      <th></th>\n",
       "      <th></th>\n",
       "    </tr>\n",
       "  </thead>\n",
       "  <tbody>\n",
       "    <tr>\n",
       "      <th>2009-12-02</th>\n",
       "      <td>Miranda</td>\n",
       "      <td>Groningen</td>\n",
       "      <td>23</td>\n",
       "    </tr>\n",
       "    <tr>\n",
       "      <th>2011-03-09</th>\n",
       "      <td>Ivan</td>\n",
       "      <td>NaN</td>\n",
       "      <td>23</td>\n",
       "    </tr>\n",
       "    <tr>\n",
       "      <th>2024-08-08</th>\n",
       "      <td>Anko</td>\n",
       "      <td>Haren</td>\n",
       "      <td>43</td>\n",
       "    </tr>\n",
       "    <tr>\n",
       "      <th>2025-01-29</th>\n",
       "      <td>Jan Jaap</td>\n",
       "      <td>Grolloo</td>\n",
       "      <td>12</td>\n",
       "    </tr>\n",
       "  </tbody>\n",
       "</table>\n",
       "</div>"
      ],
      "text/plain": [
       "                NAAM     PLAATS  AANTAL\n",
       "VANAF                                  \n",
       "2009-12-02   Miranda  Groningen      23\n",
       "2011-03-09      Ivan        NaN      23\n",
       "2024-08-08      Anko      Haren      43\n",
       "2025-01-29  Jan Jaap    Grolloo      12"
      ]
     },
     "execution_count": 117,
     "metadata": {},
     "output_type": "execute_result"
    }
   ],
   "source": [
    "df.set_index('VANAF').sort_index()"
   ]
  },
  {
   "cell_type": "code",
   "execution_count": 118,
   "id": "f65a6c48-05d4-4331-b186-00a6c00076d2",
   "metadata": {},
   "outputs": [
    {
     "data": {
      "text/html": [
       "<div>\n",
       "<style scoped>\n",
       "    .dataframe tbody tr th:only-of-type {\n",
       "        vertical-align: middle;\n",
       "    }\n",
       "\n",
       "    .dataframe tbody tr th {\n",
       "        vertical-align: top;\n",
       "    }\n",
       "\n",
       "    .dataframe thead th {\n",
       "        text-align: right;\n",
       "    }\n",
       "</style>\n",
       "<table border=\"1\" class=\"dataframe\">\n",
       "  <thead>\n",
       "    <tr style=\"text-align: right;\">\n",
       "      <th></th>\n",
       "      <th>NAAM</th>\n",
       "      <th>PLAATS</th>\n",
       "      <th>AANTAL</th>\n",
       "      <th>VANAF</th>\n",
       "    </tr>\n",
       "  </thead>\n",
       "  <tbody>\n",
       "    <tr>\n",
       "      <th>0</th>\n",
       "      <td>Miranda</td>\n",
       "      <td>Groningen</td>\n",
       "      <td>23</td>\n",
       "      <td>2009-12-02</td>\n",
       "    </tr>\n",
       "    <tr>\n",
       "      <th>2</th>\n",
       "      <td>Ivan</td>\n",
       "      <td>NaN</td>\n",
       "      <td>23</td>\n",
       "      <td>2011-03-09</td>\n",
       "    </tr>\n",
       "    <tr>\n",
       "      <th>3</th>\n",
       "      <td>Anko</td>\n",
       "      <td>Haren</td>\n",
       "      <td>43</td>\n",
       "      <td>2024-08-08</td>\n",
       "    </tr>\n",
       "    <tr>\n",
       "      <th>4</th>\n",
       "      <td>Jan Jaap</td>\n",
       "      <td>Grolloo</td>\n",
       "      <td>12</td>\n",
       "      <td>2025-01-29</td>\n",
       "    </tr>\n",
       "  </tbody>\n",
       "</table>\n",
       "</div>"
      ],
      "text/plain": [
       "       NAAM     PLAATS  AANTAL      VANAF\n",
       "0   Miranda  Groningen      23 2009-12-02\n",
       "2      Ivan        NaN      23 2011-03-09\n",
       "3      Anko      Haren      43 2024-08-08\n",
       "4  Jan Jaap    Grolloo      12 2025-01-29"
      ]
     },
     "execution_count": 118,
     "metadata": {},
     "output_type": "execute_result"
    }
   ],
   "source": [
    "df"
   ]
  },
  {
   "cell_type": "code",
   "execution_count": 127,
   "id": "2f801025-9fd5-4865-ab80-d1ab1a71f75f",
   "metadata": {},
   "outputs": [],
   "source": [
    "pd.set_option('display.date_dayfirst', True)"
   ]
  },
  {
   "cell_type": "code",
   "execution_count": 135,
   "id": "9315000d-bce8-487e-ad84-a150fa7a1ef3",
   "metadata": {},
   "outputs": [
    {
     "data": {
      "text/plain": [
       "0     woensdag 02 december 2009\n",
       "2        woensdag 09 maart 2011\n",
       "3    donderdag 08 augustus 2024\n",
       "4      woensdag 29 januari 2025\n",
       "Name: VANAF, dtype: object"
      ]
     },
     "execution_count": 135,
     "metadata": {},
     "output_type": "execute_result"
    }
   ],
   "source": [
    "df['VANAF'].dt.strftime('%A %d %B %Y')"
   ]
  },
  {
   "cell_type": "code",
   "execution_count": 136,
   "id": "32f677ab-39e8-4dbb-b649-e64354eaa3f3",
   "metadata": {},
   "outputs": [
    {
     "data": {
      "text/plain": [
       "'nl_nl'"
      ]
     },
     "execution_count": 136,
     "metadata": {},
     "output_type": "execute_result"
    }
   ],
   "source": [
    "import locale\n",
    "locale.setlocale(locale.LC_ALL, 'nl_nl')"
   ]
  },
  {
   "cell_type": "code",
   "execution_count": 137,
   "id": "bf2f5c61-3575-4799-b0cb-9b8a75160b46",
   "metadata": {},
   "outputs": [
    {
     "data": {
      "text/plain": [
       "0     woensdag 02 december 2009\n",
       "2        woensdag 09 maart 2011\n",
       "3    donderdag 08 augustus 2024\n",
       "4      woensdag 29 januari 2025\n",
       "Name: VANAF, dtype: object"
      ]
     },
     "execution_count": 137,
     "metadata": {},
     "output_type": "execute_result"
    }
   ],
   "source": [
    "df['VANAF'].dt.strftime('%A %d %B %Y')"
   ]
  },
  {
   "cell_type": "code",
   "execution_count": 138,
   "id": "76fe99b3-cea2-420f-bf0d-9cc8ff407602",
   "metadata": {},
   "outputs": [
    {
     "data": {
      "text/plain": [
       "'fr_fr'"
      ]
     },
     "execution_count": 138,
     "metadata": {},
     "output_type": "execute_result"
    }
   ],
   "source": [
    "import locale\n",
    "locale.setlocale(locale.LC_ALL, 'fr_fr')"
   ]
  },
  {
   "cell_type": "code",
   "execution_count": 139,
   "id": "04987cee-29b0-4441-9073-c64a076e0be7",
   "metadata": {},
   "outputs": [
    {
     "data": {
      "text/plain": [
       "0    mercredi 02 décembre 2009\n",
       "2        mercredi 09 mars 2011\n",
       "3           jeudi 08 août 2024\n",
       "4     mercredi 29 janvier 2025\n",
       "Name: VANAF, dtype: object"
      ]
     },
     "execution_count": 139,
     "metadata": {},
     "output_type": "execute_result"
    }
   ],
   "source": [
    "df['VANAF'].dt.strftime('%A %d %B %Y')"
   ]
  },
  {
   "cell_type": "code",
   "execution_count": 142,
   "id": "68321bf6-cbb6-497c-a05a-a7ff4b384d70",
   "metadata": {},
   "outputs": [
    {
     "data": {
      "text/html": [
       "<div>\n",
       "<style scoped>\n",
       "    .dataframe tbody tr th:only-of-type {\n",
       "        vertical-align: middle;\n",
       "    }\n",
       "\n",
       "    .dataframe tbody tr th {\n",
       "        vertical-align: top;\n",
       "    }\n",
       "\n",
       "    .dataframe thead th {\n",
       "        text-align: right;\n",
       "    }\n",
       "</style>\n",
       "<table border=\"1\" class=\"dataframe\">\n",
       "  <thead>\n",
       "    <tr style=\"text-align: right;\">\n",
       "      <th></th>\n",
       "      <th>NAAM</th>\n",
       "      <th>PLAATS</th>\n",
       "      <th>AANTAL</th>\n",
       "      <th>VANAF</th>\n",
       "    </tr>\n",
       "  </thead>\n",
       "  <tbody>\n",
       "    <tr>\n",
       "      <th>0</th>\n",
       "      <td>Miranda</td>\n",
       "      <td>Groningen</td>\n",
       "      <td>23</td>\n",
       "      <td>2009-12-02</td>\n",
       "    </tr>\n",
       "    <tr>\n",
       "      <th>2</th>\n",
       "      <td>Ivan</td>\n",
       "      <td>NaN</td>\n",
       "      <td>23</td>\n",
       "      <td>2011-03-09</td>\n",
       "    </tr>\n",
       "    <tr>\n",
       "      <th>3</th>\n",
       "      <td>Anko</td>\n",
       "      <td>Haren</td>\n",
       "      <td>43</td>\n",
       "      <td>2024-08-08</td>\n",
       "    </tr>\n",
       "    <tr>\n",
       "      <th>4</th>\n",
       "      <td>Jan Jaap</td>\n",
       "      <td>Grolloo</td>\n",
       "      <td>12</td>\n",
       "      <td>2025-01-29</td>\n",
       "    </tr>\n",
       "  </tbody>\n",
       "</table>\n",
       "</div>"
      ],
      "text/plain": [
       "       NAAM     PLAATS  AANTAL      VANAF\n",
       "0   Miranda  Groningen      23 2009-12-02\n",
       "2      Ivan        NaN      23 2011-03-09\n",
       "3      Anko      Haren      43 2024-08-08\n",
       "4  Jan Jaap    Grolloo      12 2025-01-29"
      ]
     },
     "execution_count": 142,
     "metadata": {},
     "output_type": "execute_result"
    }
   ],
   "source": [
    "df"
   ]
  },
  {
   "cell_type": "code",
   "execution_count": 146,
   "id": "84435cc5-645e-42bc-b7bf-8df8b5f4c789",
   "metadata": {},
   "outputs": [
    {
     "data": {
      "text/html": [
       "<div>\n",
       "<style scoped>\n",
       "    .dataframe tbody tr th:only-of-type {\n",
       "        vertical-align: middle;\n",
       "    }\n",
       "\n",
       "    .dataframe tbody tr th {\n",
       "        vertical-align: top;\n",
       "    }\n",
       "\n",
       "    .dataframe thead th {\n",
       "        text-align: right;\n",
       "    }\n",
       "</style>\n",
       "<table border=\"1\" class=\"dataframe\">\n",
       "  <thead>\n",
       "    <tr style=\"text-align: right;\">\n",
       "      <th></th>\n",
       "      <th>PLAATS</th>\n",
       "      <th>NAAM</th>\n",
       "    </tr>\n",
       "  </thead>\n",
       "  <tbody>\n",
       "    <tr>\n",
       "      <th>0</th>\n",
       "      <td>Groningen</td>\n",
       "      <td>Miranda</td>\n",
       "    </tr>\n",
       "    <tr>\n",
       "      <th>2</th>\n",
       "      <td>NaN</td>\n",
       "      <td>Ivan</td>\n",
       "    </tr>\n",
       "    <tr>\n",
       "      <th>3</th>\n",
       "      <td>Haren</td>\n",
       "      <td>Anko</td>\n",
       "    </tr>\n",
       "    <tr>\n",
       "      <th>4</th>\n",
       "      <td>Grolloo</td>\n",
       "      <td>Jan Jaap</td>\n",
       "    </tr>\n",
       "  </tbody>\n",
       "</table>\n",
       "</div>"
      ],
      "text/plain": [
       "      PLAATS      NAAM\n",
       "0  Groningen   Miranda\n",
       "2        NaN      Ivan\n",
       "3      Haren      Anko\n",
       "4    Grolloo  Jan Jaap"
      ]
     },
     "execution_count": 146,
     "metadata": {},
     "output_type": "execute_result"
    }
   ],
   "source": [
    "df[['PLAATS', 'NAAM']]"
   ]
  },
  {
   "cell_type": "code",
   "execution_count": 151,
   "id": "f0243e80-b050-45ab-b05a-78bdda5dd95f",
   "metadata": {},
   "outputs": [
    {
     "data": {
      "text/html": [
       "<div>\n",
       "<style scoped>\n",
       "    .dataframe tbody tr th:only-of-type {\n",
       "        vertical-align: middle;\n",
       "    }\n",
       "\n",
       "    .dataframe tbody tr th {\n",
       "        vertical-align: top;\n",
       "    }\n",
       "\n",
       "    .dataframe thead th {\n",
       "        text-align: right;\n",
       "    }\n",
       "</style>\n",
       "<table border=\"1\" class=\"dataframe\">\n",
       "  <thead>\n",
       "    <tr style=\"text-align: right;\">\n",
       "      <th></th>\n",
       "      <th>NAAM</th>\n",
       "      <th>PLAATS</th>\n",
       "      <th>AANTAL</th>\n",
       "      <th>VANAF</th>\n",
       "    </tr>\n",
       "  </thead>\n",
       "  <tbody>\n",
       "    <tr>\n",
       "      <th>0</th>\n",
       "      <td>Miranda</td>\n",
       "      <td>Groningen</td>\n",
       "      <td>23</td>\n",
       "      <td>2009-12-02</td>\n",
       "    </tr>\n",
       "    <tr>\n",
       "      <th>2</th>\n",
       "      <td>Ivan</td>\n",
       "      <td>NaN</td>\n",
       "      <td>23</td>\n",
       "      <td>2011-03-09</td>\n",
       "    </tr>\n",
       "    <tr>\n",
       "      <th>3</th>\n",
       "      <td>Anko</td>\n",
       "      <td>Haren</td>\n",
       "      <td>43</td>\n",
       "      <td>2024-08-08</td>\n",
       "    </tr>\n",
       "  </tbody>\n",
       "</table>\n",
       "</div>"
      ],
      "text/plain": [
       "      NAAM     PLAATS  AANTAL      VANAF\n",
       "0  Miranda  Groningen      23 2009-12-02\n",
       "2     Ivan        NaN      23 2011-03-09\n",
       "3     Anko      Haren      43 2024-08-08"
      ]
     },
     "execution_count": 151,
     "metadata": {},
     "output_type": "execute_result"
    }
   ],
   "source": [
    "df[df['AANTAL']>20]"
   ]
  },
  {
   "cell_type": "code",
   "execution_count": 152,
   "id": "5eace9b1-ce2c-4d7f-9d40-ee158f9987b9",
   "metadata": {},
   "outputs": [
    {
     "data": {
      "text/html": [
       "<div>\n",
       "<style scoped>\n",
       "    .dataframe tbody tr th:only-of-type {\n",
       "        vertical-align: middle;\n",
       "    }\n",
       "\n",
       "    .dataframe tbody tr th {\n",
       "        vertical-align: top;\n",
       "    }\n",
       "\n",
       "    .dataframe thead th {\n",
       "        text-align: right;\n",
       "    }\n",
       "</style>\n",
       "<table border=\"1\" class=\"dataframe\">\n",
       "  <thead>\n",
       "    <tr style=\"text-align: right;\">\n",
       "      <th></th>\n",
       "      <th>PLAATS</th>\n",
       "      <th>NAAM</th>\n",
       "    </tr>\n",
       "  </thead>\n",
       "  <tbody>\n",
       "    <tr>\n",
       "      <th>0</th>\n",
       "      <td>Groningen</td>\n",
       "      <td>Miranda</td>\n",
       "    </tr>\n",
       "    <tr>\n",
       "      <th>2</th>\n",
       "      <td>NaN</td>\n",
       "      <td>Ivan</td>\n",
       "    </tr>\n",
       "    <tr>\n",
       "      <th>3</th>\n",
       "      <td>Haren</td>\n",
       "      <td>Anko</td>\n",
       "    </tr>\n",
       "  </tbody>\n",
       "</table>\n",
       "</div>"
      ],
      "text/plain": [
       "      PLAATS     NAAM\n",
       "0  Groningen  Miranda\n",
       "2        NaN     Ivan\n",
       "3      Haren     Anko"
      ]
     },
     "execution_count": 152,
     "metadata": {},
     "output_type": "execute_result"
    }
   ],
   "source": [
    "df.loc[df['AANTAL']>20, ['PLAATS', 'NAAM']]"
   ]
  },
  {
   "cell_type": "code",
   "execution_count": 155,
   "id": "518c4f0e-476a-4f5c-9863-635dc0a4ad82",
   "metadata": {},
   "outputs": [
    {
     "data": {
      "text/html": [
       "<div>\n",
       "<style scoped>\n",
       "    .dataframe tbody tr th:only-of-type {\n",
       "        vertical-align: middle;\n",
       "    }\n",
       "\n",
       "    .dataframe tbody tr th {\n",
       "        vertical-align: top;\n",
       "    }\n",
       "\n",
       "    .dataframe thead th {\n",
       "        text-align: right;\n",
       "    }\n",
       "</style>\n",
       "<table border=\"1\" class=\"dataframe\">\n",
       "  <thead>\n",
       "    <tr style=\"text-align: right;\">\n",
       "      <th></th>\n",
       "      <th>NAAM</th>\n",
       "      <th>PLAATS</th>\n",
       "      <th>AANTAL</th>\n",
       "      <th>VANAF</th>\n",
       "    </tr>\n",
       "  </thead>\n",
       "  <tbody>\n",
       "    <tr>\n",
       "      <th>0</th>\n",
       "      <td>Miranda</td>\n",
       "      <td>Groningen</td>\n",
       "      <td>23</td>\n",
       "      <td>2009-12-02</td>\n",
       "    </tr>\n",
       "    <tr>\n",
       "      <th>2</th>\n",
       "      <td>Ivan</td>\n",
       "      <td>NaN</td>\n",
       "      <td>23</td>\n",
       "      <td>2011-03-09</td>\n",
       "    </tr>\n",
       "  </tbody>\n",
       "</table>\n",
       "</div>"
      ],
      "text/plain": [
       "      NAAM     PLAATS  AANTAL      VANAF\n",
       "0  Miranda  Groningen      23 2009-12-02\n",
       "2     Ivan        NaN      23 2011-03-09"
      ]
     },
     "execution_count": 155,
     "metadata": {},
     "output_type": "execute_result"
    }
   ],
   "source": [
    "df.loc[[0, 2], :]"
   ]
  },
  {
   "cell_type": "code",
   "execution_count": 156,
   "id": "b8018e88-b36d-45ca-adbf-06860b10f376",
   "metadata": {},
   "outputs": [
    {
     "data": {
      "text/html": [
       "<div>\n",
       "<style scoped>\n",
       "    .dataframe tbody tr th:only-of-type {\n",
       "        vertical-align: middle;\n",
       "    }\n",
       "\n",
       "    .dataframe tbody tr th {\n",
       "        vertical-align: top;\n",
       "    }\n",
       "\n",
       "    .dataframe thead th {\n",
       "        text-align: right;\n",
       "    }\n",
       "</style>\n",
       "<table border=\"1\" class=\"dataframe\">\n",
       "  <thead>\n",
       "    <tr style=\"text-align: right;\">\n",
       "      <th></th>\n",
       "      <th>NAAM</th>\n",
       "      <th>PLAATS</th>\n",
       "      <th>AANTAL</th>\n",
       "      <th>VANAF</th>\n",
       "    </tr>\n",
       "  </thead>\n",
       "  <tbody>\n",
       "    <tr>\n",
       "      <th>0</th>\n",
       "      <td>Miranda</td>\n",
       "      <td>Groningen</td>\n",
       "      <td>23</td>\n",
       "      <td>2009-12-02</td>\n",
       "    </tr>\n",
       "    <tr>\n",
       "      <th>3</th>\n",
       "      <td>Anko</td>\n",
       "      <td>Haren</td>\n",
       "      <td>43</td>\n",
       "      <td>2024-08-08</td>\n",
       "    </tr>\n",
       "  </tbody>\n",
       "</table>\n",
       "</div>"
      ],
      "text/plain": [
       "      NAAM     PLAATS  AANTAL      VANAF\n",
       "0  Miranda  Groningen      23 2009-12-02\n",
       "3     Anko      Haren      43 2024-08-08"
      ]
     },
     "execution_count": 156,
     "metadata": {},
     "output_type": "execute_result"
    }
   ],
   "source": [
    "df.iloc[[0, 2], :]"
   ]
  },
  {
   "cell_type": "code",
   "execution_count": 158,
   "id": "53f6c4f5-952b-431a-9166-c05676d4c46a",
   "metadata": {},
   "outputs": [
    {
     "data": {
      "text/html": [
       "<div>\n",
       "<style scoped>\n",
       "    .dataframe tbody tr th:only-of-type {\n",
       "        vertical-align: middle;\n",
       "    }\n",
       "\n",
       "    .dataframe tbody tr th {\n",
       "        vertical-align: top;\n",
       "    }\n",
       "\n",
       "    .dataframe thead th {\n",
       "        text-align: right;\n",
       "    }\n",
       "</style>\n",
       "<table border=\"1\" class=\"dataframe\">\n",
       "  <thead>\n",
       "    <tr style=\"text-align: right;\">\n",
       "      <th></th>\n",
       "      <th>NAAM</th>\n",
       "      <th>PLAATS</th>\n",
       "      <th>AANTAL</th>\n",
       "      <th>VANAF</th>\n",
       "    </tr>\n",
       "  </thead>\n",
       "  <tbody>\n",
       "    <tr>\n",
       "      <th>0</th>\n",
       "      <td>Miranda</td>\n",
       "      <td>Groningen</td>\n",
       "      <td>23</td>\n",
       "      <td>2009-12-02</td>\n",
       "    </tr>\n",
       "    <tr>\n",
       "      <th>2</th>\n",
       "      <td>Ivan</td>\n",
       "      <td>NaN</td>\n",
       "      <td>23</td>\n",
       "      <td>2011-03-09</td>\n",
       "    </tr>\n",
       "    <tr>\n",
       "      <th>3</th>\n",
       "      <td>Anko</td>\n",
       "      <td>Haren</td>\n",
       "      <td>43</td>\n",
       "      <td>2024-08-08</td>\n",
       "    </tr>\n",
       "  </tbody>\n",
       "</table>\n",
       "</div>"
      ],
      "text/plain": [
       "      NAAM     PLAATS  AANTAL      VANAF\n",
       "0  Miranda  Groningen      23 2009-12-02\n",
       "2     Ivan        NaN      23 2011-03-09\n",
       "3     Anko      Haren      43 2024-08-08"
      ]
     },
     "execution_count": 158,
     "metadata": {},
     "output_type": "execute_result"
    }
   ],
   "source": [
    "df.query('AANTAL>20')"
   ]
  },
  {
   "cell_type": "code",
   "execution_count": 161,
   "id": "0c9cae81-07c6-4640-a3e7-f853c5f39566",
   "metadata": {},
   "outputs": [
    {
     "data": {
      "text/html": [
       "<div>\n",
       "<style scoped>\n",
       "    .dataframe tbody tr th:only-of-type {\n",
       "        vertical-align: middle;\n",
       "    }\n",
       "\n",
       "    .dataframe tbody tr th {\n",
       "        vertical-align: top;\n",
       "    }\n",
       "\n",
       "    .dataframe thead th {\n",
       "        text-align: right;\n",
       "    }\n",
       "</style>\n",
       "<table border=\"1\" class=\"dataframe\">\n",
       "  <thead>\n",
       "    <tr style=\"text-align: right;\">\n",
       "      <th></th>\n",
       "      <th>NAAM</th>\n",
       "      <th>PLAATS</th>\n",
       "      <th>AANTAL</th>\n",
       "      <th>VANAF</th>\n",
       "    </tr>\n",
       "  </thead>\n",
       "  <tbody>\n",
       "    <tr>\n",
       "      <th>0</th>\n",
       "      <td>Miranda</td>\n",
       "      <td>Groningen</td>\n",
       "      <td>23</td>\n",
       "      <td>2009-12-02</td>\n",
       "    </tr>\n",
       "  </tbody>\n",
       "</table>\n",
       "</div>"
      ],
      "text/plain": [
       "      NAAM     PLAATS  AANTAL      VANAF\n",
       "0  Miranda  Groningen      23 2009-12-02"
      ]
     },
     "execution_count": 161,
     "metadata": {},
     "output_type": "execute_result"
    }
   ],
   "source": [
    "df.query('PLAATS==\"Groningen\"')"
   ]
  },
  {
   "cell_type": "code",
   "execution_count": 172,
   "id": "0e665195-28b4-4188-ac33-d3b32ebe41eb",
   "metadata": {},
   "outputs": [
    {
     "data": {
      "text/plain": [
       "0     True\n",
       "2      NaN\n",
       "3    False\n",
       "4     True\n",
       "Name: PLAATS, dtype: object"
      ]
     },
     "execution_count": 172,
     "metadata": {},
     "output_type": "execute_result"
    }
   ],
   "source": [
    "df['PLAATS'].str.startswith(\"G\")"
   ]
  },
  {
   "cell_type": "code",
   "execution_count": 183,
   "id": "4654e5f4-a8e0-4a2e-80ed-f17082a56df2",
   "metadata": {},
   "outputs": [
    {
     "data": {
      "text/html": [
       "<div>\n",
       "<style scoped>\n",
       "    .dataframe tbody tr th:only-of-type {\n",
       "        vertical-align: middle;\n",
       "    }\n",
       "\n",
       "    .dataframe tbody tr th {\n",
       "        vertical-align: top;\n",
       "    }\n",
       "\n",
       "    .dataframe thead th {\n",
       "        text-align: right;\n",
       "    }\n",
       "</style>\n",
       "<table border=\"1\" class=\"dataframe\">\n",
       "  <thead>\n",
       "    <tr style=\"text-align: right;\">\n",
       "      <th></th>\n",
       "      <th>NAAM</th>\n",
       "      <th>PLAATS</th>\n",
       "      <th>AANTAL</th>\n",
       "      <th>VANAF</th>\n",
       "    </tr>\n",
       "  </thead>\n",
       "  <tbody>\n",
       "    <tr>\n",
       "      <th>0</th>\n",
       "      <td>Miranda</td>\n",
       "      <td>Groningen</td>\n",
       "      <td>23</td>\n",
       "      <td>2009-12-02</td>\n",
       "    </tr>\n",
       "    <tr>\n",
       "      <th>3</th>\n",
       "      <td>Anko</td>\n",
       "      <td>Haren</td>\n",
       "      <td>43</td>\n",
       "      <td>2024-08-08</td>\n",
       "    </tr>\n",
       "    <tr>\n",
       "      <th>4</th>\n",
       "      <td>Jan Jaap</td>\n",
       "      <td>Grolloo</td>\n",
       "      <td>12</td>\n",
       "      <td>2025-01-29</td>\n",
       "    </tr>\n",
       "  </tbody>\n",
       "</table>\n",
       "</div>"
      ],
      "text/plain": [
       "       NAAM     PLAATS  AANTAL      VANAF\n",
       "0   Miranda  Groningen      23 2009-12-02\n",
       "3      Anko      Haren      43 2024-08-08\n",
       "4  Jan Jaap    Grolloo      12 2025-01-29"
      ]
     },
     "execution_count": 183,
     "metadata": {},
     "output_type": "execute_result"
    }
   ],
   "source": [
    "df.dropna(subset='PLAATS')"
   ]
  },
  {
   "cell_type": "code",
   "execution_count": 193,
   "id": "2854e81e-c598-4e94-85e9-ce4f02f13097",
   "metadata": {},
   "outputs": [],
   "source": [
    "df['PLAATS'] = df['PLAATS'].astype('string').fillna(method='keeplast')"
   ]
  },
  {
   "cell_type": "code",
   "execution_count": 194,
   "id": "f6e54ae0-7233-4cbf-a0b4-148cab18cf01",
   "metadata": {},
   "outputs": [
    {
     "data": {
      "text/html": [
       "<div>\n",
       "<style scoped>\n",
       "    .dataframe tbody tr th:only-of-type {\n",
       "        vertical-align: middle;\n",
       "    }\n",
       "\n",
       "    .dataframe tbody tr th {\n",
       "        vertical-align: top;\n",
       "    }\n",
       "\n",
       "    .dataframe thead th {\n",
       "        text-align: right;\n",
       "    }\n",
       "</style>\n",
       "<table border=\"1\" class=\"dataframe\">\n",
       "  <thead>\n",
       "    <tr style=\"text-align: right;\">\n",
       "      <th></th>\n",
       "      <th>NAAM</th>\n",
       "      <th>PLAATS</th>\n",
       "      <th>AANTAL</th>\n",
       "      <th>VANAF</th>\n",
       "    </tr>\n",
       "  </thead>\n",
       "  <tbody>\n",
       "    <tr>\n",
       "      <th>0</th>\n",
       "      <td>Miranda</td>\n",
       "      <td>Groningen</td>\n",
       "      <td>23</td>\n",
       "      <td>2009-12-02</td>\n",
       "    </tr>\n",
       "    <tr>\n",
       "      <th>2</th>\n",
       "      <td>Ivan</td>\n",
       "      <td>-</td>\n",
       "      <td>23</td>\n",
       "      <td>2011-03-09</td>\n",
       "    </tr>\n",
       "    <tr>\n",
       "      <th>3</th>\n",
       "      <td>Anko</td>\n",
       "      <td>Haren</td>\n",
       "      <td>43</td>\n",
       "      <td>2024-08-08</td>\n",
       "    </tr>\n",
       "    <tr>\n",
       "      <th>4</th>\n",
       "      <td>Jan Jaap</td>\n",
       "      <td>Grolloo</td>\n",
       "      <td>12</td>\n",
       "      <td>2025-01-29</td>\n",
       "    </tr>\n",
       "  </tbody>\n",
       "</table>\n",
       "</div>"
      ],
      "text/plain": [
       "       NAAM     PLAATS  AANTAL      VANAF\n",
       "0   Miranda  Groningen      23 2009-12-02\n",
       "2      Ivan          -      23 2011-03-09\n",
       "3      Anko      Haren      43 2024-08-08\n",
       "4  Jan Jaap    Grolloo      12 2025-01-29"
      ]
     },
     "execution_count": 194,
     "metadata": {},
     "output_type": "execute_result"
    }
   ],
   "source": [
    "df"
   ]
  },
  {
   "cell_type": "code",
   "execution_count": 195,
   "id": "2dbba670-0c8a-4860-b7ae-5d0362b00d67",
   "metadata": {},
   "outputs": [],
   "source": [
    "df.loc[2, 'PLAATS'] = 'Groningen'"
   ]
  },
  {
   "cell_type": "code",
   "execution_count": 196,
   "id": "022e5a42-fa50-42e0-bbce-0246fab7c185",
   "metadata": {},
   "outputs": [
    {
     "data": {
      "text/html": [
       "<div>\n",
       "<style scoped>\n",
       "    .dataframe tbody tr th:only-of-type {\n",
       "        vertical-align: middle;\n",
       "    }\n",
       "\n",
       "    .dataframe tbody tr th {\n",
       "        vertical-align: top;\n",
       "    }\n",
       "\n",
       "    .dataframe thead th {\n",
       "        text-align: right;\n",
       "    }\n",
       "</style>\n",
       "<table border=\"1\" class=\"dataframe\">\n",
       "  <thead>\n",
       "    <tr style=\"text-align: right;\">\n",
       "      <th></th>\n",
       "      <th>NAAM</th>\n",
       "      <th>PLAATS</th>\n",
       "      <th>AANTAL</th>\n",
       "      <th>VANAF</th>\n",
       "    </tr>\n",
       "  </thead>\n",
       "  <tbody>\n",
       "    <tr>\n",
       "      <th>0</th>\n",
       "      <td>Miranda</td>\n",
       "      <td>Groningen</td>\n",
       "      <td>23</td>\n",
       "      <td>2009-12-02</td>\n",
       "    </tr>\n",
       "    <tr>\n",
       "      <th>2</th>\n",
       "      <td>Ivan</td>\n",
       "      <td>Groningen</td>\n",
       "      <td>23</td>\n",
       "      <td>2011-03-09</td>\n",
       "    </tr>\n",
       "    <tr>\n",
       "      <th>3</th>\n",
       "      <td>Anko</td>\n",
       "      <td>Haren</td>\n",
       "      <td>43</td>\n",
       "      <td>2024-08-08</td>\n",
       "    </tr>\n",
       "    <tr>\n",
       "      <th>4</th>\n",
       "      <td>Jan Jaap</td>\n",
       "      <td>Grolloo</td>\n",
       "      <td>12</td>\n",
       "      <td>2025-01-29</td>\n",
       "    </tr>\n",
       "  </tbody>\n",
       "</table>\n",
       "</div>"
      ],
      "text/plain": [
       "       NAAM     PLAATS  AANTAL      VANAF\n",
       "0   Miranda  Groningen      23 2009-12-02\n",
       "2      Ivan  Groningen      23 2011-03-09\n",
       "3      Anko      Haren      43 2024-08-08\n",
       "4  Jan Jaap    Grolloo      12 2025-01-29"
      ]
     },
     "execution_count": 196,
     "metadata": {},
     "output_type": "execute_result"
    }
   ],
   "source": [
    "df"
   ]
  },
  {
   "cell_type": "code",
   "execution_count": 202,
   "id": "8176223f-53b5-447e-8259-353078b5beb1",
   "metadata": {},
   "outputs": [
    {
     "data": {
      "text/html": [
       "<div>\n",
       "<style scoped>\n",
       "    .dataframe tbody tr th:only-of-type {\n",
       "        vertical-align: middle;\n",
       "    }\n",
       "\n",
       "    .dataframe tbody tr th {\n",
       "        vertical-align: top;\n",
       "    }\n",
       "\n",
       "    .dataframe thead th {\n",
       "        text-align: right;\n",
       "    }\n",
       "</style>\n",
       "<table border=\"1\" class=\"dataframe\">\n",
       "  <thead>\n",
       "    <tr style=\"text-align: right;\">\n",
       "      <th></th>\n",
       "      <th>NAAM</th>\n",
       "      <th>PLAATS</th>\n",
       "      <th>AANTAL</th>\n",
       "      <th>VANAF</th>\n",
       "    </tr>\n",
       "  </thead>\n",
       "  <tbody>\n",
       "    <tr>\n",
       "      <th>0</th>\n",
       "      <td>Miranda</td>\n",
       "      <td>Groningen</td>\n",
       "      <td>23</td>\n",
       "      <td>2009-12-02</td>\n",
       "    </tr>\n",
       "    <tr>\n",
       "      <th>2</th>\n",
       "      <td>Ivan</td>\n",
       "      <td>Groningen</td>\n",
       "      <td>23</td>\n",
       "      <td>2011-03-09</td>\n",
       "    </tr>\n",
       "  </tbody>\n",
       "</table>\n",
       "</div>"
      ],
      "text/plain": [
       "      NAAM     PLAATS  AANTAL      VANAF\n",
       "0  Miranda  Groningen      23 2009-12-02\n",
       "2     Ivan  Groningen      23 2011-03-09"
      ]
     },
     "execution_count": 202,
     "metadata": {},
     "output_type": "execute_result"
    }
   ],
   "source": [
    "df[df['PLAATS'].duplicated(keep=False)]"
   ]
  },
  {
   "cell_type": "code",
   "execution_count": 206,
   "id": "0574aeb2-5c43-4aef-b6a4-ef9104b0d2c4",
   "metadata": {},
   "outputs": [
    {
     "data": {
      "text/html": [
       "<div>\n",
       "<style scoped>\n",
       "    .dataframe tbody tr th:only-of-type {\n",
       "        vertical-align: middle;\n",
       "    }\n",
       "\n",
       "    .dataframe tbody tr th {\n",
       "        vertical-align: top;\n",
       "    }\n",
       "\n",
       "    .dataframe thead th {\n",
       "        text-align: right;\n",
       "    }\n",
       "</style>\n",
       "<table border=\"1\" class=\"dataframe\">\n",
       "  <thead>\n",
       "    <tr style=\"text-align: right;\">\n",
       "      <th></th>\n",
       "      <th>NAAM</th>\n",
       "      <th>PLAATS</th>\n",
       "      <th>AANTAL</th>\n",
       "      <th>VANAF</th>\n",
       "    </tr>\n",
       "  </thead>\n",
       "  <tbody>\n",
       "    <tr>\n",
       "      <th>2</th>\n",
       "      <td>Ivan</td>\n",
       "      <td>Groningen</td>\n",
       "      <td>23</td>\n",
       "      <td>2011-03-09</td>\n",
       "    </tr>\n",
       "    <tr>\n",
       "      <th>3</th>\n",
       "      <td>Anko</td>\n",
       "      <td>Haren</td>\n",
       "      <td>43</td>\n",
       "      <td>2024-08-08</td>\n",
       "    </tr>\n",
       "    <tr>\n",
       "      <th>4</th>\n",
       "      <td>Jan Jaap</td>\n",
       "      <td>Grolloo</td>\n",
       "      <td>12</td>\n",
       "      <td>2025-01-29</td>\n",
       "    </tr>\n",
       "  </tbody>\n",
       "</table>\n",
       "</div>"
      ],
      "text/plain": [
       "       NAAM     PLAATS  AANTAL      VANAF\n",
       "2      Ivan  Groningen      23 2011-03-09\n",
       "3      Anko      Haren      43 2024-08-08\n",
       "4  Jan Jaap    Grolloo      12 2025-01-29"
      ]
     },
     "execution_count": 206,
     "metadata": {},
     "output_type": "execute_result"
    }
   ],
   "source": [
    "df.drop_duplicates(subset='PLAATS', keep='last')"
   ]
  },
  {
   "cell_type": "code",
   "execution_count": null,
   "id": "00bfee30-b532-4d55-b669-b8a205fd541b",
   "metadata": {},
   "outputs": [],
   "source": []
  }
 ],
 "metadata": {
  "kernelspec": {
   "display_name": "Homebase",
   "language": "python",
   "name": "homebase"
  },
  "language_info": {
   "codemirror_mode": {
    "name": "ipython",
    "version": 3
   },
   "file_extension": ".py",
   "mimetype": "text/x-python",
   "name": "python",
   "nbconvert_exporter": "python",
   "pygments_lexer": "ipython3",
   "version": "3.13.3"
  }
 },
 "nbformat": 4,
 "nbformat_minor": 5
}
