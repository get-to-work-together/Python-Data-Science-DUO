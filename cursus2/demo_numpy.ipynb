{
 "cells": [
  {
   "cell_type": "code",
   "execution_count": 1,
   "id": "086dc30b-b7ab-4696-a76a-712cde2fe3ae",
   "metadata": {},
   "outputs": [],
   "source": [
    "import numpy as np"
   ]
  },
  {
   "cell_type": "code",
   "execution_count": 3,
   "id": "961661e0-6a7a-4860-beb8-0ea22a81fcef",
   "metadata": {},
   "outputs": [
    {
     "data": {
      "text/plain": [
       "array([2, 5, 4, 7, 9])"
      ]
     },
     "execution_count": 3,
     "metadata": {},
     "output_type": "execute_result"
    }
   ],
   "source": [
    "a = np.array([2,5,4,7,9])\n",
    "a"
   ]
  },
  {
   "cell_type": "code",
   "execution_count": 4,
   "id": "cd587534-559b-4c31-a681-d9e9ea28e4f8",
   "metadata": {},
   "outputs": [
    {
     "data": {
      "text/plain": [
       "numpy.ndarray"
      ]
     },
     "execution_count": 4,
     "metadata": {},
     "output_type": "execute_result"
    }
   ],
   "source": [
    "type(a)"
   ]
  },
  {
   "cell_type": "code",
   "execution_count": 5,
   "id": "2b9300dc-45be-4987-a053-7f8d14e448bf",
   "metadata": {},
   "outputs": [
    {
     "data": {
      "text/plain": [
       "dtype('int64')"
      ]
     },
     "execution_count": 5,
     "metadata": {},
     "output_type": "execute_result"
    }
   ],
   "source": [
    "a.dtype"
   ]
  },
  {
   "cell_type": "code",
   "execution_count": 6,
   "id": "f4bcb0a7-19ef-4210-9ce1-d6052192ed8a",
   "metadata": {},
   "outputs": [
    {
     "data": {
      "text/plain": [
       "1"
      ]
     },
     "execution_count": 6,
     "metadata": {},
     "output_type": "execute_result"
    }
   ],
   "source": [
    "a.ndim"
   ]
  },
  {
   "cell_type": "code",
   "execution_count": 7,
   "id": "47c762f4-df13-4b3c-a783-4cbc8cb8920b",
   "metadata": {},
   "outputs": [
    {
     "data": {
      "text/plain": [
       "(5,)"
      ]
     },
     "execution_count": 7,
     "metadata": {},
     "output_type": "execute_result"
    }
   ],
   "source": [
    "a.shape"
   ]
  },
  {
   "cell_type": "code",
   "execution_count": 20,
   "id": "1bd04f5a-4d22-47c1-acc5-42d312746577",
   "metadata": {},
   "outputs": [
    {
     "data": {
      "text/plain": [
       "array([[4. , 8. , 3. ],\n",
       "       [6. , 3. , 5. ],\n",
       "       [6. , 8. , 9. ],\n",
       "       [2. , 3. , 4.5]])"
      ]
     },
     "execution_count": 20,
     "metadata": {},
     "output_type": "execute_result"
    }
   ],
   "source": [
    "m = np.array([4,8,3,6,3,5,6,8,9,2,3,4.5]).reshape(4, -1)\n",
    "\n",
    "m"
   ]
  },
  {
   "cell_type": "code",
   "execution_count": 21,
   "id": "a0086ccc-818f-4ec3-a593-ff4c04a26206",
   "metadata": {},
   "outputs": [
    {
     "data": {
      "text/plain": [
       "(4, 3)"
      ]
     },
     "execution_count": 21,
     "metadata": {},
     "output_type": "execute_result"
    }
   ],
   "source": [
    "m.shape"
   ]
  },
  {
   "cell_type": "code",
   "execution_count": 22,
   "id": "680874c4-9fc8-42f4-8f02-7badeaebae3e",
   "metadata": {},
   "outputs": [
    {
     "data": {
      "text/plain": [
       "dtype('float64')"
      ]
     },
     "execution_count": 22,
     "metadata": {},
     "output_type": "execute_result"
    }
   ],
   "source": [
    "m.dtype"
   ]
  },
  {
   "cell_type": "markdown",
   "id": "d00a9277-404a-4e51-b445-48750bb5c11b",
   "metadata": {},
   "source": [
    "#### Indexing & slicing"
   ]
  },
  {
   "cell_type": "code",
   "execution_count": 23,
   "id": "588f58c9-f1ca-4b11-92e6-3c239b1c98aa",
   "metadata": {},
   "outputs": [
    {
     "data": {
      "text/plain": [
       "array([2, 5, 4, 7, 9])"
      ]
     },
     "execution_count": 23,
     "metadata": {},
     "output_type": "execute_result"
    }
   ],
   "source": [
    "a"
   ]
  },
  {
   "cell_type": "code",
   "execution_count": 26,
   "id": "6bcb63a9-11d9-48ca-bd0b-d99986028d24",
   "metadata": {},
   "outputs": [
    {
     "data": {
      "text/plain": [
       "array([4, 7])"
      ]
     },
     "execution_count": 26,
     "metadata": {},
     "output_type": "execute_result"
    }
   ],
   "source": [
    "a[2:4]"
   ]
  },
  {
   "cell_type": "code",
   "execution_count": 27,
   "id": "a3f2a070-0c95-44ed-bb9e-603da20cd9ca",
   "metadata": {},
   "outputs": [
    {
     "data": {
      "text/plain": [
       "array([[4. , 8. , 3. ],\n",
       "       [6. , 3. , 5. ],\n",
       "       [6. , 8. , 9. ],\n",
       "       [2. , 3. , 4.5]])"
      ]
     },
     "execution_count": 27,
     "metadata": {},
     "output_type": "execute_result"
    }
   ],
   "source": [
    "m"
   ]
  },
  {
   "cell_type": "code",
   "execution_count": 30,
   "id": "a17e322c-577b-48cf-938e-44384db14f54",
   "metadata": {},
   "outputs": [
    {
     "data": {
      "text/plain": [
       "array([2. , 3. , 4.5])"
      ]
     },
     "execution_count": 30,
     "metadata": {},
     "output_type": "execute_result"
    }
   ],
   "source": [
    "m[-1]"
   ]
  },
  {
   "cell_type": "code",
   "execution_count": 32,
   "id": "53109cc4-7dc4-4d84-b522-14e7494bdc66",
   "metadata": {},
   "outputs": [
    {
     "data": {
      "text/plain": [
       "np.float64(4.5)"
      ]
     },
     "execution_count": 32,
     "metadata": {},
     "output_type": "execute_result"
    }
   ],
   "source": [
    "m[-1, 2]"
   ]
  },
  {
   "cell_type": "code",
   "execution_count": 34,
   "id": "1370f89c-45e8-4857-a572-2f8f10dc0246",
   "metadata": {},
   "outputs": [
    {
     "data": {
      "text/plain": [
       "np.float64(8.0)"
      ]
     },
     "execution_count": 34,
     "metadata": {},
     "output_type": "execute_result"
    }
   ],
   "source": [
    "m[2, 1]"
   ]
  },
  {
   "cell_type": "code",
   "execution_count": 35,
   "id": "731e4c0d-c4cd-4d7a-8a76-da2286b7b1a8",
   "metadata": {},
   "outputs": [
    {
     "data": {
      "text/plain": [
       "array([[6., 3., 5.],\n",
       "       [6., 8., 9.]])"
      ]
     },
     "execution_count": 35,
     "metadata": {},
     "output_type": "execute_result"
    }
   ],
   "source": [
    "m[1:3]"
   ]
  },
  {
   "cell_type": "code",
   "execution_count": 36,
   "id": "58ab7050-34cf-4172-9de7-b44a7400fc90",
   "metadata": {},
   "outputs": [
    {
     "data": {
      "text/plain": [
       "array([[3., 5.],\n",
       "       [8., 9.]])"
      ]
     },
     "execution_count": 36,
     "metadata": {},
     "output_type": "execute_result"
    }
   ],
   "source": [
    "m[1:3, 1:]"
   ]
  },
  {
   "cell_type": "code",
   "execution_count": 37,
   "id": "0c495a88-cca1-41f9-824f-2097c2be84e0",
   "metadata": {},
   "outputs": [
    {
     "data": {
      "text/plain": [
       "array([[4. , 8. , 3. ],\n",
       "       [6. , 3. , 5. ],\n",
       "       [6. , 8. , 9. ],\n",
       "       [2. , 3. , 4.5]])"
      ]
     },
     "execution_count": 37,
     "metadata": {},
     "output_type": "execute_result"
    }
   ],
   "source": [
    "m"
   ]
  },
  {
   "cell_type": "code",
   "execution_count": 43,
   "id": "a2ff0d7c-b513-4e61-ba99-2aadbc79fbd9",
   "metadata": {},
   "outputs": [
    {
     "data": {
      "text/plain": [
       "array([2, 5, 4, 7, 9])"
      ]
     },
     "execution_count": 43,
     "metadata": {},
     "output_type": "execute_result"
    }
   ],
   "source": [
    "a"
   ]
  },
  {
   "cell_type": "code",
   "execution_count": 44,
   "id": "04a4a999-ba90-445a-9367-ad4d0c03aa93",
   "metadata": {},
   "outputs": [
    {
     "data": {
      "text/plain": [
       "array([4, 2, 9])"
      ]
     },
     "execution_count": 44,
     "metadata": {},
     "output_type": "execute_result"
    }
   ],
   "source": [
    "a[[2, 0, 4]]"
   ]
  },
  {
   "cell_type": "code",
   "execution_count": 56,
   "id": "18bc0e2e-51be-4bef-82f7-1acb0de64b3a",
   "metadata": {},
   "outputs": [
    {
     "data": {
      "text/plain": [
       "array([[2. , 3. , 4.5],\n",
       "       [6. , 8. , 9. ],\n",
       "       [6. , 3. , 5. ]])"
      ]
     },
     "execution_count": 56,
     "metadata": {},
     "output_type": "execute_result"
    }
   ],
   "source": [
    "m[[3,2,1]]"
   ]
  },
  {
   "cell_type": "code",
   "execution_count": 57,
   "id": "c79f4a3b-570a-4e23-b315-3dff1907a17c",
   "metadata": {},
   "outputs": [
    {
     "data": {
      "text/plain": [
       "array([2, 5, 4, 7, 9])"
      ]
     },
     "execution_count": 57,
     "metadata": {},
     "output_type": "execute_result"
    }
   ],
   "source": []
  },
  {
   "cell_type": "code",
   "execution_count": 58,
   "id": "ae7a7435-d0a0-4582-a247-a83842c80d9f",
   "metadata": {},
   "outputs": [
    {
     "data": {
      "text/plain": [
       "array([200, 500, 400, 700, 900])"
      ]
     },
     "execution_count": 58,
     "metadata": {},
     "output_type": "execute_result"
    }
   ],
   "source": [
    "a * 100"
   ]
  },
  {
   "cell_type": "code",
   "execution_count": 62,
   "id": "426c2da0-35cc-445e-9491-98942f2bad8f",
   "metadata": {},
   "outputs": [
    {
     "data": {
      "text/plain": [
       "array([False, False, False, False,  True])"
      ]
     },
     "execution_count": 62,
     "metadata": {},
     "output_type": "execute_result"
    }
   ],
   "source": [
    "a % 3 == 0"
   ]
  },
  {
   "cell_type": "code",
   "execution_count": 65,
   "id": "bf252e64-4371-4610-83c4-f9ad0cbc2ec1",
   "metadata": {},
   "outputs": [
    {
     "data": {
      "text/plain": [
       "array([4, 8])"
      ]
     },
     "execution_count": 65,
     "metadata": {},
     "output_type": "execute_result"
    }
   ],
   "source": [
    "a[a % 2 == 0] * 2"
   ]
  },
  {
   "cell_type": "code",
   "execution_count": 66,
   "id": "484d9772-b7c0-4591-9e0b-a10180cc490b",
   "metadata": {},
   "outputs": [
    {
     "data": {
      "text/plain": [
       "array([7, 9])"
      ]
     },
     "execution_count": 66,
     "metadata": {},
     "output_type": "execute_result"
    }
   ],
   "source": [
    "a[a > 6]"
   ]
  },
  {
   "cell_type": "code",
   "execution_count": 71,
   "id": "3876b399-e4a3-4b7f-8521-ae033f4044a7",
   "metadata": {},
   "outputs": [
    {
     "data": {
      "text/plain": [
       "array([ 4, 25, 16, 49, 81])"
      ]
     },
     "execution_count": 71,
     "metadata": {},
     "output_type": "execute_result"
    }
   ],
   "source": [
    "np.square(a)"
   ]
  },
  {
   "cell_type": "code",
   "execution_count": 76,
   "id": "8579e507-6c57-4972-8488-021c01eb22bf",
   "metadata": {},
   "outputs": [
    {
     "data": {
      "text/plain": [
       "array([2, 5, 4, 7, 9])"
      ]
     },
     "execution_count": 76,
     "metadata": {},
     "output_type": "execute_result"
    }
   ],
   "source": [
    "a"
   ]
  },
  {
   "cell_type": "code",
   "execution_count": 74,
   "id": "bf9717f9-73ba-4d4f-a6e4-d800d822daea",
   "metadata": {},
   "outputs": [
    {
     "data": {
      "text/plain": [
       "array([1, 0, 1, 0, 1])"
      ]
     },
     "execution_count": 74,
     "metadata": {},
     "output_type": "execute_result"
    }
   ],
   "source": [
    "b = np.array([1,0,1,0,1])\n",
    "b"
   ]
  },
  {
   "cell_type": "code",
   "execution_count": 77,
   "id": "b5e8455e-423e-418b-a337-a52c02d2d9d5",
   "metadata": {},
   "outputs": [
    {
     "data": {
      "text/plain": [
       "array([ 3,  5,  5,  7, 10])"
      ]
     },
     "execution_count": 77,
     "metadata": {},
     "output_type": "execute_result"
    }
   ],
   "source": [
    "a + b"
   ]
  },
  {
   "cell_type": "code",
   "execution_count": 78,
   "id": "774b127e-2b30-49de-a9b1-75f7945bc636",
   "metadata": {},
   "outputs": [
    {
     "data": {
      "text/plain": [
       "array([63, 93, 57, 99, 26,  6, 21, 67, 98, 36, 14, 95, 49, 45,  2, 48,  7,\n",
       "       54, 55, 42])"
      ]
     },
     "execution_count": 78,
     "metadata": {},
     "output_type": "execute_result"
    }
   ],
   "source": [
    "np.random.randint(1, 100, 20)"
   ]
  },
  {
   "cell_type": "code",
   "execution_count": 82,
   "id": "566589c4-3e70-49d2-ab61-62a3c3d97fe0",
   "metadata": {},
   "outputs": [],
   "source": [
    "data = np.random.normal(10, 2, 1000)"
   ]
  },
  {
   "cell_type": "code",
   "execution_count": 84,
   "id": "af536f42-616a-4f02-a2c3-bcf8bebdd7a9",
   "metadata": {},
   "outputs": [
    {
     "name": "stdout",
     "output_type": "stream",
     "text": [
      "mean: 10.162137075818308\n",
      "std: 1.9570651936825874\n",
      "min: 4.449853766383945\n",
      "max: 16.233267550199315\n"
     ]
    }
   ],
   "source": [
    "print( 'mean:', np.mean(data) )\n",
    "print( 'std:', np.std(data) )\n",
    "print( 'min:', np.min(data) )\n",
    "print( 'max:', np.max(data) )"
   ]
  },
  {
   "cell_type": "code",
   "execution_count": 85,
   "id": "909e5d77-b96e-4aae-8ebb-7c2cf213966c",
   "metadata": {},
   "outputs": [
    {
     "data": {
      "text/plain": [
       "np.float64(10.162137075818308)"
      ]
     },
     "execution_count": 85,
     "metadata": {},
     "output_type": "execute_result"
    }
   ],
   "source": [
    "data.mean()"
   ]
  },
  {
   "cell_type": "code",
   "execution_count": 86,
   "id": "e34b84b8-de77-4b70-8179-672dcc0734e3",
   "metadata": {},
   "outputs": [
    {
     "name": "stdout",
     "output_type": "stream",
     "text": [
      "8.861469368206095\n",
      "11.394298967551274\n",
      "2.5328295993451793\n"
     ]
    }
   ],
   "source": [
    "q1, q3 = np.quantile(data, [0.25, 0.75])\n",
    "\n",
    "iqr = q3 - q1\n",
    "\n",
    "print(q1)\n",
    "print(q3)\n",
    "print(iqr)"
   ]
  },
  {
   "cell_type": "code",
   "execution_count": 87,
   "id": "9e1fbbfd-851e-4517-9a3a-f6f483941250",
   "metadata": {},
   "outputs": [
    {
     "name": "stdout",
     "output_type": "stream",
     "text": [
      "5.062224969188326\n",
      "15.193543366569042\n"
     ]
    }
   ],
   "source": [
    "lower_limit = q1 - 1.5 * iqr\n",
    "upper_limit = q3 + 1.5 * iqr\n",
    "\n",
    "print(lower_limit)\n",
    "print(upper_limit)"
   ]
  },
  {
   "cell_type": "code",
   "execution_count": 89,
   "id": "a15db16d-4038-40eb-b1b8-7a253108aec7",
   "metadata": {},
   "outputs": [
    {
     "data": {
      "text/plain": [
       "array([ 4.54959235, 15.43178613, 15.94903749, 16.23326755,  4.96353204,\n",
       "       15.37587271,  4.44985377, 15.58591744, 15.57109186])"
      ]
     },
     "execution_count": 89,
     "metadata": {},
     "output_type": "execute_result"
    }
   ],
   "source": [
    "is_outlier = (data < lower_limit) | (data > upper_limit)\n",
    "\n",
    "outliers = data[is_outlier]\n",
    "outliers"
   ]
  },
  {
   "cell_type": "code",
   "execution_count": 92,
   "id": "46376c58-55d7-4947-9d95-baaa5e3f19db",
   "metadata": {},
   "outputs": [],
   "source": [
    "clean = data[~is_outlier].copy()"
   ]
  },
  {
   "cell_type": "code",
   "execution_count": 93,
   "id": "544b2ca4-3e46-4b7a-a708-978634a14744",
   "metadata": {},
   "outputs": [
    {
     "data": {
      "text/plain": [
       "(991,)"
      ]
     },
     "execution_count": 93,
     "metadata": {},
     "output_type": "execute_result"
    }
   ],
   "source": [
    "clean.shape"
   ]
  },
  {
   "cell_type": "code",
   "execution_count": null,
   "id": "2758206c-c517-4114-afdf-aeca8a4f18f8",
   "metadata": {},
   "outputs": [],
   "source": []
  }
 ],
 "metadata": {
  "kernelspec": {
   "display_name": "Conda Base",
   "language": "python",
   "name": "base"
  },
  "language_info": {
   "codemirror_mode": {
    "name": "ipython",
    "version": 3
   },
   "file_extension": ".py",
   "mimetype": "text/x-python",
   "name": "python",
   "nbconvert_exporter": "python",
   "pygments_lexer": "ipython3",
   "version": "3.12.10"
  }
 },
 "nbformat": 4,
 "nbformat_minor": 5
}
