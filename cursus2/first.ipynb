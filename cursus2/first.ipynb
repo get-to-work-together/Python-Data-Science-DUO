{
 "cells": [
  {
   "cell_type": "markdown",
   "id": "1be677a9-c585-4400-af8b-87d859c667ca",
   "metadata": {},
   "source": [
    "# First Jupyter Notebook"
   ]
  },
  {
   "cell_type": "markdown",
   "id": "1362a3d2-4c15-4333-845c-f6a2ffa0231d",
   "metadata": {},
   "source": [
    "### Dit is een voorbeeld van een Jupyter Notebook\n",
    "\n",
    "* Punt A\n",
    "* Punt B\n",
    "* Punt C\n",
    "\n",
    "De link is: https://docs.python.org/3/"
   ]
  },
  {
   "cell_type": "code",
   "execution_count": 1,
   "id": "023b708f-9db8-4d1a-b0f0-0728968250db",
   "metadata": {},
   "outputs": [
    {
     "name": "stdout",
     "output_type": "stream",
     "text": [
      "Hello world \"Hoi\"\n"
     ]
    }
   ],
   "source": [
    "print('Hello world \"Hoi\"')"
   ]
  },
  {
   "cell_type": "code",
   "execution_count": 2,
   "id": "875a9792-e6ad-4409-9711-cd5326bbedf2",
   "metadata": {},
   "outputs": [
    {
     "name": "stdout",
     "output_type": "stream",
     "text": [
      "Hello world Peter's\n"
     ]
    }
   ],
   "source": [
    "print(\"Hello world Peter's\")"
   ]
  },
  {
   "cell_type": "code",
   "execution_count": 3,
   "id": "951369a4-8cad-4c8c-bf16-a5e001777ef9",
   "metadata": {},
   "outputs": [
    {
     "data": {
      "text/plain": [
       "113213"
      ]
     },
     "execution_count": 3,
     "metadata": {},
     "output_type": "execute_result"
    }
   ],
   "source": [
    "23424 + 89789"
   ]
  },
  {
   "cell_type": "code",
   "execution_count": 4,
   "id": "72c60dcc-687b-4b1a-a43a-8ae5f00d627a",
   "metadata": {
    "scrolled": true
   },
   "outputs": [
    {
     "name": "stdout",
     "output_type": "stream",
     "text": [
      "print('Hello world \"Hoi\"')\n",
      "print(\"Hello world Peter's\")\n",
      "23424 + 89789\n",
      "%history\n"
     ]
    }
   ],
   "source": [
    "%history"
   ]
  },
  {
   "cell_type": "markdown",
   "id": "e7137a6c-47d7-44b6-8ed1-1c1cae74751b",
   "metadata": {},
   "source": [
    "## Python Basics"
   ]
  },
  {
   "cell_type": "markdown",
   "id": "56c4a348-b652-42da-ad7f-9aa5dc92a1fb",
   "metadata": {},
   "source": [
    "### Variabelen"
   ]
  },
  {
   "cell_type": "code",
   "execution_count": 5,
   "id": "b2a23bfa-ffc2-4b95-af27-4c280af4f5cd",
   "metadata": {},
   "outputs": [],
   "source": [
    "aantal_autos = 10"
   ]
  },
  {
   "cell_type": "code",
   "execution_count": 6,
   "id": "ccf69879-b358-4364-bbd6-7461b2d0a706",
   "metadata": {},
   "outputs": [
    {
     "name": "stdout",
     "output_type": "stream",
     "text": [
      "10\n"
     ]
    }
   ],
   "source": [
    "print(aantal_autos)"
   ]
  },
  {
   "cell_type": "code",
   "execution_count": 7,
   "id": "d5590019-3538-4892-8115-1292c3bc8495",
   "metadata": {},
   "outputs": [],
   "source": [
    "aantal_autos = aantal_autos + 1"
   ]
  },
  {
   "cell_type": "code",
   "execution_count": 8,
   "id": "a3060fae-5fde-4adf-913d-dce6ff5ee68c",
   "metadata": {},
   "outputs": [
    {
     "name": "stdout",
     "output_type": "stream",
     "text": [
      "11\n"
     ]
    }
   ],
   "source": [
    "print(aantal_autos)"
   ]
  },
  {
   "cell_type": "code",
   "execution_count": 9,
   "id": "07dff368-1f24-44be-b976-1e4aa500da15",
   "metadata": {},
   "outputs": [
    {
     "data": {
      "text/plain": [
       "int"
      ]
     },
     "execution_count": 9,
     "metadata": {},
     "output_type": "execute_result"
    }
   ],
   "source": [
    "type(aantal_autos)"
   ]
  },
  {
   "cell_type": "markdown",
   "id": "adae22a3-03f9-414d-8ec5-974dd9d17268",
   "metadata": {},
   "source": [
    "### Naamgeving - snake_case\n",
    "\n",
    "PEP 8: https://peps.python.org/pep-0008/#introduction"
   ]
  },
  {
   "cell_type": "code",
   "execution_count": 10,
   "id": "08fb4bb9-d26e-46d5-b8d1-740d48eb57f5",
   "metadata": {},
   "outputs": [
    {
     "data": {
      "text/plain": [
       "11"
      ]
     },
     "execution_count": 10,
     "metadata": {},
     "output_type": "execute_result"
    }
   ],
   "source": [
    "aantal_autos"
   ]
  },
  {
   "cell_type": "markdown",
   "id": "1276de1c-446f-4f7f-8ba4-e1175620ec34",
   "metadata": {},
   "source": [
    "### Numerieke operaties"
   ]
  },
  {
   "cell_type": "code",
   "execution_count": 11,
   "id": "c27e9bae-11c0-4d96-af76-dbb67daa310f",
   "metadata": {},
   "outputs": [],
   "source": [
    "getal1 = 38\n",
    "getal2 = 5"
   ]
  },
  {
   "cell_type": "code",
   "execution_count": 12,
   "id": "2e53be01-c2ea-4a24-81fd-122c37d3fc7f",
   "metadata": {},
   "outputs": [
    {
     "data": {
      "text/plain": [
       "43"
      ]
     },
     "execution_count": 12,
     "metadata": {},
     "output_type": "execute_result"
    }
   ],
   "source": [
    "getal1 + getal2"
   ]
  },
  {
   "cell_type": "code",
   "execution_count": 13,
   "id": "b6912338-a673-4dcd-bc9a-1dd901f3da88",
   "metadata": {},
   "outputs": [
    {
     "data": {
      "text/plain": [
       "33"
      ]
     },
     "execution_count": 13,
     "metadata": {},
     "output_type": "execute_result"
    }
   ],
   "source": [
    "getal1 - getal2"
   ]
  },
  {
   "cell_type": "code",
   "execution_count": 14,
   "id": "433cb40c-2c60-4029-bb2c-027b28216d4b",
   "metadata": {},
   "outputs": [
    {
     "data": {
      "text/plain": [
       "190"
      ]
     },
     "execution_count": 14,
     "metadata": {},
     "output_type": "execute_result"
    }
   ],
   "source": [
    "getal1 * getal2"
   ]
  },
  {
   "cell_type": "code",
   "execution_count": 15,
   "id": "b98ac882-ac14-4de5-9f77-23d5959688f6",
   "metadata": {},
   "outputs": [
    {
     "data": {
      "text/plain": [
       "7.6"
      ]
     },
     "execution_count": 15,
     "metadata": {},
     "output_type": "execute_result"
    }
   ],
   "source": [
    "getal1 / getal2"
   ]
  },
  {
   "cell_type": "code",
   "execution_count": 16,
   "id": "374d0f48-2114-42a6-a884-164cbd00ee5b",
   "metadata": {},
   "outputs": [
    {
     "data": {
      "text/plain": [
       "7"
      ]
     },
     "execution_count": 16,
     "metadata": {},
     "output_type": "execute_result"
    }
   ],
   "source": [
    "getal1 // getal2     # floored division"
   ]
  },
  {
   "cell_type": "code",
   "execution_count": 17,
   "id": "7885b304-0456-4c99-9157-1fae5d8a09bd",
   "metadata": {},
   "outputs": [
    {
     "data": {
      "text/plain": [
       "3"
      ]
     },
     "execution_count": 17,
     "metadata": {},
     "output_type": "execute_result"
    }
   ],
   "source": [
    "getal1 % getal2     # remainder after floored division"
   ]
  },
  {
   "cell_type": "code",
   "execution_count": 18,
   "id": "1010b3b4-6b58-4be8-b2a0-58bbb4a5bf89",
   "metadata": {},
   "outputs": [
    {
     "data": {
      "text/plain": [
       "1024"
      ]
     },
     "execution_count": 18,
     "metadata": {},
     "output_type": "execute_result"
    }
   ],
   "source": [
    "2 ** 10"
   ]
  },
  {
   "cell_type": "markdown",
   "id": "52b41e90-bb13-4a6c-b149-5ad448e273bd",
   "metadata": {},
   "source": [
    "### Schrikkeljaar\n",
    "\n",
    "* deelbaar door 4\n",
    "* niet deelbaar door 100\n",
    "* maar wel deelbaar door 400"
   ]
  },
  {
   "cell_type": "code",
   "execution_count": 19,
   "id": "938819cb-d765-4985-ba55-b182499879ae",
   "metadata": {},
   "outputs": [
    {
     "data": {
      "text/plain": [
       "False"
      ]
     },
     "execution_count": 19,
     "metadata": {},
     "output_type": "execute_result"
    }
   ],
   "source": [
    "jaar = 2025\n",
    "\n",
    "is_schrikkeljaar = (jaar % 4 == 0) and not (jaar % 100 == 0) or (jaar % 400 == 0)\n",
    "is_schrikkeljaar"
   ]
  },
  {
   "cell_type": "code",
   "execution_count": 20,
   "id": "ca41fc73-d4fe-433f-9293-65502f35fa05",
   "metadata": {},
   "outputs": [
    {
     "data": {
      "text/plain": [
       "True"
      ]
     },
     "execution_count": 20,
     "metadata": {},
     "output_type": "execute_result"
    }
   ],
   "source": [
    "jaar = 2024\n",
    "\n",
    "is_schrikkeljaar = (jaar % 4 == 0) and not (jaar % 100 == 0) or (jaar % 400 == 0)\n",
    "is_schrikkeljaar"
   ]
  },
  {
   "cell_type": "code",
   "execution_count": 21,
   "id": "1a88bb68-513d-47cc-9119-b04f4a2b8e3f",
   "metadata": {},
   "outputs": [
    {
     "data": {
      "text/plain": [
       "False"
      ]
     },
     "execution_count": 21,
     "metadata": {},
     "output_type": "execute_result"
    }
   ],
   "source": [
    "jaar = 2100\n",
    "\n",
    "is_schrikkeljaar = (jaar % 4 == 0) and not (jaar % 100 == 0) or (jaar % 400 == 0)\n",
    "is_schrikkeljaar"
   ]
  },
  {
   "cell_type": "code",
   "execution_count": 22,
   "id": "d27ab442-8e56-45d6-b339-4c36cbb96c97",
   "metadata": {},
   "outputs": [
    {
     "data": {
      "text/plain": [
       "True"
      ]
     },
     "execution_count": 22,
     "metadata": {},
     "output_type": "execute_result"
    }
   ],
   "source": [
    "jaar = 2000\n",
    "\n",
    "is_schrikkeljaar = (jaar % 4 == 0) and not (jaar % 100 == 0) or (jaar % 400 == 0)\n",
    "is_schrikkeljaar"
   ]
  },
  {
   "cell_type": "markdown",
   "id": "dc10303e-19cb-4cc7-8d14-ca583925815b",
   "metadata": {},
   "source": [
    "### Bereken oppervlakte en omtrek van een cirkel\n",
    "\n",
    "* oppervlakte = π * r ** 2\n",
    "* omtrek = 2 * π * r"
   ]
  },
  {
   "cell_type": "code",
   "execution_count": 23,
   "id": "a033ed7f-0bf8-47c0-af7c-d912e5d858f6",
   "metadata": {},
   "outputs": [],
   "source": [
    "r = 10"
   ]
  },
  {
   "cell_type": "code",
   "execution_count": 24,
   "id": "f23a8777-cb7b-4e30-94ee-9e1a712f42a5",
   "metadata": {},
   "outputs": [],
   "source": [
    "from math import pi"
   ]
  },
  {
   "cell_type": "code",
   "execution_count": 25,
   "id": "f714521e-c5ba-4963-8c26-d7466ca9aa5f",
   "metadata": {},
   "outputs": [],
   "source": [
    "oppervlakte = pi * r ** 2\n",
    "omtrek = 2 * pi * r"
   ]
  },
  {
   "cell_type": "code",
   "execution_count": 26,
   "id": "0b60d9e4-93b3-4cee-b2d2-52587e7e11cc",
   "metadata": {},
   "outputs": [
    {
     "name": "stdout",
     "output_type": "stream",
     "text": [
      "Oppervlakte =  314.1592653589793\n",
      "Omtrek =  62.83185307179586\n"
     ]
    }
   ],
   "source": [
    "print('Oppervlakte = ', oppervlakte)\n",
    "print('Omtrek = ', omtrek)"
   ]
  },
  {
   "cell_type": "code",
   "execution_count": 27,
   "id": "7936470c-c8a9-48c0-875a-b7f53280d713",
   "metadata": {},
   "outputs": [
    {
     "data": {
      "text/plain": [
       "\u001b[31mType:\u001b[39m        float\n",
       "\u001b[31mString form:\u001b[39m 3.141592653589793\n",
       "\u001b[31mDocstring:\u001b[39m   Convert a string or number to a floating-point number, if possible."
      ]
     },
     "metadata": {},
     "output_type": "display_data"
    }
   ],
   "source": [
    "?pi"
   ]
  },
  {
   "cell_type": "markdown",
   "id": "27da7adc-73f5-4bde-8f36-307d3ec8b6d3",
   "metadata": {},
   "source": [
    "### Strings"
   ]
  },
  {
   "cell_type": "code",
   "execution_count": 28,
   "id": "d6ecbbdc-659f-43d0-b8b2-ec53570fdb80",
   "metadata": {},
   "outputs": [],
   "source": [
    "s = 'De snelle vos zit achter de hond aan'"
   ]
  },
  {
   "cell_type": "code",
   "execution_count": 29,
   "id": "6f538862-8bbf-40ab-b232-b59ec6d605c4",
   "metadata": {},
   "outputs": [
    {
     "data": {
      "text/plain": [
       "str"
      ]
     },
     "execution_count": 29,
     "metadata": {},
     "output_type": "execute_result"
    }
   ],
   "source": [
    "type(s)"
   ]
  },
  {
   "cell_type": "markdown",
   "id": "9f87b473-1590-4318-ab8e-8c51ebb20bef",
   "metadata": {},
   "source": [
    "#### String methods"
   ]
  },
  {
   "cell_type": "code",
   "execution_count": 30,
   "id": "76ac2cfa-a387-4d6a-b4ea-7daf259f2e49",
   "metadata": {},
   "outputs": [
    {
     "data": {
      "text/plain": [
       "'DE SNELLE VOS ZIT ACHTER DE HOND AAN'"
      ]
     },
     "execution_count": 30,
     "metadata": {},
     "output_type": "execute_result"
    }
   ],
   "source": [
    "s.upper()"
   ]
  },
  {
   "cell_type": "code",
   "execution_count": 31,
   "id": "d95b5f83-a456-45ed-8dd1-a762f4b48a8d",
   "metadata": {},
   "outputs": [
    {
     "data": {
      "text/plain": [
       "'de snelle vos zit achter de hond aan'"
      ]
     },
     "execution_count": 31,
     "metadata": {},
     "output_type": "execute_result"
    }
   ],
   "source": [
    "s.lower()"
   ]
  },
  {
   "cell_type": "code",
   "execution_count": 32,
   "id": "0399f167-919b-486e-9d50-fad5f7e4e73e",
   "metadata": {},
   "outputs": [
    {
     "data": {
      "text/plain": [
       "'De snelle vos zit achter de hond aan'"
      ]
     },
     "execution_count": 32,
     "metadata": {},
     "output_type": "execute_result"
    }
   ],
   "source": [
    "s.capitalize()"
   ]
  },
  {
   "cell_type": "code",
   "execution_count": 33,
   "id": "18bc1b67-c8ce-43b6-8175-fa05819afda4",
   "metadata": {},
   "outputs": [
    {
     "data": {
      "text/plain": [
       "'De Snelle Vos Zit Achter De Hond Aan'"
      ]
     },
     "execution_count": 33,
     "metadata": {},
     "output_type": "execute_result"
    }
   ],
   "source": [
    "s.title()"
   ]
  },
  {
   "cell_type": "code",
   "execution_count": 34,
   "id": "f65fac00-b4c6-4aa6-a7c9-d2495ca27f88",
   "metadata": {},
   "outputs": [
    {
     "data": {
      "text/plain": [
       "'dE SNELLE VOS ZIT ACHTER DE HOND AAN'"
      ]
     },
     "execution_count": 34,
     "metadata": {},
     "output_type": "execute_result"
    }
   ],
   "source": [
    "s.swapcase()"
   ]
  },
  {
   "cell_type": "code",
   "execution_count": 35,
   "id": "037950ed-229e-44e3-b112-acd6354ef49d",
   "metadata": {},
   "outputs": [
    {
     "data": {
      "text/plain": [
       "'de_snelle_vos_zit_achter_de_hond_aan'"
      ]
     },
     "execution_count": 35,
     "metadata": {},
     "output_type": "execute_result"
    }
   ],
   "source": [
    "s.lower().replace(' ', '_')    # snake_case"
   ]
  },
  {
   "cell_type": "markdown",
   "id": "450d6285-95f3-4e81-b4d7-a604cc307b4d",
   "metadata": {},
   "source": [
    "### String indexing and slicing"
   ]
  },
  {
   "cell_type": "code",
   "execution_count": 36,
   "id": "305a8b4f-af98-46c5-958e-e708b0a9391b",
   "metadata": {},
   "outputs": [
    {
     "data": {
      "text/plain": [
       "10"
      ]
     },
     "execution_count": 36,
     "metadata": {},
     "output_type": "execute_result"
    }
   ],
   "source": [
    "s.find('vos')"
   ]
  },
  {
   "cell_type": "code",
   "execution_count": 37,
   "id": "18e7bf42-249c-4636-a16b-b6386369ec49",
   "metadata": {},
   "outputs": [
    {
     "data": {
      "text/plain": [
       "'De snelle vos zit achter de hond aan'"
      ]
     },
     "execution_count": 37,
     "metadata": {},
     "output_type": "execute_result"
    }
   ],
   "source": [
    "s"
   ]
  },
  {
   "cell_type": "code",
   "execution_count": 38,
   "id": "c131a20b-fe6c-42d3-88f3-572b57b16876",
   "metadata": {},
   "outputs": [
    {
     "data": {
      "text/plain": [
       "'D'"
      ]
     },
     "execution_count": 38,
     "metadata": {},
     "output_type": "execute_result"
    }
   ],
   "source": [
    "s[0]"
   ]
  },
  {
   "cell_type": "code",
   "execution_count": 39,
   "id": "9a537854-63fd-4c9c-9fa4-f1002dad856a",
   "metadata": {},
   "outputs": [
    {
     "data": {
      "text/plain": [
       "'e'"
      ]
     },
     "execution_count": 39,
     "metadata": {},
     "output_type": "execute_result"
    }
   ],
   "source": [
    "s[1]"
   ]
  },
  {
   "cell_type": "code",
   "execution_count": 40,
   "id": "10fbee16-a479-4bb0-868a-60bb4ac3ef9d",
   "metadata": {},
   "outputs": [
    {
     "data": {
      "text/plain": [
       "' '"
      ]
     },
     "execution_count": 40,
     "metadata": {},
     "output_type": "execute_result"
    }
   ],
   "source": [
    "s[2]"
   ]
  },
  {
   "cell_type": "code",
   "execution_count": 41,
   "id": "50ddbcca-32f2-4625-b33b-5bdc15381022",
   "metadata": {},
   "outputs": [
    {
     "data": {
      "text/plain": [
       "'v'"
      ]
     },
     "execution_count": 41,
     "metadata": {},
     "output_type": "execute_result"
    }
   ],
   "source": [
    "s[10]"
   ]
  },
  {
   "cell_type": "code",
   "execution_count": 42,
   "id": "b0174791-7a47-44bc-88dd-c32a45c08ca7",
   "metadata": {},
   "outputs": [
    {
     "data": {
      "text/plain": [
       "'vos'"
      ]
     },
     "execution_count": 42,
     "metadata": {},
     "output_type": "execute_result"
    }
   ],
   "source": [
    "p0 = 10\n",
    "p1 = p0 + 3\n",
    "\n",
    "s[p0:p1]     # end is exclusive!!!!!!"
   ]
  },
  {
   "cell_type": "code",
   "execution_count": 43,
   "id": "d48ab28a-32b9-40e3-a4ad-8b2b77f37af2",
   "metadata": {},
   "outputs": [
    {
     "data": {
      "text/plain": [
       "'aan'"
      ]
     },
     "execution_count": 43,
     "metadata": {},
     "output_type": "execute_result"
    }
   ],
   "source": [
    "s[-3:]"
   ]
  },
  {
   "cell_type": "markdown",
   "id": "91485456-1d0c-40cf-ae46-1a6c5789e64b",
   "metadata": {},
   "source": [
    "### String formatting"
   ]
  },
  {
   "cell_type": "code",
   "execution_count": 44,
   "id": "aee94e98-0eaa-4097-9c45-816281a24cbd",
   "metadata": {},
   "outputs": [],
   "source": [
    "naam = 'Guido'\n",
    "leeftijd = 56"
   ]
  },
  {
   "cell_type": "markdown",
   "id": "fb91b916-0f5e-49b2-987f-da58e070e57c",
   "metadata": {},
   "source": [
    "Guido is 56 jaar oud."
   ]
  },
  {
   "cell_type": "markdown",
   "id": "cd60c3a2-012a-462b-ac53-aa807363ba25",
   "metadata": {},
   "source": [
    "##### concatenation"
   ]
  },
  {
   "cell_type": "code",
   "execution_count": 45,
   "id": "42502a36-4752-48bf-b519-c7f145566018",
   "metadata": {},
   "outputs": [
    {
     "name": "stdout",
     "output_type": "stream",
     "text": [
      "Guido is 56 jaar oud.\n"
     ]
    }
   ],
   "source": [
    "print( naam + ' is ' + str(leeftijd) + ' jaar oud.')"
   ]
  },
  {
   "cell_type": "markdown",
   "id": "c302c643-7638-4933-9a8d-948a0ae0a2c0",
   "metadata": {},
   "source": [
    "##### print function"
   ]
  },
  {
   "cell_type": "code",
   "execution_count": 46,
   "id": "84ec54db-9710-4118-be23-0e958766a9f2",
   "metadata": {},
   "outputs": [
    {
     "name": "stdout",
     "output_type": "stream",
     "text": [
      "Guido is 56 jaar oud.\n"
     ]
    }
   ],
   "source": [
    "print( naam, 'is', leeftijd, 'jaar oud.')"
   ]
  },
  {
   "cell_type": "markdown",
   "id": "9594712d-8adf-402f-865b-196ac78515c3",
   "metadata": {},
   "source": [
    "##### f-string"
   ]
  },
  {
   "cell_type": "code",
   "execution_count": 47,
   "id": "f57a5c89-0d94-4149-aba2-4cbe6d3ac143",
   "metadata": {},
   "outputs": [
    {
     "name": "stdout",
     "output_type": "stream",
     "text": [
      "Guido is 56 jaar oud.\n"
     ]
    }
   ],
   "source": [
    "print( f'{naam} is {leeftijd} jaar oud.' )"
   ]
  },
  {
   "cell_type": "markdown",
   "id": "d82a48a0-6634-4f67-8d79-a89582e4d1fa",
   "metadata": {},
   "source": [
    "##### format method"
   ]
  },
  {
   "cell_type": "code",
   "execution_count": 48,
   "id": "e7701d14-727b-4da3-99b9-f3a0bcb2a11b",
   "metadata": {},
   "outputs": [
    {
     "name": "stdout",
     "output_type": "stream",
     "text": [
      "Guido is 56 jaar oud.\n"
     ]
    }
   ],
   "source": [
    "print( '{} is {} jaar oud.'.format(naam, leeftijd) )"
   ]
  },
  {
   "cell_type": "markdown",
   "id": "dcd9aff8-9219-4ad1-b7f1-ed2063b25e73",
   "metadata": {},
   "source": [
    "##### format operator"
   ]
  },
  {
   "cell_type": "code",
   "execution_count": 49,
   "id": "1ef32c89-ee35-49ac-82f8-ac29e37ccbb9",
   "metadata": {},
   "outputs": [
    {
     "name": "stdout",
     "output_type": "stream",
     "text": [
      "Guido is 56 jaar oud.\n"
     ]
    }
   ],
   "source": [
    "print( '%s is %d jaar oud.' % (naam, leeftijd) )"
   ]
  },
  {
   "cell_type": "markdown",
   "id": "a74d616c-9906-46da-9a67-30277665811f",
   "metadata": {},
   "source": [
    "#### Unicode - utf-8"
   ]
  },
  {
   "cell_type": "code",
   "execution_count": 50,
   "id": "d33eadff-b770-48f5-a26b-dbb0cf4a60e5",
   "metadata": {},
   "outputs": [
    {
     "name": "stdout",
     "output_type": "stream",
     "text": [
      "ሕ\n"
     ]
    }
   ],
   "source": [
    "print( '\\u1215' )"
   ]
  },
  {
   "cell_type": "code",
   "execution_count": 51,
   "id": "12ef03fa-2759-4fa8-b2a7-6fb50d69c02e",
   "metadata": {},
   "outputs": [
    {
     "name": "stdout",
     "output_type": "stream",
     "text": [
      "😀\n"
     ]
    }
   ],
   "source": [
    "print( '\\U0001F600' )"
   ]
  },
  {
   "cell_type": "code",
   "execution_count": 52,
   "id": "ce9a7512-9568-4f7b-a912-676f50dabdf9",
   "metadata": {},
   "outputs": [],
   "source": [
    "s = '😀'"
   ]
  },
  {
   "cell_type": "code",
   "execution_count": 53,
   "id": "7e155357-f339-4eab-9295-8a0332866bc7",
   "metadata": {},
   "outputs": [
    {
     "name": "stdout",
     "output_type": "stream",
     "text": [
      "😀😀😀😀😀😀😀😀😀😀😀😀😀😀😀😀😀😀😀😀\n"
     ]
    }
   ],
   "source": [
    "print( 20 * s )"
   ]
  },
  {
   "cell_type": "markdown",
   "id": "1748bb32-3c79-4346-ba12-f66789a23f7a",
   "metadata": {},
   "source": [
    "### Datastructuren"
   ]
  },
  {
   "cell_type": "markdown",
   "id": "5aea526b-47a6-4e52-80f5-1afae39e9bcd",
   "metadata": {},
   "source": [
    "#### list"
   ]
  },
  {
   "cell_type": "code",
   "execution_count": 54,
   "id": "5edfcbf3-250b-487f-9b80-91f47db33dcd",
   "metadata": {},
   "outputs": [],
   "source": [
    "getallen = [23, 45, 78, 54, 67]"
   ]
  },
  {
   "cell_type": "code",
   "execution_count": 55,
   "id": "7036b09c-5830-48fb-aa2e-3eb583d7da49",
   "metadata": {},
   "outputs": [
    {
     "data": {
      "text/plain": [
       "list"
      ]
     },
     "execution_count": 55,
     "metadata": {},
     "output_type": "execute_result"
    }
   ],
   "source": [
    "type(getallen)"
   ]
  },
  {
   "cell_type": "code",
   "execution_count": 56,
   "id": "ec255b2e-0ea7-467d-8e9c-77aede73ff4c",
   "metadata": {},
   "outputs": [
    {
     "data": {
      "text/plain": [
       "267"
      ]
     },
     "execution_count": 56,
     "metadata": {},
     "output_type": "execute_result"
    }
   ],
   "source": [
    "sum(getallen)"
   ]
  },
  {
   "cell_type": "code",
   "execution_count": 57,
   "id": "b4c7e321-ee4e-40aa-88cc-a22fbf86e416",
   "metadata": {},
   "outputs": [
    {
     "data": {
      "text/plain": [
       "23"
      ]
     },
     "execution_count": 57,
     "metadata": {},
     "output_type": "execute_result"
    }
   ],
   "source": [
    "min(getallen)"
   ]
  },
  {
   "cell_type": "code",
   "execution_count": 58,
   "id": "33f5d082-3fd1-48a6-97fc-6b7ce5e10961",
   "metadata": {},
   "outputs": [
    {
     "data": {
      "text/plain": [
       "78"
      ]
     },
     "execution_count": 58,
     "metadata": {},
     "output_type": "execute_result"
    }
   ],
   "source": [
    "max(getallen)"
   ]
  },
  {
   "cell_type": "code",
   "execution_count": 59,
   "id": "0e39e088-2073-45bd-b284-be581c7e46dd",
   "metadata": {},
   "outputs": [
    {
     "data": {
      "text/plain": [
       "5"
      ]
     },
     "execution_count": 59,
     "metadata": {},
     "output_type": "execute_result"
    }
   ],
   "source": [
    "len(getallen)"
   ]
  },
  {
   "cell_type": "code",
   "execution_count": 60,
   "id": "5c850230-3660-472c-aa10-35ee02563c06",
   "metadata": {},
   "outputs": [
    {
     "data": {
      "text/plain": [
       "53.4"
      ]
     },
     "execution_count": 60,
     "metadata": {},
     "output_type": "execute_result"
    }
   ],
   "source": [
    "gemiddelde = sum(getallen) / len(getallen)\n",
    "gemiddelde"
   ]
  },
  {
   "cell_type": "code",
   "execution_count": 61,
   "id": "72078338-2d9b-4a73-9670-bdf7ea0eaf52",
   "metadata": {},
   "outputs": [],
   "source": [
    "import statistics"
   ]
  },
  {
   "cell_type": "code",
   "execution_count": 62,
   "id": "11f3c163-83f7-4886-9ae1-4ff0d0156404",
   "metadata": {},
   "outputs": [
    {
     "data": {
      "text/plain": [
       "53.4"
      ]
     },
     "execution_count": 62,
     "metadata": {},
     "output_type": "execute_result"
    }
   ],
   "source": [
    "statistics.mean(getallen)"
   ]
  },
  {
   "cell_type": "code",
   "execution_count": 63,
   "id": "5d6c09b2-ea6e-45d9-88a6-ebc26fa0fae0",
   "metadata": {},
   "outputs": [
    {
     "data": {
      "text/plain": [
       "54"
      ]
     },
     "execution_count": 63,
     "metadata": {},
     "output_type": "execute_result"
    }
   ],
   "source": [
    "statistics.median(getallen)"
   ]
  },
  {
   "cell_type": "code",
   "execution_count": 64,
   "id": "6b51c8cc-89ae-4681-a3fe-eec148d53233",
   "metadata": {},
   "outputs": [
    {
     "data": {
      "text/plain": [
       "[23, 45, 54, 67, 78]"
      ]
     },
     "execution_count": 64,
     "metadata": {},
     "output_type": "execute_result"
    }
   ],
   "source": [
    "sorted(getallen)"
   ]
  },
  {
   "cell_type": "code",
   "execution_count": 65,
   "id": "36b721bb-3710-492e-b1e5-e710dafddc7d",
   "metadata": {},
   "outputs": [
    {
     "data": {
      "text/plain": [
       "[23, 45, 78, 54, 67]"
      ]
     },
     "execution_count": 65,
     "metadata": {},
     "output_type": "execute_result"
    }
   ],
   "source": [
    "getallen"
   ]
  },
  {
   "cell_type": "code",
   "execution_count": 66,
   "id": "6755e9da-fbc7-4da8-a63d-ec9e171dba21",
   "metadata": {},
   "outputs": [],
   "source": [
    "getallen.sort()"
   ]
  },
  {
   "cell_type": "code",
   "execution_count": 67,
   "id": "b0d8289a-0cb3-4d4c-9951-b10653d19335",
   "metadata": {},
   "outputs": [
    {
     "data": {
      "text/plain": [
       "[23, 45, 54, 67, 78]"
      ]
     },
     "execution_count": 67,
     "metadata": {},
     "output_type": "execute_result"
    }
   ],
   "source": [
    "getallen"
   ]
  },
  {
   "cell_type": "code",
   "execution_count": 68,
   "id": "0a3f345f-63d9-4d34-95f6-8c0721eaf785",
   "metadata": {},
   "outputs": [],
   "source": [
    "namen = ['Greetje', \n",
    "         'Bo', \n",
    "         'Lisa', \n",
    "         'Istvan', \n",
    "         'Ivon', \n",
    "         'Anko', \n",
    "         'Ruud', \n",
    "         'Miranda',\n",
    "         'Hennie',\n",
    "         'Elsbeth',\n",
    "         'Jan Jaap']"
   ]
  },
  {
   "cell_type": "code",
   "execution_count": 69,
   "id": "408c9903-033e-4d47-8bd0-196a79d81ca1",
   "metadata": {},
   "outputs": [
    {
     "name": "stdout",
     "output_type": "stream",
     "text": [
      "['Greetje',\n",
      " 'Bo',\n",
      " 'Lisa',\n",
      " 'Istvan',\n",
      " 'Ivon',\n",
      " 'Anko',\n",
      " 'Ruud',\n",
      " 'Miranda',\n",
      " 'Hennie',\n",
      " 'Elsbeth',\n",
      " 'Jan Jaap']\n"
     ]
    }
   ],
   "source": [
    "from pprint import pprint\n",
    "pprint(namen)"
   ]
  },
  {
   "cell_type": "code",
   "execution_count": 70,
   "id": "f460e1ea-d31e-4392-8444-3cb134e7c7e1",
   "metadata": {},
   "outputs": [
    {
     "data": {
      "text/plain": [
       "['Anko',\n",
       " 'Bo',\n",
       " 'Elsbeth',\n",
       " 'Greetje',\n",
       " 'Hennie',\n",
       " 'Istvan',\n",
       " 'Ivon',\n",
       " 'Jan Jaap',\n",
       " 'Lisa',\n",
       " 'Miranda',\n",
       " 'Ruud']"
      ]
     },
     "execution_count": 70,
     "metadata": {},
     "output_type": "execute_result"
    }
   ],
   "source": [
    "sorted(namen)"
   ]
  },
  {
   "cell_type": "code",
   "execution_count": 71,
   "id": "65d427a0-8826-4f3d-bfbb-b831ebe8fcc1",
   "metadata": {},
   "outputs": [
    {
     "data": {
      "text/plain": [
       "11"
      ]
     },
     "execution_count": 71,
     "metadata": {},
     "output_type": "execute_result"
    }
   ],
   "source": [
    "len(namen)"
   ]
  },
  {
   "cell_type": "code",
   "execution_count": 72,
   "id": "ab61fcc2-1a6b-48aa-87e2-54bfff12e4c2",
   "metadata": {},
   "outputs": [],
   "source": [
    "namen.append('Peter')"
   ]
  },
  {
   "cell_type": "code",
   "execution_count": 73,
   "id": "183b9aeb-6765-417a-9c48-24981d8acd35",
   "metadata": {},
   "outputs": [
    {
     "data": {
      "text/plain": [
       "['Greetje',\n",
       " 'Bo',\n",
       " 'Lisa',\n",
       " 'Istvan',\n",
       " 'Ivon',\n",
       " 'Anko',\n",
       " 'Ruud',\n",
       " 'Miranda',\n",
       " 'Hennie',\n",
       " 'Elsbeth',\n",
       " 'Jan Jaap',\n",
       " 'Peter']"
      ]
     },
     "execution_count": 73,
     "metadata": {},
     "output_type": "execute_result"
    }
   ],
   "source": [
    "namen"
   ]
  },
  {
   "cell_type": "code",
   "execution_count": 74,
   "id": "9a3a6a8c-6ae1-41c7-82f4-f59e0aef8947",
   "metadata": {},
   "outputs": [],
   "source": [
    "namen.insert(0, 'Peter')"
   ]
  },
  {
   "cell_type": "code",
   "execution_count": 75,
   "id": "b87b54c0-d309-4fdd-9e2c-ad83633324d2",
   "metadata": {},
   "outputs": [
    {
     "data": {
      "text/plain": [
       "['Peter',\n",
       " 'Greetje',\n",
       " 'Bo',\n",
       " 'Lisa',\n",
       " 'Istvan',\n",
       " 'Ivon',\n",
       " 'Anko',\n",
       " 'Ruud',\n",
       " 'Miranda',\n",
       " 'Hennie',\n",
       " 'Elsbeth',\n",
       " 'Jan Jaap',\n",
       " 'Peter']"
      ]
     },
     "execution_count": 75,
     "metadata": {},
     "output_type": "execute_result"
    }
   ],
   "source": [
    "namen"
   ]
  },
  {
   "cell_type": "code",
   "execution_count": 76,
   "id": "4ae4ce68-9214-4f08-a423-6be10badc5ed",
   "metadata": {},
   "outputs": [
    {
     "data": {
      "text/plain": [
       "7"
      ]
     },
     "execution_count": 76,
     "metadata": {},
     "output_type": "execute_result"
    }
   ],
   "source": [
    "namen.index('Ruud')"
   ]
  },
  {
   "cell_type": "code",
   "execution_count": 77,
   "id": "c0d0805c-d8df-45f7-b4b8-04aca79bfd79",
   "metadata": {},
   "outputs": [],
   "source": [
    "del namen[-1]"
   ]
  },
  {
   "cell_type": "code",
   "execution_count": 78,
   "id": "e6148a01-d6b8-4e07-9ad3-fb176955595a",
   "metadata": {},
   "outputs": [
    {
     "data": {
      "text/plain": [
       "['Peter',\n",
       " 'Greetje',\n",
       " 'Bo',\n",
       " 'Lisa',\n",
       " 'Istvan',\n",
       " 'Ivon',\n",
       " 'Anko',\n",
       " 'Ruud',\n",
       " 'Miranda',\n",
       " 'Hennie',\n",
       " 'Elsbeth',\n",
       " 'Jan Jaap']"
      ]
     },
     "execution_count": 78,
     "metadata": {},
     "output_type": "execute_result"
    }
   ],
   "source": [
    "namen"
   ]
  },
  {
   "cell_type": "code",
   "execution_count": 79,
   "id": "f2629156-2095-4d07-a0aa-99f14b22b18a",
   "metadata": {},
   "outputs": [
    {
     "data": {
      "text/plain": [
       "'Peter'"
      ]
     },
     "execution_count": 79,
     "metadata": {},
     "output_type": "execute_result"
    }
   ],
   "source": [
    "namen.pop(0)"
   ]
  },
  {
   "cell_type": "code",
   "execution_count": 80,
   "id": "f029da15-c53e-4442-96de-1f9d529de981",
   "metadata": {},
   "outputs": [
    {
     "data": {
      "text/plain": [
       "['Greetje',\n",
       " 'Bo',\n",
       " 'Lisa',\n",
       " 'Istvan',\n",
       " 'Ivon',\n",
       " 'Anko',\n",
       " 'Ruud',\n",
       " 'Miranda',\n",
       " 'Hennie',\n",
       " 'Elsbeth',\n",
       " 'Jan Jaap']"
      ]
     },
     "execution_count": 80,
     "metadata": {},
     "output_type": "execute_result"
    }
   ],
   "source": [
    "namen"
   ]
  },
  {
   "cell_type": "code",
   "execution_count": 81,
   "id": "617b6f66-53c7-44b0-b073-5097a567b710",
   "metadata": {},
   "outputs": [],
   "source": [
    "namen.append('Peter')"
   ]
  },
  {
   "cell_type": "code",
   "execution_count": 82,
   "id": "dcf882e6-b7b1-48ff-b46f-68ed3e051292",
   "metadata": {},
   "outputs": [
    {
     "data": {
      "text/plain": [
       "['Greetje',\n",
       " 'Bo',\n",
       " 'Lisa',\n",
       " 'Istvan',\n",
       " 'Ivon',\n",
       " 'Anko',\n",
       " 'Ruud',\n",
       " 'Miranda',\n",
       " 'Hennie',\n",
       " 'Elsbeth',\n",
       " 'Jan Jaap',\n",
       " 'Peter']"
      ]
     },
     "execution_count": 82,
     "metadata": {},
     "output_type": "execute_result"
    }
   ],
   "source": [
    "namen"
   ]
  },
  {
   "cell_type": "code",
   "execution_count": 83,
   "id": "e0623531-2aef-47e9-bb0f-dda1903ceafc",
   "metadata": {},
   "outputs": [],
   "source": [
    "del namen[-3:]"
   ]
  },
  {
   "cell_type": "code",
   "execution_count": 84,
   "id": "330248b2-65de-4d40-8643-5440d727b2eb",
   "metadata": {},
   "outputs": [
    {
     "data": {
      "text/plain": [
       "['Greetje',\n",
       " 'Bo',\n",
       " 'Lisa',\n",
       " 'Istvan',\n",
       " 'Ivon',\n",
       " 'Anko',\n",
       " 'Ruud',\n",
       " 'Miranda',\n",
       " 'Hennie']"
      ]
     },
     "execution_count": 84,
     "metadata": {},
     "output_type": "execute_result"
    }
   ],
   "source": [
    "namen"
   ]
  },
  {
   "cell_type": "code",
   "execution_count": 85,
   "id": "3e70449f-bfce-4c42-b4ae-0ef09b462cc8",
   "metadata": {},
   "outputs": [],
   "source": [
    "namen.append('Peter')"
   ]
  },
  {
   "cell_type": "code",
   "execution_count": 86,
   "id": "ec45f0c8-79e3-4871-b153-6cec6b922088",
   "metadata": {},
   "outputs": [
    {
     "data": {
      "text/plain": [
       "['Greetje',\n",
       " 'Bo',\n",
       " 'Lisa',\n",
       " 'Istvan',\n",
       " 'Ivon',\n",
       " 'Anko',\n",
       " 'Ruud',\n",
       " 'Miranda',\n",
       " 'Hennie',\n",
       " 'Peter']"
      ]
     },
     "execution_count": 86,
     "metadata": {},
     "output_type": "execute_result"
    }
   ],
   "source": [
    "namen"
   ]
  },
  {
   "cell_type": "code",
   "execution_count": 87,
   "id": "cfa0bcf2-93ad-4fd5-b118-8ba5d4654acd",
   "metadata": {},
   "outputs": [],
   "source": [
    "namen.remove('Peter')"
   ]
  },
  {
   "cell_type": "code",
   "execution_count": 88,
   "id": "0af87413-739d-439f-b606-a63d6fa7e434",
   "metadata": {},
   "outputs": [
    {
     "data": {
      "text/plain": [
       "['Greetje',\n",
       " 'Bo',\n",
       " 'Lisa',\n",
       " 'Istvan',\n",
       " 'Ivon',\n",
       " 'Anko',\n",
       " 'Ruud',\n",
       " 'Miranda',\n",
       " 'Hennie']"
      ]
     },
     "execution_count": 88,
     "metadata": {},
     "output_type": "execute_result"
    }
   ],
   "source": [
    "namen"
   ]
  },
  {
   "cell_type": "markdown",
   "id": "f58a5381-720f-48be-bf1d-387fdcec11f5",
   "metadata": {},
   "source": [
    "### Flow Control"
   ]
  },
  {
   "cell_type": "markdown",
   "id": "82630fc3-8c4f-4382-8b8f-7563db64859e",
   "metadata": {},
   "source": [
    "#### Looping"
   ]
  },
  {
   "cell_type": "code",
   "execution_count": 90,
   "id": "aba5f758-4fb2-4f58-9b29-8817a1baa615",
   "metadata": {},
   "outputs": [
    {
     "name": "stdout",
     "output_type": "stream",
     "text": [
      "1 G...e\n",
      "2 B...o\n",
      "3 L...a\n",
      "4 I...n\n",
      "5 I...n\n",
      "6 A...o\n",
      "7 R...d\n",
      "8 M...a\n",
      "9 H...e\n",
      "OK\n"
     ]
    }
   ],
   "source": [
    "teller = 0\n",
    "for naam in namen:\n",
    "    teller = teller + 1\n",
    "    print(f'{teller} {naam[0]}...{naam[-1]}')\n",
    "    \n",
    "print('OK')"
   ]
  },
  {
   "cell_type": "code",
   "execution_count": 91,
   "id": "724ea154-9dc5-472d-a7b8-d50727908735",
   "metadata": {},
   "outputs": [
    {
     "name": "stdout",
     "output_type": "stream",
     "text": [
      "1\n",
      "2\n",
      "3\n",
      "4\n",
      "5\n",
      "6\n",
      "7\n",
      "8\n",
      "9\n",
      "10\n",
      "55\n"
     ]
    }
   ],
   "source": [
    "som = 0\n",
    "for i in range(1, 11):\n",
    "    som += i\n",
    "    print(i)\n",
    "\n",
    "print(som)"
   ]
  },
  {
   "cell_type": "code",
   "execution_count": 92,
   "id": "6a3206e5-d5bb-4421-a812-6d1596652cd7",
   "metadata": {},
   "outputs": [
    {
     "name": "stdout",
     "output_type": "stream",
     "text": [
      "Hoi\n",
      "Hoi\n",
      "Hoi\n",
      "Hoi\n",
      "Hoi\n",
      "Hoi\n",
      "Hoi\n",
      "Hoi\n",
      "Hoi\n",
      "Hoi\n"
     ]
    }
   ],
   "source": [
    "for _ in range(10):\n",
    "    print('Hoi')"
   ]
  },
  {
   "cell_type": "markdown",
   "id": "acb4da46-7572-4f33-92f6-9cee41106ca0",
   "metadata": {},
   "source": [
    "## Opdracht dobbelstenen\n",
    "\n",
    "Gooi 5 dobbelstenen en laat zien wat er gegooid is en wat het totaal is.\n",
    "Meld na het gooien of dit boven of beneden gemiddeld is.\n",
    "\n",
    "* Tip 1: import random; dobbelsteen = random.randint(1, 6)\n",
    "\n",
    "* Tip 2: Gebruik een list. Bv. dobbelstenen = []"
   ]
  },
  {
   "cell_type": "code",
   "execution_count": 115,
   "id": "f4d6445a-eea5-4138-85f5-c3df307bfd95",
   "metadata": {},
   "outputs": [
    {
     "name": "stdout",
     "output_type": "stream",
     "text": [
      "Gegooid: [1, 4, 1, 6, 1]\n",
      "Totaal: 13\n",
      "Dit is beneden het gemiddelde.\n"
     ]
    }
   ],
   "source": [
    "# imports\n",
    "import random\n",
    "\n",
    "# setup\n",
    "aantal_dobbelstenen = 5\n",
    "\n",
    "# berekeningen, verwerking\n",
    "dobbelstenen = []\n",
    "for _ in range(aantal_dobbelstenen):\n",
    "    worp = random.randint(1, 6)\n",
    "    dobbelstenen.append(worp)\n",
    "\n",
    "is_bovengemiddeld = sum(dobbelstenen) > (aantal_dobbelstenen * 3.5)\n",
    "\n",
    "# uitvoer\n",
    "print(f'Gegooid: {dobbelstenen}')\n",
    "print(f'Totaal: {sum(dobbelstenen)}')\n",
    "\n",
    "if is_bovengemiddeld:\n",
    "    print('Dit is boven het gemiddelde.')\n",
    "else:\n",
    "    print('Dit is beneden het gemiddelde.')"
   ]
  },
  {
   "cell_type": "markdown",
   "id": "175be1d7-f4b9-4002-8864-cd9eaa19363b",
   "metadata": {},
   "source": [
    "#### Conditionele statement: if"
   ]
  },
  {
   "cell_type": "code",
   "execution_count": 102,
   "id": "c5db927d-7fd4-4a71-a43a-e371ee48fda3",
   "metadata": {},
   "outputs": [
    {
     "name": "stdout",
     "output_type": "stream",
     "text": [
      "Jongedame ...\n",
      "Hoe gaat het?\n"
     ]
    }
   ],
   "source": [
    "leeftijd = 14\n",
    "geslacht = 'v'\n",
    "\n",
    "if geslacht == 'm':\n",
    "    if leeftijd >= 21:\n",
    "        print('Meneer ...')\n",
    "    else:\n",
    "        print('Jongeman ...')\n",
    "\n",
    "elif geslacht == 'v':\n",
    "    if leeftijd >= 21:\n",
    "        print('Mevrouw ...')\n",
    "    else:\n",
    "        print('Jongedame ...')\n",
    "\n",
    "else:\n",
    "    print('Beste ...')\n",
    "\n",
    "print('Hoe gaat het?')"
   ]
  },
  {
   "cell_type": "code",
   "execution_count": 105,
   "id": "5fe78b0c-5eac-4822-867f-6a78d28d6d70",
   "metadata": {},
   "outputs": [
    {
     "name": "stdout",
     "output_type": "stream",
     "text": [
      "Mevrouw ...\n"
     ]
    }
   ],
   "source": [
    "match geslacht:\n",
    "    case 'm':\n",
    "        print('Meneer ...')\n",
    "    case 'v' | 'f':\n",
    "        print('Mevrouw ...')\n",
    "    case _:\n",
    "        print('Beste ...')"
   ]
  },
  {
   "cell_type": "markdown",
   "id": "f9ec6ca3-dad8-4213-a55b-349a7a1e258d",
   "metadata": {},
   "source": [
    "### Data - zoek outliers\n",
    "\n",
    "Stappen:\n",
    "* Genereer 1000 data punten. Normaal verdeelt met een gemiddelde van 10 en een standaard deviatie van 2. Gebruik de random bibliotheek.\n",
    "* Voeg enkele outliers aan de data toe. Dus waarden > 20.\n",
    "* Bereken gemiddelde en standaard deviatie van de data\n",
    "* Plot boxplot met matplotlib\n",
    "* Bereken Q1 en Q3 met statistics bibliotheek\n",
    "* Bereken IQR = Q3 - Q1\n",
    "* Bereken ondergrens = Q1 - 1.5 * IQR\n",
    "* Bereken bovengrens = Q3 + 1.5 * IQR\n",
    "* Zoek in een for-loop naar de datapunten kleiner dan de ondergrens of groter dan de bovengrens"
   ]
  },
  {
   "cell_type": "code",
   "execution_count": 189,
   "id": "d8a8cb81-9888-476d-a88d-4bfe21a1559b",
   "metadata": {},
   "outputs": [],
   "source": [
    "import random\n",
    "\n",
    "n = 1000\n",
    "gemiddelde = 10\n",
    "standaard_deviatie = 2\n",
    "\n",
    "data = []\n",
    "for _ in range(n):\n",
    "    data.append( random.gauss(mu=gemiddelde, sigma=standaard_deviatie) )"
   ]
  },
  {
   "cell_type": "code",
   "execution_count": 190,
   "id": "c630b9a4-e34f-4e2a-9e94-d96ed6ee530a",
   "metadata": {},
   "outputs": [
    {
     "name": "stdout",
     "output_type": "stream",
     "text": [
      "Beschrijvende statistiek\n",
      "Aantal punten      :    1000\n",
      "Minimum            :   3.855\n",
      "Maximum            :  16.693\n",
      "Gemiddelde         :   9.958\n",
      "Standaard deviatie :   1.997\n"
     ]
    }
   ],
   "source": [
    "import statistics\n",
    "\n",
    "print( 'Beschrijvende statistiek' )\n",
    "print( f'Aantal punten      : {len(data):7}')\n",
    "print( f'Minimum            : {min(data):7.3f}')\n",
    "print( f'Maximum            : {max(data):7.3f}')\n",
    "print( f'Gemiddelde         : {statistics.mean(data):7.3f}')\n",
    "print( f'Standaard deviatie : {statistics.stdev(data):7.3f}')"
   ]
  },
  {
   "cell_type": "code",
   "execution_count": 191,
   "id": "3c690037-3bc7-421d-b89a-d2483be57c0b",
   "metadata": {},
   "outputs": [],
   "source": [
    "import matplotlib.pyplot as plt"
   ]
  },
  {
   "cell_type": "code",
   "execution_count": 192,
   "id": "a9b1d1bb-0241-4bc2-b04d-ff6e99a60501",
   "metadata": {},
   "outputs": [
    {
     "data": {
      "image/png": "[encoded data removed]",
      "text/plain": [
       "<Figure size 800x300 with 1 Axes>"
      ]
     },
     "metadata": {},
     "output_type": "display_data"
    }
   ],
   "source": [
    "plt.figure(figsize=(8, 3))\n",
    "plt.boxplot(data)\n",
    "plt.show()"
   ]
  },
  {
   "cell_type": "code",
   "execution_count": 193,
   "id": "cb4c9e9f-5bbc-46f5-839a-82b1d61d204a",
   "metadata": {},
   "outputs": [
    {
     "data": {
      "image/png": "[encoded data removed]",
      "text/plain": [
       "<Figure size 800x300 with 1 Axes>"
      ]
     },
     "metadata": {},
     "output_type": "display_data"
    }
   ],
   "source": [
    "plt.figure(figsize=(8, 3))\n",
    "plt.hist(data, bins=30)\n",
    "plt.grid()\n",
    "plt.show()"
   ]
  },
  {
   "cell_type": "code",
   "execution_count": 194,
   "id": "c365d0ed-706f-42f0-986f-e0a9e4e1e21a",
   "metadata": {},
   "outputs": [
    {
     "name": "stdout",
     "output_type": "stream",
     "text": [
      "Q1          :   8.475\n",
      "Q3          :  11.328\n",
      "IQR         :   2.853\n",
      "Lower bound :   4.196\n",
      "Upper bound :  15.607\n",
      "Outliers:\n",
      "15.944459573824936\n",
      "16.351816869069186\n",
      "15.69569225084119\n",
      "3.8903564674565194\n",
      "15.784019528598334\n",
      "16.692618732648523\n",
      "3.854880990003764\n"
     ]
    }
   ],
   "source": [
    "quartiles = statistics.quantiles(data, n=4)\n",
    "q1 = quartiles[0]\n",
    "q3 = quartiles[2]\n",
    "\n",
    "iqr = q3 - q1\n",
    "\n",
    "lower_bound = q1 - 1.5 * iqr\n",
    "upper_bound = q3 + 1.5 * iqr\n",
    "\n",
    "print(f'Q1          : {q1:7.3f}')\n",
    "print(f'Q3          : {q3:7.3f}')\n",
    "print(f'IQR         : {iqr:7.3f}')\n",
    "print(f'Lower bound : {lower_bound:7.3f}')\n",
    "print(f'Upper bound : {upper_bound:7.3f}')\n",
    "\n",
    "outliers = []\n",
    "for x in data:\n",
    "    if x < lower_bound or x > upper_bound:\n",
    "        outliers.append(x)\n",
    "\n",
    "print('Outliers:')\n",
    "for outlier in outliers:\n",
    "    print(outlier)"
   ]
  },
  {
   "cell_type": "code",
   "execution_count": 195,
   "id": "8b6be575-7c0c-411d-b418-8871de13e819",
   "metadata": {},
   "outputs": [
    {
     "name": "stdout",
     "output_type": "stream",
     "text": [
      "1000\n",
      "7\n",
      "993\n"
     ]
    }
   ],
   "source": [
    "clean = data.copy()\n",
    "for outlier in outliers:\n",
    "    clean.remove(outlier)\n",
    "\n",
    "print(len(data))\n",
    "print(len(outliers))\n",
    "print(len(clean))"
   ]
  },
  {
   "cell_type": "markdown",
   "id": "6c9269e7-71fd-4e4f-beab-0ed0c2b6914d",
   "metadata": {},
   "source": [
    "### Dictionary - key value pair"
   ]
  },
  {
   "cell_type": "code",
   "execution_count": 196,
   "id": "6334d953-35d0-4502-a3b2-b0bfc3c61901",
   "metadata": {},
   "outputs": [],
   "source": [
    "d = {'groningen': '050', \n",
    "     'amsterdam': '020',\n",
    "     'utrecht': '030',\n",
    "     'den haag': '070'}"
   ]
  },
  {
   "cell_type": "code",
   "execution_count": 197,
   "id": "e91c2a92-e839-43fe-bcf7-d293fa9cbf27",
   "metadata": {},
   "outputs": [
    {
     "data": {
      "text/plain": [
       "dict"
      ]
     },
     "execution_count": 197,
     "metadata": {},
     "output_type": "execute_result"
    }
   ],
   "source": [
    "type(d)"
   ]
  },
  {
   "cell_type": "code",
   "execution_count": 198,
   "id": "cc3f2876-11da-48b9-9879-14f422752fb1",
   "metadata": {},
   "outputs": [
    {
     "data": {
      "text/plain": [
       "'050'"
      ]
     },
     "execution_count": 198,
     "metadata": {},
     "output_type": "execute_result"
    }
   ],
   "source": [
    "d['groningen']"
   ]
  },
  {
   "cell_type": "code",
   "execution_count": 199,
   "id": "a94704e5-13e2-4d1b-a375-f0a1ba9aae2d",
   "metadata": {},
   "outputs": [],
   "source": [
    "d['rotterdam'] = '010'"
   ]
  },
  {
   "cell_type": "code",
   "execution_count": 200,
   "id": "15232996-6e67-4e38-9ba0-44535087b40b",
   "metadata": {},
   "outputs": [
    {
     "data": {
      "text/plain": [
       "{'groningen': '050',\n",
       " 'amsterdam': '020',\n",
       " 'utrecht': '030',\n",
       " 'den haag': '070',\n",
       " 'rotterdam': '010'}"
      ]
     },
     "execution_count": 200,
     "metadata": {},
     "output_type": "execute_result"
    }
   ],
   "source": [
    "d"
   ]
  },
  {
   "cell_type": "code",
   "execution_count": 207,
   "id": "8988c6fe-5596-4f22-86cb-402d27decf1f",
   "metadata": {},
   "outputs": [
    {
     "data": {
      "text/plain": [
       "'????'"
      ]
     },
     "execution_count": 207,
     "metadata": {},
     "output_type": "execute_result"
    }
   ],
   "source": [
    "d.get('assen', '????')"
   ]
  },
  {
   "cell_type": "code",
   "execution_count": 209,
   "id": "38ecdb20-1a1b-4ea5-b645-c20c717046bc",
   "metadata": {},
   "outputs": [
    {
     "data": {
      "text/plain": [
       "['groningen', 'amsterdam', 'utrecht', 'den haag', 'rotterdam']"
      ]
     },
     "execution_count": 209,
     "metadata": {},
     "output_type": "execute_result"
    }
   ],
   "source": [
    "list(d.keys())"
   ]
  },
  {
   "cell_type": "code",
   "execution_count": 210,
   "id": "4742923d-799e-4747-b1fa-b385c8462d58",
   "metadata": {},
   "outputs": [
    {
     "data": {
      "text/plain": [
       "['050', '020', '030', '070', '010']"
      ]
     },
     "execution_count": 210,
     "metadata": {},
     "output_type": "execute_result"
    }
   ],
   "source": [
    "list(d.values())"
   ]
  },
  {
   "cell_type": "code",
   "execution_count": 214,
   "id": "d769c123-417a-4215-a443-dff9ede7503a",
   "metadata": {},
   "outputs": [
    {
     "name": "stdout",
     "output_type": "stream",
     "text": [
      "groningen      : 050  \n",
      "amsterdam      : 020  \n",
      "utrecht        : 030  \n",
      "den haag       : 070  \n",
      "rotterdam      : 010  \n"
     ]
    }
   ],
   "source": [
    "for item in d.items():\n",
    "    k = item[0]\n",
    "    v = item[1]\n",
    "    print(f'{k:15}: {v:5}')"
   ]
  },
  {
   "cell_type": "markdown",
   "id": "c918d864-87ee-494c-a996-23d1e09b630e",
   "metadata": {},
   "source": [
    "### Tel de klinkers in een tekst\n",
    "\n",
    "* maak een str variabele met tekst\n",
    "* maak een lege dict\n",
    "* loop door de klinkers a e i o u\n",
    "* tel hoevaak die klinker voorkomt in de tekst\n",
    "* plaats dat in de dict met de klinker als key en het aantal als value\n",
    "* print het resultaat"
   ]
  },
  {
   "cell_type": "code",
   "execution_count": 218,
   "id": "9da957c6-588c-45ce-b81a-0c2993939fe8",
   "metadata": {},
   "outputs": [
    {
     "name": "stdout",
     "output_type": "stream",
     "text": [
      "{'a': 4, 'e': 8, 'i': 4, 'o': 1, 'u': 0}\n"
     ]
    }
   ],
   "source": [
    "tekst = \"die is best een aardige vergaderlocatie\"\n",
    "\n",
    "d = {}\n",
    "for klinker in ['a', 'e', 'i', 'o', 'u']:\n",
    "    n = tekst.count(klinker)\n",
    "    d[klinker] = n\n",
    "\n",
    "print(d)"
   ]
  },
  {
   "cell_type": "code",
   "execution_count": 219,
   "id": "dd1837f8-f634-46d7-a383-3d3c99c9c3c8",
   "metadata": {},
   "outputs": [
    {
     "name": "stdout",
     "output_type": "stream",
     "text": [
      "{'a': 4, 'e': 8, 'i': 4, 'o': 1, 'u': 0}\n"
     ]
    }
   ],
   "source": [
    "d = {'a': 0, 'e': 0, 'i': 0, 'o': 0, 'u': 0}\n",
    "for letter in tekst:\n",
    "    if letter in d:\n",
    "        d[letter] += 1\n",
    "\n",
    "print(d)"
   ]
  },
  {
   "cell_type": "code",
   "execution_count": 221,
   "id": "b363e069-da84-42ba-b09e-3d6869cd53e0",
   "metadata": {},
   "outputs": [
    {
     "name": "stdout",
     "output_type": "stream",
     "text": [
      "{'i': 4, 'e': 8, 'a': 4, 'o': 1}\n"
     ]
    }
   ],
   "source": [
    "d = {}\n",
    "for letter in tekst:\n",
    "    if letter in 'aeiou':\n",
    "        d[letter] = d.get(letter, 0) + 1\n",
    "\n",
    "print(d)"
   ]
  },
  {
   "cell_type": "code",
   "execution_count": 227,
   "id": "74dd455a-89eb-4813-a530-9b666640965d",
   "metadata": {},
   "outputs": [
    {
     "name": "stdout",
     "output_type": "stream",
     "text": [
      "7\n",
      "3\n",
      "(7, 3)\n"
     ]
    }
   ],
   "source": [
    "print( 38 // 5 )\n",
    "print( 38 % 5 )\n",
    "\n",
    "print( divmod(38, 5) )"
   ]
  },
  {
   "cell_type": "code",
   "execution_count": 229,
   "id": "3f817222-ce8a-41c1-855e-da6435a4d9c1",
   "metadata": {},
   "outputs": [
    {
     "data": {
      "text/plain": [
       "{2, 3, 4, 5}"
      ]
     },
     "execution_count": 229,
     "metadata": {},
     "output_type": "execute_result"
    }
   ],
   "source": [
    "st = {2, 3, 4, 5, 5, 5, 5, 5}\n",
    "st"
   ]
  },
  {
   "cell_type": "code",
   "execution_count": 230,
   "id": "457b22eb-0a66-485a-8310-dc602f7be7ed",
   "metadata": {},
   "outputs": [],
   "source": [
    "st.add(9)"
   ]
  },
  {
   "cell_type": "code",
   "execution_count": 231,
   "id": "43a8043e-2e6d-48b5-bdf3-c33f26ecc77f",
   "metadata": {},
   "outputs": [
    {
     "data": {
      "text/plain": [
       "{2, 3, 4, 5, 9}"
      ]
     },
     "execution_count": 231,
     "metadata": {},
     "output_type": "execute_result"
    }
   ],
   "source": [
    "st"
   ]
  },
  {
   "cell_type": "code",
   "execution_count": 232,
   "id": "81d08d9f-50d4-43da-9c98-ca70402ced72",
   "metadata": {},
   "outputs": [],
   "source": [
    "st.add(9)"
   ]
  },
  {
   "cell_type": "code",
   "execution_count": 233,
   "id": "083e14ca-0364-49ba-b770-b333913c92ce",
   "metadata": {},
   "outputs": [
    {
     "data": {
      "text/plain": [
       "{2, 3, 4, 5, 9}"
      ]
     },
     "execution_count": 233,
     "metadata": {},
     "output_type": "execute_result"
    }
   ],
   "source": [
    "st"
   ]
  },
  {
   "cell_type": "code",
   "execution_count": 237,
   "id": "a843d992-ad4b-4bc7-a0ee-3e75b331fabc",
   "metadata": {},
   "outputs": [],
   "source": [
    "st.discard(9)"
   ]
  },
  {
   "cell_type": "code",
   "execution_count": 235,
   "id": "afc9749b-9d64-4f0c-8a6e-f5255c9b1693",
   "metadata": {},
   "outputs": [
    {
     "data": {
      "text/plain": [
       "{2, 3, 4, 5}"
      ]
     },
     "execution_count": 235,
     "metadata": {},
     "output_type": "execute_result"
    }
   ],
   "source": [
    "st"
   ]
  },
  {
   "cell_type": "code",
   "execution_count": 238,
   "id": "7a13776b-27fa-43dc-bcfe-bcc3308614e9",
   "metadata": {},
   "outputs": [
    {
     "data": {
      "text/plain": [
       "'die is best een aardige vergaderlocatie'"
      ]
     },
     "execution_count": 238,
     "metadata": {},
     "output_type": "execute_result"
    }
   ],
   "source": [
    "tekst"
   ]
  },
  {
   "cell_type": "code",
   "execution_count": 241,
   "id": "1f7ee7f1-f947-4df4-bdad-1b859f4b7064",
   "metadata": {},
   "outputs": [
    {
     "data": {
      "text/plain": [
       "{' ', 'a', 'b', 'c', 'd', 'e', 'g', 'i', 'l', 'n', 'o', 'r', 's', 't', 'v'}"
      ]
     },
     "execution_count": 241,
     "metadata": {},
     "output_type": "execute_result"
    }
   ],
   "source": [
    "letters = set(tekst)\n",
    "letters"
   ]
  },
  {
   "cell_type": "markdown",
   "id": "ff3b1a1c-9d73-480a-9d7a-8f8f4105627d",
   "metadata": {},
   "source": [
    "### Banker's rounding\n",
    "https://rounding.to/understanding-the-bankers-rounding/"
   ]
  },
  {
   "cell_type": "code",
   "execution_count": 279,
   "id": "bf5df57f-be9c-4e71-be0d-5fc8a0124f3d",
   "metadata": {},
   "outputs": [
    {
     "name": "stdout",
     "output_type": "stream",
     "text": [
      "0.5 0.0\n",
      "1.5 2.0\n",
      "2.5 2.0\n",
      "3.5 4.0\n",
      "4.5 4.0\n",
      "5.5 6.0\n",
      "6.5 6.0\n",
      "7.5 8.0\n",
      "8.5 8.0\n",
      "9.5 10.0\n"
     ]
    }
   ],
   "source": [
    "for i in range(1, 21, 2):\n",
    "    n = i / 2\n",
    "    print(n, round(n, 0))"
   ]
  },
  {
   "cell_type": "code",
   "execution_count": 255,
   "id": "11d7fbc6-5e7b-4f8e-a567-66b5335efd30",
   "metadata": {},
   "outputs": [],
   "source": [
    "f1 = 0.1\n",
    "f2 = 0.2"
   ]
  },
  {
   "cell_type": "code",
   "execution_count": 256,
   "id": "021efa94-949b-4289-bddd-754393827656",
   "metadata": {},
   "outputs": [
    {
     "data": {
      "text/plain": [
       "0.2"
      ]
     },
     "execution_count": 256,
     "metadata": {},
     "output_type": "execute_result"
    }
   ],
   "source": [
    "f1 + f1"
   ]
  },
  {
   "cell_type": "code",
   "execution_count": 257,
   "id": "48669ee7-7a3a-46eb-a1a1-76be51d6d770",
   "metadata": {},
   "outputs": [
    {
     "data": {
      "text/plain": [
       "0.4"
      ]
     },
     "execution_count": 257,
     "metadata": {},
     "output_type": "execute_result"
    }
   ],
   "source": [
    "f2 + f2"
   ]
  },
  {
   "cell_type": "code",
   "execution_count": 258,
   "id": "6f3e7267-a0f7-4123-811f-8f01d608aa32",
   "metadata": {},
   "outputs": [
    {
     "data": {
      "text/plain": [
       "0.30000000000000004"
      ]
     },
     "execution_count": 258,
     "metadata": {},
     "output_type": "execute_result"
    }
   ],
   "source": [
    "f1 + f2"
   ]
  },
  {
   "cell_type": "code",
   "execution_count": 263,
   "id": "2de0b595-3231-4e1f-a128-bd3bd6138ce9",
   "metadata": {},
   "outputs": [
    {
     "name": "stdout",
     "output_type": "stream",
     "text": [
      "0.500000000000000000000000000000\n",
      "0.250000000000000000000000000000\n",
      "0.125000000000000000000000000000\n",
      "0.062500000000000000000000000000\n",
      "0.100000000000000005551115123126\n",
      "0.200000000000000011102230246252\n",
      "0.299999999999999988897769753748\n",
      "0.300000000000000044408920985006\n"
     ]
    }
   ],
   "source": [
    "print(f'{0.5:.30f}')\n",
    "print(f'{0.25:.30f}')\n",
    "print(f'{0.125:.30f}')\n",
    "print(f'{0.0625:.30f}')\n",
    "\n",
    "print(f'{0.1:.30f}')\n",
    "print(f'{0.2:.30f}')\n",
    "print(f'{0.3:.30f}')\n",
    "print(f'{0.1+0.2:.30f}')"
   ]
  },
  {
   "cell_type": "code",
   "execution_count": 262,
   "id": "05cdefb0-8808-45a3-8676-9ad476caebcf",
   "metadata": {},
   "outputs": [
    {
     "data": {
      "text/plain": [
       "False"
      ]
     },
     "execution_count": 262,
     "metadata": {},
     "output_type": "execute_result"
    }
   ],
   "source": [
    "0.1 + 0.2 == 0.3"
   ]
  },
  {
   "cell_type": "markdown",
   "id": "d053ee83-c33b-4e8e-9e77-3a6502342786",
   "metadata": {},
   "source": [
    "### Functions"
   ]
  },
  {
   "cell_type": "code",
   "execution_count": 270,
   "id": "d5617566-ff7d-4954-9a7d-7e3b5a95d11e",
   "metadata": {},
   "outputs": [],
   "source": [
    "def doe_iets(x, herhaal=1):\n",
    "    print('Hoi')\n",
    "    for _ in range(herhaal):\n",
    "        print(x)\n",
    "    print('Doei')"
   ]
  },
  {
   "cell_type": "code",
   "execution_count": 274,
   "id": "7cad8192-289d-4155-8c29-2352d52842bb",
   "metadata": {},
   "outputs": [
    {
     "name": "stdout",
     "output_type": "stream",
     "text": [
      "Hoi\n",
      "Bijna klaar!!!!\n",
      "Bijna klaar!!!!\n",
      "Bijna klaar!!!!\n",
      "Bijna klaar!!!!\n",
      "Bijna klaar!!!!\n",
      "Bijna klaar!!!!\n",
      "Bijna klaar!!!!\n",
      "Doei\n"
     ]
    }
   ],
   "source": [
    "doe_iets('Bijna klaar!!!!', herhaal=7)"
   ]
  },
  {
   "cell_type": "code",
   "execution_count": null,
   "id": "ea707e41-8a8d-4d65-8cd8-aedc97ac9316",
   "metadata": {},
   "outputs": [],
   "source": [
    "import pandas as pd\n",
    "\n",
    "df = pd.read_csv('data.csv')\n",
    "\n",
    "# or\n",
    "\n",
    "df = pd.read_csv('data.csv', \n",
    "                 sep=';', \n",
    "                 decimal=',', \n",
    "                 dayfirst=True, \n",
    "                 encoding='utf-8')"
   ]
  },
  {
   "cell_type": "markdown",
   "id": "83a27092-f949-45e3-9b1b-08f534d8daa0",
   "metadata": {},
   "source": [
    "### Object Oriented Programming "
   ]
  },
  {
   "cell_type": "code",
   "execution_count": 283,
   "id": "59c865b8-c07a-4d04-b6d9-e83dad684a06",
   "metadata": {},
   "outputs": [
    {
     "data": {
      "text/plain": [
       "'ABCDEFG'"
      ]
     },
     "execution_count": 283,
     "metadata": {},
     "output_type": "execute_result"
    }
   ],
   "source": [
    "s = 'abcdefg'\n",
    "\n",
    "s.upper()"
   ]
  },
  {
   "cell_type": "code",
   "execution_count": 285,
   "id": "d6276871-cef1-4ae0-9ee5-40e6d6e6d3a5",
   "metadata": {},
   "outputs": [
    {
     "name": "stdout",
     "output_type": "stream",
     "text": [
      "<class 'str'>\n"
     ]
    }
   ],
   "source": [
    "print(type(s))"
   ]
  },
  {
   "cell_type": "code",
   "execution_count": 282,
   "id": "22ca82a4-8cb0-4553-8ec1-0fb51dbe5145",
   "metadata": {},
   "outputs": [],
   "source": [
    "getallen = [2,4,5,6]\n",
    "\n",
    "getallen.append(9)"
   ]
  },
  {
   "cell_type": "code",
   "execution_count": 286,
   "id": "c6966456-16f9-4408-bd70-ab9c5e97acaa",
   "metadata": {},
   "outputs": [
    {
     "name": "stdout",
     "output_type": "stream",
     "text": [
      "<class 'list'>\n"
     ]
    }
   ],
   "source": [
    "print(type(getallen))"
   ]
  },
  {
   "cell_type": "code",
   "execution_count": 293,
   "id": "96baf868-23ec-4a3b-9fc9-11cbcec236d1",
   "metadata": {},
   "outputs": [
    {
     "name": "stdout",
     "output_type": "stream",
     "text": [
      "0.3\n"
     ]
    }
   ],
   "source": [
    "import decimal\n",
    "\n",
    "d1 = decimal.Decimal('0.1')\n",
    "d2 = decimal.Decimal('0.2')\n",
    "\n",
    "d3 = d1 + d2\n",
    "\n",
    "print(d3)"
   ]
  },
  {
   "cell_type": "code",
   "execution_count": 299,
   "id": "f38b0fdb-d8c6-4c16-9943-10c8b4da8551",
   "metadata": {},
   "outputs": [
    {
     "name": "stdout",
     "output_type": "stream",
     "text": [
      "5/6\n",
      "5\n",
      "6\n",
      "(5, 6)\n"
     ]
    }
   ],
   "source": [
    "import fractions\n",
    "\n",
    "f1 = fractions.Fraction(1, 2)\n",
    "f2 = fractions.Fraction(1, 3)\n",
    "\n",
    "f3 = f1 + f2\n",
    "\n",
    "print(f3)\n",
    "print(f3.numerator)\n",
    "print(f3.denominator)\n",
    "print(f3.as_integer_ratio())"
   ]
  },
  {
   "cell_type": "code",
   "execution_count": 300,
   "id": "b511a047-2259-4899-a918-19ab7a0a6c5e",
   "metadata": {},
   "outputs": [
    {
     "name": "stdout",
     "output_type": "stream",
     "text": [
      "Help on class Fraction in module fractions:\n",
      "\n",
      "class Fraction(numbers.Rational)\n",
      " |  Fraction(numerator=0, denominator=None)\n",
      " |\n",
      " |  This class implements rational numbers.\n",
      " |\n",
      " |  In the two-argument form of the constructor, Fraction(8, 6) will\n",
      " |  produce a rational number equivalent to 4/3. Both arguments must\n",
      " |  be Rational. The numerator defaults to 0 and the denominator\n",
      " |  defaults to 1 so that Fraction(3) == 3 and Fraction() == 0.\n",
      " |\n",
      " |  Fractions can also be constructed from:\n",
      " |\n",
      " |    - numeric strings similar to those accepted by the\n",
      " |      float constructor (for example, '-2.3' or '1e10')\n",
      " |\n",
      " |    - strings of the form '123/456'\n",
      " |\n",
      " |    - float and Decimal instances\n",
      " |\n",
      " |    - other Rational instances (including integers)\n",
      " |\n",
      " |  Method resolution order:\n",
      " |      Fraction\n",
      " |      numbers.Rational\n",
      " |      numbers.Real\n",
      " |      numbers.Complex\n",
      " |      numbers.Number\n",
      " |      builtins.object\n",
      " |\n",
      " |  Methods defined here:\n",
      " |\n",
      " |  __abs__(a)\n",
      " |      abs(a)\n",
      " |\n",
      " |  __add__(a, b) from fractions.Fraction._operator_fallbacks.<locals>\n",
      " |      a + b\n",
      " |\n",
      " |  __bool__(a)\n",
      " |      a != 0\n",
      " |\n",
      " |  __ceil__(a)\n",
      " |      math.ceil(a)\n",
      " |\n",
      " |  __copy__(self)\n",
      " |\n",
      " |  __deepcopy__(self, memo)\n",
      " |\n",
      " |  __divmod__(a, b) from fractions.Fraction._operator_fallbacks.<locals>\n",
      " |      (a // b, a % b)\n",
      " |\n",
      " |  __eq__(a, b)\n",
      " |      a == b\n",
      " |\n",
      " |  __floor__(a)\n",
      " |      math.floor(a)\n",
      " |\n",
      " |  __floordiv__(a, b) from fractions.Fraction._operator_fallbacks.<locals>\n",
      " |      a // b\n",
      " |\n",
      " |  __format__(self, format_spec, /)\n",
      " |      Format this fraction according to the given format specification.\n",
      " |\n",
      " |  __ge__(a, b)\n",
      " |      a >= b\n",
      " |\n",
      " |  __gt__(a, b)\n",
      " |      a > b\n",
      " |\n",
      " |  __hash__(self)\n",
      " |      hash(self)\n",
      " |\n",
      " |  __int__(a, _index=<built-in function index>)\n",
      " |      int(a)\n",
      " |\n",
      " |  __le__(a, b)\n",
      " |      a <= b\n",
      " |\n",
      " |  __lt__(a, b)\n",
      " |      a < b\n",
      " |\n",
      " |  __mod__(a, b) from fractions.Fraction._operator_fallbacks.<locals>\n",
      " |      a % b\n",
      " |\n",
      " |  __mul__(a, b) from fractions.Fraction._operator_fallbacks.<locals>\n",
      " |      a * b\n",
      " |\n",
      " |  __neg__(a)\n",
      " |      -a\n",
      " |\n",
      " |  __pos__(a)\n",
      " |      +a: Coerces a subclass instance to Fraction\n",
      " |\n",
      " |  __pow__(a, b)\n",
      " |      a ** b\n",
      " |\n",
      " |      If b is not an integer, the result will be a float or complex\n",
      " |      since roots are generally irrational. If b is an integer, the\n",
      " |      result will be rational.\n",
      " |\n",
      " |  __radd__(b, a) from fractions.Fraction._operator_fallbacks.<locals>\n",
      " |      a + b\n",
      " |\n",
      " |  __rdivmod__(b, a) from fractions.Fraction._operator_fallbacks.<locals>\n",
      " |      (a // b, a % b)\n",
      " |\n",
      " |  __reduce__(self)\n",
      " |      Helper for pickle.\n",
      " |\n",
      " |  __repr__(self)\n",
      " |      repr(self)\n",
      " |\n",
      " |  __rfloordiv__(b, a) from fractions.Fraction._operator_fallbacks.<locals>\n",
      " |      a // b\n",
      " |\n",
      " |  __rmod__(b, a) from fractions.Fraction._operator_fallbacks.<locals>\n",
      " |      a % b\n",
      " |\n",
      " |  __rmul__(b, a) from fractions.Fraction._operator_fallbacks.<locals>\n",
      " |      a * b\n",
      " |\n",
      " |  __round__(self, ndigits=None)\n",
      " |      round(self, ndigits)\n",
      " |\n",
      " |      Rounds half toward even.\n",
      " |\n",
      " |  __rpow__(b, a)\n",
      " |      a ** b\n",
      " |\n",
      " |  __rsub__(b, a) from fractions.Fraction._operator_fallbacks.<locals>\n",
      " |      a - b\n",
      " |\n",
      " |  __rtruediv__(b, a) from fractions.Fraction._operator_fallbacks.<locals>\n",
      " |      a / b\n",
      " |\n",
      " |  __str__(self)\n",
      " |      str(self)\n",
      " |\n",
      " |  __sub__(a, b) from fractions.Fraction._operator_fallbacks.<locals>\n",
      " |      a - b\n",
      " |\n",
      " |  __truediv__(a, b) from fractions.Fraction._operator_fallbacks.<locals>\n",
      " |      a / b\n",
      " |\n",
      " |  __trunc__(a)\n",
      " |      math.trunc(a)\n",
      " |\n",
      " |  as_integer_ratio(self)\n",
      " |      Return a pair of integers, whose ratio is equal to the original Fraction.\n",
      " |\n",
      " |      The ratio is in lowest terms and has a positive denominator.\n",
      " |\n",
      " |  is_integer(self)\n",
      " |      Return True if the Fraction is an integer.\n",
      " |\n",
      " |  limit_denominator(self, max_denominator=1000000)\n",
      " |      Closest Fraction to self with denominator at most max_denominator.\n",
      " |\n",
      " |      >>> Fraction('3.141592653589793').limit_denominator(10)\n",
      " |      Fraction(22, 7)\n",
      " |      >>> Fraction('3.141592653589793').limit_denominator(100)\n",
      " |      Fraction(311, 99)\n",
      " |      >>> Fraction(4321, 8765).limit_denominator(10000)\n",
      " |      Fraction(4321, 8765)\n",
      " |\n",
      " |  ----------------------------------------------------------------------\n",
      " |  Class methods defined here:\n",
      " |\n",
      " |  from_decimal(dec)\n",
      " |      Converts a finite Decimal instance to a rational number, exactly.\n",
      " |\n",
      " |  from_float(f)\n",
      " |      Converts a finite float to a rational number, exactly.\n",
      " |\n",
      " |      Beware that Fraction.from_float(0.3) != Fraction(3, 10).\n",
      " |\n",
      " |  ----------------------------------------------------------------------\n",
      " |  Static methods defined here:\n",
      " |\n",
      " |  __new__(cls, numerator=0, denominator=None)\n",
      " |      Constructs a Rational.\n",
      " |\n",
      " |      Takes a string like '3/2' or '1.5', another Rational instance, a\n",
      " |      numerator/denominator pair, or a float.\n",
      " |\n",
      " |      Examples\n",
      " |      --------\n",
      " |\n",
      " |      >>> Fraction(10, -8)\n",
      " |      Fraction(-5, 4)\n",
      " |      >>> Fraction(Fraction(1, 7), 5)\n",
      " |      Fraction(1, 35)\n",
      " |      >>> Fraction(Fraction(1, 7), Fraction(2, 3))\n",
      " |      Fraction(3, 14)\n",
      " |      >>> Fraction('314')\n",
      " |      Fraction(314, 1)\n",
      " |      >>> Fraction('-35/4')\n",
      " |      Fraction(-35, 4)\n",
      " |      >>> Fraction('3.1415') # conversion from numeric string\n",
      " |      Fraction(6283, 2000)\n",
      " |      >>> Fraction('-47e-2') # string may include a decimal exponent\n",
      " |      Fraction(-47, 100)\n",
      " |      >>> Fraction(1.47)  # direct construction from float (exact conversion)\n",
      " |      Fraction(6620291452234629, 4503599627370496)\n",
      " |      >>> Fraction(2.25)\n",
      " |      Fraction(9, 4)\n",
      " |      >>> Fraction(Decimal('1.47'))\n",
      " |      Fraction(147, 100)\n",
      " |\n",
      " |  ----------------------------------------------------------------------\n",
      " |  Readonly properties defined here:\n",
      " |\n",
      " |  denominator\n",
      " |\n",
      " |  numerator\n",
      " |\n",
      " |  ----------------------------------------------------------------------\n",
      " |  Data and other attributes defined here:\n",
      " |\n",
      " |  __abstractmethods__ = frozenset()\n",
      " |\n",
      " |  ----------------------------------------------------------------------\n",
      " |  Methods inherited from numbers.Rational:\n",
      " |\n",
      " |  __float__(self)\n",
      " |      float(self) = self.numerator / self.denominator\n",
      " |\n",
      " |      It's important that this conversion use the integer's \"true\"\n",
      " |      division rather than casting one side to float before dividing\n",
      " |      so that ratios of huge integers convert without overflowing.\n",
      " |\n",
      " |  ----------------------------------------------------------------------\n",
      " |  Methods inherited from numbers.Real:\n",
      " |\n",
      " |  __complex__(self)\n",
      " |      complex(self) == complex(float(self), 0)\n",
      " |\n",
      " |  conjugate(self)\n",
      " |      Conjugate is a no-op for Reals.\n",
      " |\n",
      " |  ----------------------------------------------------------------------\n",
      " |  Readonly properties inherited from numbers.Real:\n",
      " |\n",
      " |  imag\n",
      " |      Real numbers have no imaginary component.\n",
      " |\n",
      " |  real\n",
      " |      Real numbers are their real component.\n",
      "\n"
     ]
    }
   ],
   "source": [
    "help(fractions.Fraction)"
   ]
  },
  {
   "cell_type": "code",
   "execution_count": 292,
   "id": "08f4b239-da86-4b4e-b970-bcfc68de1d98",
   "metadata": {},
   "outputs": [
    {
     "data": {
      "text/plain": [
       "3.141592653589793"
      ]
     },
     "execution_count": 292,
     "metadata": {},
     "output_type": "execute_result"
    }
   ],
   "source": [
    "import math\n",
    "\n",
    "math.pi"
   ]
  },
  {
   "cell_type": "code",
   "execution_count": null,
   "id": "ee41dc3a-076d-4cf7-a4f7-999dd75dd3d9",
   "metadata": {},
   "outputs": [],
   "source": []
  }
 ],
 "metadata": {
  "kernelspec": {
   "display_name": "Conda Base",
   "language": "python",
   "name": "base"
  },
  "language_info": {
   "codemirror_mode": {
    "name": "ipython",
    "version": 3
   },
   "file_extension": ".py",
   "mimetype": "text/x-python",
   "name": "python",
   "nbconvert_exporter": "python",
   "pygments_lexer": "ipython3",
   "version": "3.12.10"
  }
 },
 "nbformat": 4,
 "nbformat_minor": 5
}
