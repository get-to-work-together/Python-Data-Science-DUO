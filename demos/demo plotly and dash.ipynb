{
 "cells": [
  {
   "cell_type": "markdown",
   "id": "4ecddce5-65bf-4aaa-913f-3573bd199b19",
   "metadata": {},
   "source": [
    "# Interactive dashboard with Dash and Plotly"
   ]
  },
  {
   "cell_type": "code",
   "execution_count": 1,
   "id": "4883d70f-22e4-4ceb-a447-1f2720093f6e",
   "metadata": {},
   "outputs": [
    {
     "data": {
      "text/html": [
       "\n",
       "        <iframe\n",
       "            width=\"100%\"\n",
       "            height=\"650\"\n",
       "            src=\"http://127.0.0.1:8050/\"\n",
       "            frameborder=\"0\"\n",
       "            allowfullscreen\n",
       "            \n",
       "        ></iframe>\n",
       "        "
      ],
      "text/plain": [
       "<IPython.lib.display.IFrame at 0x12703bd60>"
      ]
     },
     "metadata": {},
     "output_type": "display_data"
    }
   ],
   "source": [
    "from dash import Dash, dcc, html, Input, Output\n",
    "import plotly.express as px\n",
    "\n",
    "app = Dash(__name__)\n",
    "\n",
    "app.layout = html.Div([\n",
    "    html.H4('Analysis of Iris data using scatter matrix'),\n",
    "    dcc.Dropdown(\n",
    "        id=\"dropdown\",\n",
    "        options=['sepal_length', 'sepal_width', 'petal_length', 'petal_width'],\n",
    "        value=['sepal_length', 'sepal_width'],\n",
    "        multi=True\n",
    "    ),\n",
    "    dcc.Graph(id=\"graph\"),\n",
    "])\n",
    "\n",
    "\n",
    "@app.callback(Output(\"graph\", \"figure\"), \n",
    "              Input(\"dropdown\", \"value\"))\n",
    "def update_bar_chart(dims):\n",
    "    df = px.data.iris() # replace with your own data source\n",
    "    fig = px.scatter_matrix(\n",
    "        df, dimensions=dims, color=\"species\")\n",
    "    return fig\n",
    "\n",
    "\n",
    "app.run_server(debug=True)"
   ]
  },
  {
   "cell_type": "code",
   "execution_count": null,
   "id": "90b253fc-8dee-481b-9410-51027a2b2b32",
   "metadata": {},
   "outputs": [],
   "source": []
  }
 ],
 "metadata": {
  "kernelspec": {
   "display_name": "base",
   "language": "python",
   "name": "base"
  },
  "language_info": {
   "codemirror_mode": {
    "name": "ipython",
    "version": 3
   },
   "file_extension": ".py",
   "mimetype": "text/x-python",
   "name": "python",
   "nbconvert_exporter": "python",
   "pygments_lexer": "ipython3",
   "version": "3.10.13"
  }
 },
 "nbformat": 4,
 "nbformat_minor": 5
}
