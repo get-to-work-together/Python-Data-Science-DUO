{
 "cells": [
  {
   "cell_type": "code",
   "execution_count": 14,
   "id": "47013df8-c8c0-45a2-9f5b-c860bfc3d516",
   "metadata": {
    "tags": []
   },
   "outputs": [],
   "source": [
    "import numpy as np\n",
    "import pandas as pd\n",
    "\n",
    "pd.set_option('display.max_rows', 100)\n",
    "pd.set_option('display.max_columns', 100)"
   ]
  },
  {
   "cell_type": "markdown",
   "id": "d5955103-b609-45fe-8e2b-4398cd5c07a7",
   "metadata": {},
   "source": [
    "### Pandas DataFrame"
   ]
  },
  {
   "cell_type": "code",
   "execution_count": 15,
   "id": "0c5b49ab-4779-45b8-b744-37c217d1b25c",
   "metadata": {
    "tags": []
   },
   "outputs": [
    {
     "data": {
      "text/html": [
       "<div>\n",
       "<style scoped>\n",
       "    .dataframe tbody tr th:only-of-type {\n",
       "        vertical-align: middle;\n",
       "    }\n",
       "\n",
       "    .dataframe tbody tr th {\n",
       "        vertical-align: top;\n",
       "    }\n",
       "\n",
       "    .dataframe thead th {\n",
       "        text-align: right;\n",
       "    }\n",
       "</style>\n",
       "<table border=\"1\" class=\"dataframe\">\n",
       "  <thead>\n",
       "    <tr style=\"text-align: right;\">\n",
       "      <th></th>\n",
       "      <th>plaats</th>\n",
       "      <th>kengetal</th>\n",
       "      <th>provincie</th>\n",
       "      <th>inwoners</th>\n",
       "    </tr>\n",
       "  </thead>\n",
       "  <tbody>\n",
       "    <tr>\n",
       "      <th>0</th>\n",
       "      <td>Amsterdam</td>\n",
       "      <td>020</td>\n",
       "      <td>NH</td>\n",
       "      <td>934927</td>\n",
       "    </tr>\n",
       "    <tr>\n",
       "      <th>1</th>\n",
       "      <td>Rotterdam</td>\n",
       "      <td>010</td>\n",
       "      <td>ZH</td>\n",
       "      <td>671125</td>\n",
       "    </tr>\n",
       "    <tr>\n",
       "      <th>2</th>\n",
       "      <td>Utrecht</td>\n",
       "      <td>030</td>\n",
       "      <td>UT</td>\n",
       "      <td>374411</td>\n",
       "    </tr>\n",
       "    <tr>\n",
       "      <th>3</th>\n",
       "      <td>Groningen</td>\n",
       "      <td>050</td>\n",
       "      <td>GR</td>\n",
       "      <td>243833</td>\n",
       "    </tr>\n",
       "    <tr>\n",
       "      <th>4</th>\n",
       "      <td>Den Haag</td>\n",
       "      <td>070</td>\n",
       "      <td>ZH</td>\n",
       "      <td>565701</td>\n",
       "    </tr>\n",
       "  </tbody>\n",
       "</table>\n",
       "</div>"
      ],
      "text/plain": [
       "      plaats kengetal provincie  inwoners\n",
       "0  Amsterdam      020        NH    934927\n",
       "1  Rotterdam      010        ZH    671125\n",
       "2    Utrecht      030        UT    374411\n",
       "3  Groningen      050        GR    243833\n",
       "4   Den Haag      070        ZH    565701"
      ]
     },
     "execution_count": 15,
     "metadata": {},
     "output_type": "execute_result"
    }
   ],
   "source": [
    "df = pd.DataFrame([\n",
    "    {'plaats': 'Amsterdam', 'kengetal': '020', 'provincie': 'NH', 'inwoners': 934_927},\n",
    "    {'plaats': 'Rotterdam', 'kengetal': '010', 'provincie': 'ZH', 'inwoners': 671_125},\n",
    "    {'plaats': 'Utrecht', 'kengetal': '030', 'provincie': 'UT', 'inwoners': 374_411},\n",
    "    {'plaats': 'Groningen', 'kengetal': '050', 'provincie': 'GR', 'inwoners': 243_833},\n",
    "    {'plaats': 'Den Haag', 'kengetal': '070', 'provincie': 'ZH', 'inwoners': 565_701},\n",
    "])\n",
    "\n",
    "df"
   ]
  },
  {
   "cell_type": "markdown",
   "id": "a9f74796-3955-49ae-a42d-bc2ecfd015eb",
   "metadata": {},
   "source": [
    "### New Row"
   ]
  },
  {
   "cell_type": "code",
   "execution_count": 16,
   "id": "b31265bc-319c-4978-b6f8-409854713a1a",
   "metadata": {},
   "outputs": [
    {
     "data": {
      "text/html": [
       "<div>\n",
       "<style scoped>\n",
       "    .dataframe tbody tr th:only-of-type {\n",
       "        vertical-align: middle;\n",
       "    }\n",
       "\n",
       "    .dataframe tbody tr th {\n",
       "        vertical-align: top;\n",
       "    }\n",
       "\n",
       "    .dataframe thead th {\n",
       "        text-align: right;\n",
       "    }\n",
       "</style>\n",
       "<table border=\"1\" class=\"dataframe\">\n",
       "  <thead>\n",
       "    <tr style=\"text-align: right;\">\n",
       "      <th></th>\n",
       "      <th>plaats</th>\n",
       "      <th>kengetal</th>\n",
       "      <th>provincie</th>\n",
       "      <th>inwoners</th>\n",
       "    </tr>\n",
       "  </thead>\n",
       "  <tbody>\n",
       "    <tr>\n",
       "      <th>0</th>\n",
       "      <td>Amsterdam</td>\n",
       "      <td>020</td>\n",
       "      <td>NH</td>\n",
       "      <td>934927</td>\n",
       "    </tr>\n",
       "    <tr>\n",
       "      <th>1</th>\n",
       "      <td>Rotterdam</td>\n",
       "      <td>010</td>\n",
       "      <td>ZH</td>\n",
       "      <td>671125</td>\n",
       "    </tr>\n",
       "    <tr>\n",
       "      <th>2</th>\n",
       "      <td>Utrecht</td>\n",
       "      <td>030</td>\n",
       "      <td>UT</td>\n",
       "      <td>374411</td>\n",
       "    </tr>\n",
       "    <tr>\n",
       "      <th>3</th>\n",
       "      <td>Groningen</td>\n",
       "      <td>050</td>\n",
       "      <td>GR</td>\n",
       "      <td>243833</td>\n",
       "    </tr>\n",
       "    <tr>\n",
       "      <th>4</th>\n",
       "      <td>Den Haag</td>\n",
       "      <td>070</td>\n",
       "      <td>ZH</td>\n",
       "      <td>565701</td>\n",
       "    </tr>\n",
       "    <tr>\n",
       "      <th>5</th>\n",
       "      <td>Eindhoven</td>\n",
       "      <td>050</td>\n",
       "      <td>NB</td>\n",
       "      <td>246444</td>\n",
       "    </tr>\n",
       "  </tbody>\n",
       "</table>\n",
       "</div>"
      ],
      "text/plain": [
       "      plaats kengetal provincie  inwoners\n",
       "0  Amsterdam      020        NH    934927\n",
       "1  Rotterdam      010        ZH    671125\n",
       "2    Utrecht      030        UT    374411\n",
       "3  Groningen      050        GR    243833\n",
       "4   Den Haag      070        ZH    565701\n",
       "5  Eindhoven      050        NB    246444"
      ]
     },
     "execution_count": 16,
     "metadata": {},
     "output_type": "execute_result"
    }
   ],
   "source": [
    "new_row = pd.DataFrame([{'plaats': 'Eindhoven', 'kengetal': '050', 'provincie': 'NB', 'inwoners': 246_444}])\n",
    "new_row\n",
    "\n",
    "\n",
    "\n",
    "# df = pd.concat([df, new_row], ignore_index=True)\n",
    "# df"
   ]
  },
  {
   "cell_type": "markdown",
   "id": "9463a3c2-9445-42c6-b4a1-e376702f6915",
   "metadata": {},
   "source": [
    "### Hierarchical Index"
   ]
  },
  {
   "cell_type": "code",
   "execution_count": 19,
   "id": "fd0b70d7-cc1a-493e-b865-eb8c5c8bc25b",
   "metadata": {
    "tags": []
   },
   "outputs": [
    {
     "data": {
      "text/html": [
       "<div>\n",
       "<style scoped>\n",
       "    .dataframe tbody tr th:only-of-type {\n",
       "        vertical-align: middle;\n",
       "    }\n",
       "\n",
       "    .dataframe tbody tr th {\n",
       "        vertical-align: top;\n",
       "    }\n",
       "\n",
       "    .dataframe thead th {\n",
       "        text-align: right;\n",
       "    }\n",
       "</style>\n",
       "<table border=\"1\" class=\"dataframe\">\n",
       "  <thead>\n",
       "    <tr style=\"text-align: right;\">\n",
       "      <th></th>\n",
       "      <th></th>\n",
       "      <th>kengetal</th>\n",
       "      <th>inwoners</th>\n",
       "    </tr>\n",
       "    <tr>\n",
       "      <th>provincie</th>\n",
       "      <th>plaats</th>\n",
       "      <th></th>\n",
       "      <th></th>\n",
       "    </tr>\n",
       "  </thead>\n",
       "  <tbody>\n",
       "    <tr>\n",
       "      <th>GR</th>\n",
       "      <th>Groningen</th>\n",
       "      <td>050</td>\n",
       "      <td>243833</td>\n",
       "    </tr>\n",
       "    <tr>\n",
       "      <th>NB</th>\n",
       "      <th>Eindhoven</th>\n",
       "      <td>050</td>\n",
       "      <td>246444</td>\n",
       "    </tr>\n",
       "    <tr>\n",
       "      <th>NH</th>\n",
       "      <th>Amsterdam</th>\n",
       "      <td>020</td>\n",
       "      <td>934927</td>\n",
       "    </tr>\n",
       "    <tr>\n",
       "      <th>UT</th>\n",
       "      <th>Utrecht</th>\n",
       "      <td>030</td>\n",
       "      <td>374411</td>\n",
       "    </tr>\n",
       "    <tr>\n",
       "      <th rowspan=\"2\" valign=\"top\">ZH</th>\n",
       "      <th>Den Haag</th>\n",
       "      <td>070</td>\n",
       "      <td>565701</td>\n",
       "    </tr>\n",
       "    <tr>\n",
       "      <th>Rotterdam</th>\n",
       "      <td>010</td>\n",
       "      <td>671125</td>\n",
       "    </tr>\n",
       "  </tbody>\n",
       "</table>\n",
       "</div>"
      ],
      "text/plain": [
       "                    kengetal  inwoners\n",
       "provincie plaats                      \n",
       "GR        Groningen      050    243833\n",
       "NB        Eindhoven      050    246444\n",
       "NH        Amsterdam      020    934927\n",
       "UT        Utrecht        030    374411\n",
       "ZH        Den Haag       070    565701\n",
       "          Rotterdam      010    671125"
      ]
     },
     "execution_count": 19,
     "metadata": {},
     "output_type": "execute_result"
    }
   ],
   "source": [
    "df1 = df.set_index(['provincie', 'plaats']).sort_index()\n",
    "df1"
   ]
  },
  {
   "cell_type": "code",
   "execution_count": 22,
   "id": "5882e590-5b45-4b07-b4d8-30b8facdd1ae",
   "metadata": {},
   "outputs": [
    {
     "data": {
      "text/html": [
       "<div>\n",
       "<style scoped>\n",
       "    .dataframe tbody tr th:only-of-type {\n",
       "        vertical-align: middle;\n",
       "    }\n",
       "\n",
       "    .dataframe tbody tr th {\n",
       "        vertical-align: top;\n",
       "    }\n",
       "\n",
       "    .dataframe thead th {\n",
       "        text-align: right;\n",
       "    }\n",
       "</style>\n",
       "<table border=\"1\" class=\"dataframe\">\n",
       "  <thead>\n",
       "    <tr style=\"text-align: right;\">\n",
       "      <th></th>\n",
       "      <th>kengetal</th>\n",
       "      <th>inwoners</th>\n",
       "    </tr>\n",
       "    <tr>\n",
       "      <th>plaats</th>\n",
       "      <th></th>\n",
       "      <th></th>\n",
       "    </tr>\n",
       "  </thead>\n",
       "  <tbody>\n",
       "    <tr>\n",
       "      <th>Groningen</th>\n",
       "      <td>050</td>\n",
       "      <td>243833</td>\n",
       "    </tr>\n",
       "  </tbody>\n",
       "</table>\n",
       "</div>"
      ],
      "text/plain": [
       "          kengetal  inwoners\n",
       "plaats                      \n",
       "Groningen      050    243833"
      ]
     },
     "execution_count": 22,
     "metadata": {},
     "output_type": "execute_result"
    }
   ],
   "source": [
    "df1.loc[('GR')]"
   ]
  },
  {
   "cell_type": "code",
   "execution_count": 42,
   "id": "ed6043dd-c997-4355-b6f9-bee1c64ac3ed",
   "metadata": {
    "tags": []
   },
   "outputs": [
    {
     "data": {
      "text/html": [
       "<div>\n",
       "<style scoped>\n",
       "    .dataframe tbody tr th:only-of-type {\n",
       "        vertical-align: middle;\n",
       "    }\n",
       "\n",
       "    .dataframe tbody tr th {\n",
       "        vertical-align: top;\n",
       "    }\n",
       "\n",
       "    .dataframe thead th {\n",
       "        text-align: right;\n",
       "    }\n",
       "</style>\n",
       "<table border=\"1\" class=\"dataframe\">\n",
       "  <thead>\n",
       "    <tr style=\"text-align: right;\">\n",
       "      <th></th>\n",
       "      <th>plaats</th>\n",
       "      <th>kengetal</th>\n",
       "      <th>provincie</th>\n",
       "      <th>inwoners</th>\n",
       "    </tr>\n",
       "  </thead>\n",
       "  <tbody>\n",
       "    <tr>\n",
       "      <th>0</th>\n",
       "      <td>Amsterdam</td>\n",
       "      <td>020</td>\n",
       "      <td>NH</td>\n",
       "      <td>1000000</td>\n",
       "    </tr>\n",
       "    <tr>\n",
       "      <th>1</th>\n",
       "      <td>Rotterdam</td>\n",
       "      <td>010</td>\n",
       "      <td>ZH</td>\n",
       "      <td>600000</td>\n",
       "    </tr>\n",
       "    <tr>\n",
       "      <th>2</th>\n",
       "      <td>Utrecht</td>\n",
       "      <td>030</td>\n",
       "      <td>UT</td>\n",
       "      <td>368000</td>\n",
       "    </tr>\n",
       "    <tr>\n",
       "      <th>3</th>\n",
       "      <td>Groningen</td>\n",
       "      <td>050</td>\n",
       "      <td>GR</td>\n",
       "      <td>200000</td>\n",
       "    </tr>\n",
       "    <tr>\n",
       "      <th>4</th>\n",
       "      <td>Den Haag</td>\n",
       "      <td>070</td>\n",
       "      <td>ZH</td>\n",
       "      <td>700000</td>\n",
       "    </tr>\n",
       "  </tbody>\n",
       "</table>\n",
       "</div>"
      ],
      "text/plain": [
       "      plaats kengetal provincie  inwoners\n",
       "0  Amsterdam      020        NH   1000000\n",
       "1  Rotterdam      010        ZH    600000\n",
       "2    Utrecht      030        UT    368000\n",
       "3  Groningen      050        GR    200000\n",
       "4   Den Haag      070        ZH    700000"
      ]
     },
     "execution_count": 42,
     "metadata": {},
     "output_type": "execute_result"
    }
   ],
   "source": [
    "df"
   ]
  },
  {
   "cell_type": "code",
   "execution_count": 43,
   "id": "c3b7597a-44ce-4fce-9c35-9f36146ea3d6",
   "metadata": {
    "tags": []
   },
   "outputs": [],
   "source": [
    "df.rename(columns = {'plaats': 'city'}, inplace = True)"
   ]
  },
  {
   "cell_type": "code",
   "execution_count": 46,
   "id": "3a64061a-cdc4-4c7e-a20b-57a9d3287fdd",
   "metadata": {
    "tags": []
   },
   "outputs": [],
   "source": [
    "provincies = {\n",
    "    'ZH': 'Zuid Holland',\n",
    "    'NH': 'Noord Holland',\n",
    "    'UT': 'Utrecht',\n",
    "    'GR': 'Groningen',\n",
    "    'DR': 'Drenthe',\n",
    "    'L': 'Limburg',\n",
    "}\n",
    "\n",
    "df['provincie_naam'] = df['provincie'].replace(provincies)"
   ]
  },
  {
   "cell_type": "code",
   "execution_count": 47,
   "id": "19a08b12-4dce-4d7e-954b-dc0ebd3b4e7e",
   "metadata": {
    "tags": []
   },
   "outputs": [
    {
     "data": {
      "text/html": [
       "<div>\n",
       "<style scoped>\n",
       "    .dataframe tbody tr th:only-of-type {\n",
       "        vertical-align: middle;\n",
       "    }\n",
       "\n",
       "    .dataframe tbody tr th {\n",
       "        vertical-align: top;\n",
       "    }\n",
       "\n",
       "    .dataframe thead th {\n",
       "        text-align: right;\n",
       "    }\n",
       "</style>\n",
       "<table border=\"1\" class=\"dataframe\">\n",
       "  <thead>\n",
       "    <tr style=\"text-align: right;\">\n",
       "      <th></th>\n",
       "      <th>city</th>\n",
       "      <th>kengetal</th>\n",
       "      <th>provincie</th>\n",
       "      <th>inwoners</th>\n",
       "    </tr>\n",
       "  </thead>\n",
       "  <tbody>\n",
       "    <tr>\n",
       "      <th>0</th>\n",
       "      <td>Amsterdam</td>\n",
       "      <td>020</td>\n",
       "      <td>Noord Holland</td>\n",
       "      <td>1000000</td>\n",
       "    </tr>\n",
       "    <tr>\n",
       "      <th>1</th>\n",
       "      <td>Rotterdam</td>\n",
       "      <td>010</td>\n",
       "      <td>Zuid Holland</td>\n",
       "      <td>600000</td>\n",
       "    </tr>\n",
       "    <tr>\n",
       "      <th>2</th>\n",
       "      <td>Utrecht</td>\n",
       "      <td>030</td>\n",
       "      <td>Utrecht</td>\n",
       "      <td>368000</td>\n",
       "    </tr>\n",
       "    <tr>\n",
       "      <th>3</th>\n",
       "      <td>Groningen</td>\n",
       "      <td>050</td>\n",
       "      <td>Groningen</td>\n",
       "      <td>200000</td>\n",
       "    </tr>\n",
       "    <tr>\n",
       "      <th>4</th>\n",
       "      <td>Den Haag</td>\n",
       "      <td>070</td>\n",
       "      <td>Zuid Holland</td>\n",
       "      <td>700000</td>\n",
       "    </tr>\n",
       "  </tbody>\n",
       "</table>\n",
       "</div>"
      ],
      "text/plain": [
       "        city kengetal      provincie  inwoners\n",
       "0  Amsterdam      020  Noord Holland   1000000\n",
       "1  Rotterdam      010   Zuid Holland    600000\n",
       "2    Utrecht      030        Utrecht    368000\n",
       "3  Groningen      050      Groningen    200000\n",
       "4   Den Haag      070   Zuid Holland    700000"
      ]
     },
     "execution_count": 47,
     "metadata": {},
     "output_type": "execute_result"
    }
   ],
   "source": [
    "df"
   ]
  },
  {
   "cell_type": "markdown",
   "id": "6a82fab0-d0f0-43bf-8bce-e0bf19eb1119",
   "metadata": {},
   "source": [
    "### EDA - Exploratory Data Analysis"
   ]
  },
  {
   "cell_type": "code",
   "execution_count": 40,
   "id": "104c2357-baaa-4e10-ad84-6f7af8689b26",
   "metadata": {
    "tags": []
   },
   "outputs": [
    {
     "name": "stdout",
     "output_type": "stream",
     "text": [
      "<class 'pandas.core.frame.DataFrame'>\n",
      "RangeIndex: 5 entries, 0 to 4\n",
      "Data columns (total 4 columns):\n",
      " #   Column     Non-Null Count  Dtype \n",
      "---  ------     --------------  ----- \n",
      " 0   plaats     5 non-null      object\n",
      " 1   kengetal   5 non-null      object\n",
      " 2   provincie  5 non-null      object\n",
      " 3   inwoners   5 non-null      int64 \n",
      "dtypes: int64(1), object(3)\n",
      "memory usage: 288.0+ bytes\n"
     ]
    }
   ],
   "source": [
    "df.info()"
   ]
  },
  {
   "cell_type": "code",
   "execution_count": 19,
   "id": "649902b3-9bbd-4b0d-8e53-e8c00312179d",
   "metadata": {
    "tags": []
   },
   "outputs": [
    {
     "data": {
      "text/plain": [
       "array(['NH', 'ZH', 'UT', 'GR'], dtype=object)"
      ]
     },
     "execution_count": 19,
     "metadata": {},
     "output_type": "execute_result"
    }
   ],
   "source": [
    "df['provincie'].unique()"
   ]
  },
  {
   "cell_type": "code",
   "execution_count": 20,
   "id": "a5ca6b07-909b-4e3f-a2bb-f4967b009d4a",
   "metadata": {
    "tags": []
   },
   "outputs": [
    {
     "data": {
      "text/plain": [
       "provincie\n",
       "ZH    2\n",
       "NH    1\n",
       "UT    1\n",
       "GR    1\n",
       "Name: count, dtype: int64"
      ]
     },
     "execution_count": 20,
     "metadata": {},
     "output_type": "execute_result"
    }
   ],
   "source": [
    "df['provincie'].value_counts()"
   ]
  },
  {
   "cell_type": "code",
   "execution_count": 24,
   "id": "96fc2fd3-d3eb-4985-91bb-a751fd394e49",
   "metadata": {
    "tags": []
   },
   "outputs": [
    {
     "data": {
      "text/plain": [
       "['plaats', 'kengetal', 'provincie', 'inwoners']"
      ]
     },
     "execution_count": 24,
     "metadata": {},
     "output_type": "execute_result"
    }
   ],
   "source": [
    "list(df.columns)"
   ]
  },
  {
   "cell_type": "code",
   "execution_count": 26,
   "id": "579a4402-1a86-44b1-88ee-933459f008fe",
   "metadata": {
    "tags": []
   },
   "outputs": [
    {
     "data": {
      "text/plain": [
       "plaats     kengetal  provincie  inwoners\n",
       "Amsterdam  020       NH         1000000     1\n",
       "Den Haag   070       ZH         700000      1\n",
       "Groningen  050       GR         200000      1\n",
       "Rotterdam  010       ZH         600000      1\n",
       "Utrecht    030       UT         368000      1\n",
       "Name: count, dtype: int64"
      ]
     },
     "execution_count": 26,
     "metadata": {},
     "output_type": "execute_result"
    }
   ],
   "source": [
    "df.value_counts()"
   ]
  },
  {
   "cell_type": "markdown",
   "id": "fc107717-1739-4dfb-bec7-3a849e519bbc",
   "metadata": {},
   "source": [
    "#### Columns"
   ]
  },
  {
   "cell_type": "code",
   "execution_count": 33,
   "id": "851be27a-c4f6-460f-b749-2f22be7f1531",
   "metadata": {
    "tags": []
   },
   "outputs": [
    {
     "data": {
      "text/plain": [
       "0    Amsterdam\n",
       "1    Rotterdam\n",
       "2      Utrecht\n",
       "3    Groningen\n",
       "4     Den Haag\n",
       "Name: plaats, dtype: object"
      ]
     },
     "execution_count": 33,
     "metadata": {},
     "output_type": "execute_result"
    }
   ],
   "source": [
    "df['plaats']"
   ]
  },
  {
   "cell_type": "code",
   "execution_count": 34,
   "id": "af687ef0-1d34-4ea9-9462-3f925ce4115d",
   "metadata": {
    "tags": []
   },
   "outputs": [
    {
     "data": {
      "text/plain": [
       "0    1000000\n",
       "1     600000\n",
       "2     368000\n",
       "3     200000\n",
       "4     700000\n",
       "Name: inwoners, dtype: int64"
      ]
     },
     "execution_count": 34,
     "metadata": {},
     "output_type": "execute_result"
    }
   ],
   "source": [
    "df['inwoners']"
   ]
  },
  {
   "cell_type": "code",
   "execution_count": 41,
   "id": "b35d3327-c7e1-45dc-bd46-3df9655d161d",
   "metadata": {
    "tags": []
   },
   "outputs": [
    {
     "data": {
      "text/html": [
       "<div>\n",
       "<style scoped>\n",
       "    .dataframe tbody tr th:only-of-type {\n",
       "        vertical-align: middle;\n",
       "    }\n",
       "\n",
       "    .dataframe tbody tr th {\n",
       "        vertical-align: top;\n",
       "    }\n",
       "\n",
       "    .dataframe thead th {\n",
       "        text-align: right;\n",
       "    }\n",
       "</style>\n",
       "<table border=\"1\" class=\"dataframe\">\n",
       "  <thead>\n",
       "    <tr style=\"text-align: right;\">\n",
       "      <th></th>\n",
       "      <th>provincie</th>\n",
       "      <th>plaats</th>\n",
       "    </tr>\n",
       "  </thead>\n",
       "  <tbody>\n",
       "    <tr>\n",
       "      <th>0</th>\n",
       "      <td>NH</td>\n",
       "      <td>Amsterdam</td>\n",
       "    </tr>\n",
       "    <tr>\n",
       "      <th>1</th>\n",
       "      <td>ZH</td>\n",
       "      <td>Rotterdam</td>\n",
       "    </tr>\n",
       "    <tr>\n",
       "      <th>2</th>\n",
       "      <td>UT</td>\n",
       "      <td>Utrecht</td>\n",
       "    </tr>\n",
       "    <tr>\n",
       "      <th>3</th>\n",
       "      <td>GR</td>\n",
       "      <td>Groningen</td>\n",
       "    </tr>\n",
       "    <tr>\n",
       "      <th>4</th>\n",
       "      <td>ZH</td>\n",
       "      <td>Den Haag</td>\n",
       "    </tr>\n",
       "  </tbody>\n",
       "</table>\n",
       "</div>"
      ],
      "text/plain": [
       "  provincie     plaats\n",
       "0        NH  Amsterdam\n",
       "1        ZH  Rotterdam\n",
       "2        UT    Utrecht\n",
       "3        GR  Groningen\n",
       "4        ZH   Den Haag"
      ]
     },
     "execution_count": 41,
     "metadata": {},
     "output_type": "execute_result"
    }
   ],
   "source": [
    "df[['provincie','plaats']]"
   ]
  },
  {
   "cell_type": "code",
   "execution_count": 45,
   "id": "304aa9e8-d754-4569-a039-8c904122636c",
   "metadata": {
    "tags": []
   },
   "outputs": [
    {
     "data": {
      "text/html": [
       "<div>\n",
       "<style scoped>\n",
       "    .dataframe tbody tr th:only-of-type {\n",
       "        vertical-align: middle;\n",
       "    }\n",
       "\n",
       "    .dataframe tbody tr th {\n",
       "        vertical-align: top;\n",
       "    }\n",
       "\n",
       "    .dataframe thead th {\n",
       "        text-align: right;\n",
       "    }\n",
       "</style>\n",
       "<table border=\"1\" class=\"dataframe\">\n",
       "  <thead>\n",
       "    <tr style=\"text-align: right;\">\n",
       "      <th></th>\n",
       "      <th>plaats</th>\n",
       "      <th>inwoners</th>\n",
       "    </tr>\n",
       "  </thead>\n",
       "  <tbody>\n",
       "    <tr>\n",
       "      <th>0</th>\n",
       "      <td>Amsterdam</td>\n",
       "      <td>1000000</td>\n",
       "    </tr>\n",
       "    <tr>\n",
       "      <th>1</th>\n",
       "      <td>Rotterdam</td>\n",
       "      <td>600000</td>\n",
       "    </tr>\n",
       "    <tr>\n",
       "      <th>2</th>\n",
       "      <td>Utrecht</td>\n",
       "      <td>368000</td>\n",
       "    </tr>\n",
       "    <tr>\n",
       "      <th>3</th>\n",
       "      <td>Groningen</td>\n",
       "      <td>200000</td>\n",
       "    </tr>\n",
       "    <tr>\n",
       "      <th>4</th>\n",
       "      <td>Den Haag</td>\n",
       "      <td>700000</td>\n",
       "    </tr>\n",
       "  </tbody>\n",
       "</table>\n",
       "</div>"
      ],
      "text/plain": [
       "      plaats  inwoners\n",
       "0  Amsterdam   1000000\n",
       "1  Rotterdam    600000\n",
       "2    Utrecht    368000\n",
       "3  Groningen    200000\n",
       "4   Den Haag    700000"
      ]
     },
     "execution_count": 45,
     "metadata": {},
     "output_type": "execute_result"
    }
   ],
   "source": [
    "df.iloc[:, [0, 3]]"
   ]
  },
  {
   "cell_type": "code",
   "execution_count": 42,
   "id": "afa28d87-5df0-44e1-a341-3a9476f7bd63",
   "metadata": {
    "tags": []
   },
   "outputs": [
    {
     "data": {
      "text/plain": [
       "0    False\n",
       "1     True\n",
       "2    False\n",
       "3    False\n",
       "4     True\n",
       "Name: provincie, dtype: bool"
      ]
     },
     "execution_count": 42,
     "metadata": {},
     "output_type": "execute_result"
    }
   ],
   "source": [
    "df['provincie'] == 'ZH'"
   ]
  },
  {
   "cell_type": "code",
   "execution_count": 46,
   "id": "bae063cb-5710-4861-bd7c-5b7c5c3c366e",
   "metadata": {
    "tags": []
   },
   "outputs": [
    {
     "data": {
      "text/html": [
       "<div>\n",
       "<style scoped>\n",
       "    .dataframe tbody tr th:only-of-type {\n",
       "        vertical-align: middle;\n",
       "    }\n",
       "\n",
       "    .dataframe tbody tr th {\n",
       "        vertical-align: top;\n",
       "    }\n",
       "\n",
       "    .dataframe thead th {\n",
       "        text-align: right;\n",
       "    }\n",
       "</style>\n",
       "<table border=\"1\" class=\"dataframe\">\n",
       "  <thead>\n",
       "    <tr style=\"text-align: right;\">\n",
       "      <th></th>\n",
       "      <th>plaats</th>\n",
       "      <th>kengetal</th>\n",
       "      <th>provincie</th>\n",
       "      <th>inwoners</th>\n",
       "    </tr>\n",
       "  </thead>\n",
       "  <tbody>\n",
       "    <tr>\n",
       "      <th>1</th>\n",
       "      <td>Rotterdam</td>\n",
       "      <td>010</td>\n",
       "      <td>ZH</td>\n",
       "      <td>600000</td>\n",
       "    </tr>\n",
       "    <tr>\n",
       "      <th>4</th>\n",
       "      <td>Den Haag</td>\n",
       "      <td>070</td>\n",
       "      <td>ZH</td>\n",
       "      <td>700000</td>\n",
       "    </tr>\n",
       "  </tbody>\n",
       "</table>\n",
       "</div>"
      ],
      "text/plain": [
       "      plaats kengetal provincie  inwoners\n",
       "1  Rotterdam      010        ZH    600000\n",
       "4   Den Haag      070        ZH    700000"
      ]
     },
     "execution_count": 46,
     "metadata": {},
     "output_type": "execute_result"
    }
   ],
   "source": [
    "df[df['provincie'] == 'ZH']"
   ]
  },
  {
   "cell_type": "code",
   "execution_count": 50,
   "id": "ea95dcfe-a7e8-42bc-ae93-840aa94f0c03",
   "metadata": {
    "tags": []
   },
   "outputs": [
    {
     "data": {
      "text/html": [
       "<div>\n",
       "<style scoped>\n",
       "    .dataframe tbody tr th:only-of-type {\n",
       "        vertical-align: middle;\n",
       "    }\n",
       "\n",
       "    .dataframe tbody tr th {\n",
       "        vertical-align: top;\n",
       "    }\n",
       "\n",
       "    .dataframe thead th {\n",
       "        text-align: right;\n",
       "    }\n",
       "</style>\n",
       "<table border=\"1\" class=\"dataframe\">\n",
       "  <thead>\n",
       "    <tr style=\"text-align: right;\">\n",
       "      <th></th>\n",
       "      <th>plaats</th>\n",
       "      <th>kengetal</th>\n",
       "      <th>provincie</th>\n",
       "      <th>inwoners</th>\n",
       "    </tr>\n",
       "  </thead>\n",
       "  <tbody>\n",
       "    <tr>\n",
       "      <th>1</th>\n",
       "      <td>Rotterdam</td>\n",
       "      <td>010</td>\n",
       "      <td>ZH</td>\n",
       "      <td>600000</td>\n",
       "    </tr>\n",
       "    <tr>\n",
       "      <th>4</th>\n",
       "      <td>Den Haag</td>\n",
       "      <td>070</td>\n",
       "      <td>ZH</td>\n",
       "      <td>700000</td>\n",
       "    </tr>\n",
       "  </tbody>\n",
       "</table>\n",
       "</div>"
      ],
      "text/plain": [
       "      plaats kengetal provincie  inwoners\n",
       "1  Rotterdam      010        ZH    600000\n",
       "4   Den Haag      070        ZH    700000"
      ]
     },
     "execution_count": 50,
     "metadata": {},
     "output_type": "execute_result"
    }
   ],
   "source": [
    "df[(df['inwoners'] >= 500000) & (df['provincie'] == 'ZH')]"
   ]
  },
  {
   "cell_type": "code",
   "execution_count": 61,
   "id": "ae5d0e01-40c9-441b-a9b7-e980eb6a7e85",
   "metadata": {
    "tags": []
   },
   "outputs": [
    {
     "data": {
      "text/html": [
       "<div>\n",
       "<style scoped>\n",
       "    .dataframe tbody tr th:only-of-type {\n",
       "        vertical-align: middle;\n",
       "    }\n",
       "\n",
       "    .dataframe tbody tr th {\n",
       "        vertical-align: top;\n",
       "    }\n",
       "\n",
       "    .dataframe thead th {\n",
       "        text-align: right;\n",
       "    }\n",
       "</style>\n",
       "<table border=\"1\" class=\"dataframe\">\n",
       "  <thead>\n",
       "    <tr style=\"text-align: right;\">\n",
       "      <th></th>\n",
       "      <th>plaats</th>\n",
       "      <th>kengetal</th>\n",
       "      <th>provincie</th>\n",
       "      <th>inwoners</th>\n",
       "    </tr>\n",
       "  </thead>\n",
       "  <tbody>\n",
       "    <tr>\n",
       "      <th>1</th>\n",
       "      <td>Rotterdam</td>\n",
       "      <td>010</td>\n",
       "      <td>ZH</td>\n",
       "      <td>600000</td>\n",
       "    </tr>\n",
       "    <tr>\n",
       "      <th>4</th>\n",
       "      <td>Den Haag</td>\n",
       "      <td>070</td>\n",
       "      <td>ZH</td>\n",
       "      <td>700000</td>\n",
       "    </tr>\n",
       "  </tbody>\n",
       "</table>\n",
       "</div>"
      ],
      "text/plain": [
       "      plaats kengetal provincie  inwoners\n",
       "1  Rotterdam      010        ZH    600000\n",
       "4   Den Haag      070        ZH    700000"
      ]
     },
     "execution_count": 61,
     "metadata": {},
     "output_type": "execute_result"
    }
   ],
   "source": [
    "df.query('`inwoners` >= 500000 and `provincie` == \"ZH\"')"
   ]
  },
  {
   "cell_type": "code",
   "execution_count": 63,
   "id": "a239ff9d-f316-42b7-acf6-04c4599d5f3f",
   "metadata": {
    "tags": []
   },
   "outputs": [
    {
     "data": {
      "text/html": [
       "<div>\n",
       "<style scoped>\n",
       "    .dataframe tbody tr th:only-of-type {\n",
       "        vertical-align: middle;\n",
       "    }\n",
       "\n",
       "    .dataframe tbody tr th {\n",
       "        vertical-align: top;\n",
       "    }\n",
       "\n",
       "    .dataframe thead th {\n",
       "        text-align: right;\n",
       "    }\n",
       "</style>\n",
       "<table border=\"1\" class=\"dataframe\">\n",
       "  <thead>\n",
       "    <tr style=\"text-align: right;\">\n",
       "      <th></th>\n",
       "      <th>plaats</th>\n",
       "      <th>inwoners</th>\n",
       "    </tr>\n",
       "  </thead>\n",
       "  <tbody>\n",
       "    <tr>\n",
       "      <th>0</th>\n",
       "      <td>Amsterdam</td>\n",
       "      <td>1000000</td>\n",
       "    </tr>\n",
       "    <tr>\n",
       "      <th>1</th>\n",
       "      <td>Rotterdam</td>\n",
       "      <td>600000</td>\n",
       "    </tr>\n",
       "    <tr>\n",
       "      <th>4</th>\n",
       "      <td>Den Haag</td>\n",
       "      <td>700000</td>\n",
       "    </tr>\n",
       "  </tbody>\n",
       "</table>\n",
       "</div>"
      ],
      "text/plain": [
       "      plaats  inwoners\n",
       "0  Amsterdam   1000000\n",
       "1  Rotterdam    600000\n",
       "4   Den Haag    700000"
      ]
     },
     "execution_count": 63,
     "metadata": {},
     "output_type": "execute_result"
    }
   ],
   "source": [
    "df[['plaats','inwoners']].query('inwoners >= 500000')"
   ]
  },
  {
   "cell_type": "code",
   "execution_count": 64,
   "id": "1868bf3f-c905-441e-b580-a2ae48feeadd",
   "metadata": {
    "tags": []
   },
   "outputs": [
    {
     "data": {
      "text/html": [
       "<div>\n",
       "<style scoped>\n",
       "    .dataframe tbody tr th:only-of-type {\n",
       "        vertical-align: middle;\n",
       "    }\n",
       "\n",
       "    .dataframe tbody tr th {\n",
       "        vertical-align: top;\n",
       "    }\n",
       "\n",
       "    .dataframe thead th {\n",
       "        text-align: right;\n",
       "    }\n",
       "</style>\n",
       "<table border=\"1\" class=\"dataframe\">\n",
       "  <thead>\n",
       "    <tr style=\"text-align: right;\">\n",
       "      <th></th>\n",
       "      <th>plaats</th>\n",
       "      <th>inwoners</th>\n",
       "    </tr>\n",
       "  </thead>\n",
       "  <tbody>\n",
       "    <tr>\n",
       "      <th>0</th>\n",
       "      <td>Amsterdam</td>\n",
       "      <td>1000000</td>\n",
       "    </tr>\n",
       "    <tr>\n",
       "      <th>1</th>\n",
       "      <td>Rotterdam</td>\n",
       "      <td>600000</td>\n",
       "    </tr>\n",
       "    <tr>\n",
       "      <th>4</th>\n",
       "      <td>Den Haag</td>\n",
       "      <td>700000</td>\n",
       "    </tr>\n",
       "  </tbody>\n",
       "</table>\n",
       "</div>"
      ],
      "text/plain": [
       "      plaats  inwoners\n",
       "0  Amsterdam   1000000\n",
       "1  Rotterdam    600000\n",
       "4   Den Haag    700000"
      ]
     },
     "execution_count": 64,
     "metadata": {},
     "output_type": "execute_result"
    }
   ],
   "source": [
    "df.loc[df['inwoners'] >= 500000, ['plaats','inwoners']]"
   ]
  },
  {
   "cell_type": "markdown",
   "id": "cc4ddb63-925c-4c5e-b880-1957b325c228",
   "metadata": {},
   "source": [
    "#### to file"
   ]
  },
  {
   "cell_type": "code",
   "execution_count": 67,
   "id": "bdd84f54-2afa-4993-a96e-e27021dc1be6",
   "metadata": {
    "tags": []
   },
   "outputs": [],
   "source": [
    "filename = 'data.csv'\n",
    "df.to_csv(filename, sep = ';', index = False)"
   ]
  },
  {
   "cell_type": "code",
   "execution_count": 70,
   "id": "bdd9dbb0-196c-4606-86e4-4440e22cc116",
   "metadata": {
    "tags": []
   },
   "outputs": [
    {
     "data": {
      "text/html": [
       "<div>\n",
       "<style scoped>\n",
       "    .dataframe tbody tr th:only-of-type {\n",
       "        vertical-align: middle;\n",
       "    }\n",
       "\n",
       "    .dataframe tbody tr th {\n",
       "        vertical-align: top;\n",
       "    }\n",
       "\n",
       "    .dataframe thead th {\n",
       "        text-align: right;\n",
       "    }\n",
       "</style>\n",
       "<table border=\"1\" class=\"dataframe\">\n",
       "  <thead>\n",
       "    <tr style=\"text-align: right;\">\n",
       "      <th></th>\n",
       "      <th>plaats</th>\n",
       "      <th>kengetal</th>\n",
       "      <th>provincie</th>\n",
       "      <th>inwoners</th>\n",
       "    </tr>\n",
       "  </thead>\n",
       "  <tbody>\n",
       "    <tr>\n",
       "      <th>0</th>\n",
       "      <td>Amsterdam</td>\n",
       "      <td>20</td>\n",
       "      <td>NH</td>\n",
       "      <td>1000000</td>\n",
       "    </tr>\n",
       "    <tr>\n",
       "      <th>1</th>\n",
       "      <td>Rotterdam</td>\n",
       "      <td>10</td>\n",
       "      <td>ZH</td>\n",
       "      <td>600000</td>\n",
       "    </tr>\n",
       "    <tr>\n",
       "      <th>2</th>\n",
       "      <td>Utrecht</td>\n",
       "      <td>30</td>\n",
       "      <td>UT</td>\n",
       "      <td>368000</td>\n",
       "    </tr>\n",
       "    <tr>\n",
       "      <th>3</th>\n",
       "      <td>Groningen</td>\n",
       "      <td>50</td>\n",
       "      <td>GR</td>\n",
       "      <td>200000</td>\n",
       "    </tr>\n",
       "    <tr>\n",
       "      <th>4</th>\n",
       "      <td>Den Haag</td>\n",
       "      <td>70</td>\n",
       "      <td>ZH</td>\n",
       "      <td>700000</td>\n",
       "    </tr>\n",
       "  </tbody>\n",
       "</table>\n",
       "</div>"
      ],
      "text/plain": [
       "      plaats  kengetal provincie  inwoners\n",
       "0  Amsterdam        20        NH   1000000\n",
       "1  Rotterdam        10        ZH    600000\n",
       "2    Utrecht        30        UT    368000\n",
       "3  Groningen        50        GR    200000\n",
       "4   Den Haag        70        ZH    700000"
      ]
     },
     "execution_count": 70,
     "metadata": {},
     "output_type": "execute_result"
    }
   ],
   "source": [
    "filename = 'data.csv'\n",
    "df_new = pd.read_csv(filename, sep = ';')\n",
    "df_new"
   ]
  },
  {
   "cell_type": "markdown",
   "id": "7697f3c4-d2a0-4770-b5b3-fdbfb6a410d2",
   "metadata": {},
   "source": [
    "### From Wikipedia\n",
    "\n",
    "https://nl.wikipedia.org/wiki/Lijst_van_grootste_gemeenten_in_Nederland"
   ]
  },
  {
   "cell_type": "code",
   "execution_count": 40,
   "id": "a0a24fb4-3bf4-4dce-a92e-360d544d6736",
   "metadata": {},
   "outputs": [
    {
     "data": {
      "text/html": [
       "<div>\n",
       "<style scoped>\n",
       "    .dataframe tbody tr th:only-of-type {\n",
       "        vertical-align: middle;\n",
       "    }\n",
       "\n",
       "    .dataframe tbody tr th {\n",
       "        vertical-align: top;\n",
       "    }\n",
       "\n",
       "    .dataframe thead th {\n",
       "        text-align: right;\n",
       "    }\n",
       "</style>\n",
       "<table border=\"1\" class=\"dataframe\">\n",
       "  <thead>\n",
       "    <tr style=\"text-align: right;\">\n",
       "      <th></th>\n",
       "      <th>Naam</th>\n",
       "      <th>Provincie</th>\n",
       "      <th>Inwoners</th>\n",
       "    </tr>\n",
       "    <tr>\n",
       "      <th>Nº</th>\n",
       "      <th></th>\n",
       "      <th></th>\n",
       "      <th></th>\n",
       "    </tr>\n",
       "  </thead>\n",
       "  <tbody>\n",
       "    <tr>\n",
       "      <th>1</th>\n",
       "      <td>Amsterdam</td>\n",
       "      <td>Noord-Holland</td>\n",
       "      <td>934927</td>\n",
       "    </tr>\n",
       "    <tr>\n",
       "      <th>2</th>\n",
       "      <td>Rotterdam</td>\n",
       "      <td>Zuid-Holland</td>\n",
       "      <td>671125</td>\n",
       "    </tr>\n",
       "    <tr>\n",
       "      <th>3</th>\n",
       "      <td>Den Haag</td>\n",
       "      <td>Zuid-Holland</td>\n",
       "      <td>565701</td>\n",
       "    </tr>\n",
       "    <tr>\n",
       "      <th>4</th>\n",
       "      <td>Utrecht</td>\n",
       "      <td>Utrecht</td>\n",
       "      <td>374411</td>\n",
       "    </tr>\n",
       "    <tr>\n",
       "      <th>5</th>\n",
       "      <td>Eindhoven</td>\n",
       "      <td>Noord-Brabant</td>\n",
       "      <td>246443</td>\n",
       "    </tr>\n",
       "    <tr>\n",
       "      <th>6</th>\n",
       "      <td>Groningen</td>\n",
       "      <td>Groningen</td>\n",
       "      <td>243833</td>\n",
       "    </tr>\n",
       "    <tr>\n",
       "      <th>7</th>\n",
       "      <td>Tilburg</td>\n",
       "      <td>Noord-Brabant</td>\n",
       "      <td>229797</td>\n",
       "    </tr>\n",
       "    <tr>\n",
       "      <th>8</th>\n",
       "      <td>Almere</td>\n",
       "      <td>Flevoland</td>\n",
       "      <td>226630</td>\n",
       "    </tr>\n",
       "    <tr>\n",
       "      <th>9</th>\n",
       "      <td>Breda</td>\n",
       "      <td>Noord-Brabant</td>\n",
       "      <td>188217</td>\n",
       "    </tr>\n",
       "    <tr>\n",
       "      <th>10</th>\n",
       "      <td>Nijmegen</td>\n",
       "      <td>Gelderland</td>\n",
       "      <td>187011</td>\n",
       "    </tr>\n",
       "    <tr>\n",
       "      <th>11</th>\n",
       "      <td>Apeldoorn</td>\n",
       "      <td>Gelderland</td>\n",
       "      <td>168212</td>\n",
       "    </tr>\n",
       "    <tr>\n",
       "      <th>12</th>\n",
       "      <td>Haarlem</td>\n",
       "      <td>Noord-Holland</td>\n",
       "      <td>167763</td>\n",
       "    </tr>\n",
       "    <tr>\n",
       "      <th>13</th>\n",
       "      <td>Arnhem</td>\n",
       "      <td>Gelderland</td>\n",
       "      <td>167651</td>\n",
       "    </tr>\n",
       "    <tr>\n",
       "      <th>14</th>\n",
       "      <td>Haarlemmermeer</td>\n",
       "      <td>Noord-Holland</td>\n",
       "      <td>163196</td>\n",
       "    </tr>\n",
       "    <tr>\n",
       "      <th>15</th>\n",
       "      <td>Amersfoort</td>\n",
       "      <td>Utrecht</td>\n",
       "      <td>161825</td>\n",
       "    </tr>\n",
       "    <tr>\n",
       "      <th>16</th>\n",
       "      <td>Enschede</td>\n",
       "      <td>Overijssel</td>\n",
       "      <td>161741</td>\n",
       "    </tr>\n",
       "    <tr>\n",
       "      <th>17</th>\n",
       "      <td>Zaanstad</td>\n",
       "      <td>Noord-Holland</td>\n",
       "      <td>161429</td>\n",
       "    </tr>\n",
       "    <tr>\n",
       "      <th>18</th>\n",
       "      <td>'s-Hertogenbosch</td>\n",
       "      <td>Noord-Brabant</td>\n",
       "      <td>160740</td>\n",
       "    </tr>\n",
       "    <tr>\n",
       "      <th>19</th>\n",
       "      <td>Zwolle</td>\n",
       "      <td>Overijssel</td>\n",
       "      <td>133133</td>\n",
       "    </tr>\n",
       "    <tr>\n",
       "      <th>20</th>\n",
       "      <td>Leiden</td>\n",
       "      <td>Zuid-Holland</td>\n",
       "      <td>130181</td>\n",
       "    </tr>\n",
       "    <tr>\n",
       "      <th>21</th>\n",
       "      <td>Leeuwarden</td>\n",
       "      <td>Friesland</td>\n",
       "      <td>128857</td>\n",
       "    </tr>\n",
       "    <tr>\n",
       "      <th>22</th>\n",
       "      <td>Zoetermeer</td>\n",
       "      <td>Zuid-Holland</td>\n",
       "      <td>128424</td>\n",
       "    </tr>\n",
       "    <tr>\n",
       "      <th>23</th>\n",
       "      <td>Maastricht</td>\n",
       "      <td>Limburg</td>\n",
       "      <td>125203</td>\n",
       "    </tr>\n",
       "    <tr>\n",
       "      <th>24</th>\n",
       "      <td>Ede</td>\n",
       "      <td>Gelderland</td>\n",
       "      <td>123489</td>\n",
       "    </tr>\n",
       "    <tr>\n",
       "      <th>25</th>\n",
       "      <td>Dordrecht</td>\n",
       "      <td>Zuid-Holland</td>\n",
       "      <td>122089</td>\n",
       "    </tr>\n",
       "    <tr>\n",
       "      <th>26</th>\n",
       "      <td>Westland</td>\n",
       "      <td>Zuid-Holland</td>\n",
       "      <td>115984</td>\n",
       "    </tr>\n",
       "    <tr>\n",
       "      <th>27</th>\n",
       "      <td>Alphen aan den Rijn</td>\n",
       "      <td>Zuid-Holland</td>\n",
       "      <td>114968</td>\n",
       "    </tr>\n",
       "    <tr>\n",
       "      <th>28</th>\n",
       "      <td>Alkmaar</td>\n",
       "      <td>Noord-Holland</td>\n",
       "      <td>112311</td>\n",
       "    </tr>\n",
       "    <tr>\n",
       "      <th>29</th>\n",
       "      <td>Delft</td>\n",
       "      <td>Zuid-Holland</td>\n",
       "      <td>109573</td>\n",
       "    </tr>\n",
       "    <tr>\n",
       "      <th>30</th>\n",
       "      <td>Emmen</td>\n",
       "      <td>Drenthe</td>\n",
       "      <td>109361</td>\n",
       "    </tr>\n",
       "    <tr>\n",
       "      <th>31</th>\n",
       "      <td>Venlo</td>\n",
       "      <td>Limburg</td>\n",
       "      <td>103785</td>\n",
       "    </tr>\n",
       "    <tr>\n",
       "      <th>32</th>\n",
       "      <td>Deventer</td>\n",
       "      <td>Overijssel</td>\n",
       "      <td>103402</td>\n",
       "    </tr>\n",
       "  </tbody>\n",
       "</table>\n",
       "</div>"
      ],
      "text/plain": [
       "                   Naam      Provincie  Inwoners\n",
       "Nº                                              \n",
       "1             Amsterdam  Noord-Holland    934927\n",
       "2             Rotterdam   Zuid-Holland    671125\n",
       "3              Den Haag   Zuid-Holland    565701\n",
       "4               Utrecht        Utrecht    374411\n",
       "5             Eindhoven  Noord-Brabant    246443\n",
       "6             Groningen      Groningen    243833\n",
       "7               Tilburg  Noord-Brabant    229797\n",
       "8                Almere      Flevoland    226630\n",
       "9                 Breda  Noord-Brabant    188217\n",
       "10             Nijmegen     Gelderland    187011\n",
       "11            Apeldoorn     Gelderland    168212\n",
       "12              Haarlem  Noord-Holland    167763\n",
       "13               Arnhem     Gelderland    167651\n",
       "14       Haarlemmermeer  Noord-Holland    163196\n",
       "15           Amersfoort        Utrecht    161825\n",
       "16             Enschede     Overijssel    161741\n",
       "17             Zaanstad  Noord-Holland    161429\n",
       "18     's-Hertogenbosch  Noord-Brabant    160740\n",
       "19               Zwolle     Overijssel    133133\n",
       "20               Leiden   Zuid-Holland    130181\n",
       "21           Leeuwarden      Friesland    128857\n",
       "22           Zoetermeer   Zuid-Holland    128424\n",
       "23           Maastricht        Limburg    125203\n",
       "24                  Ede     Gelderland    123489\n",
       "25            Dordrecht   Zuid-Holland    122089\n",
       "26             Westland   Zuid-Holland    115984\n",
       "27  Alphen aan den Rijn   Zuid-Holland    114968\n",
       "28              Alkmaar  Noord-Holland    112311\n",
       "29                Delft   Zuid-Holland    109573\n",
       "30                Emmen        Drenthe    109361\n",
       "31                Venlo        Limburg    103785\n",
       "32             Deventer     Overijssel    103402"
      ]
     },
     "execution_count": 40,
     "metadata": {},
     "output_type": "execute_result"
    }
   ],
   "source": [
    "tables = pd.read_html('https://nl.wikipedia.org/wiki/Lijst_van_grootste_gemeenten_in_Nederland',\n",
    "                      decimal=',', thousands='.', index_col=0)\n",
    "df = tables[0]\n",
    "df"
   ]
  },
  {
   "cell_type": "code",
   "execution_count": 64,
   "id": "cd97fa1a-3df4-4135-afd5-5450e49aa6d6",
   "metadata": {},
   "outputs": [
    {
     "data": {
      "text/html": [
       "<div>\n",
       "<style scoped>\n",
       "    .dataframe tbody tr th:only-of-type {\n",
       "        vertical-align: middle;\n",
       "    }\n",
       "\n",
       "    .dataframe tbody tr th {\n",
       "        vertical-align: top;\n",
       "    }\n",
       "\n",
       "    .dataframe thead th {\n",
       "        text-align: right;\n",
       "    }\n",
       "</style>\n",
       "<table border=\"1\" class=\"dataframe\">\n",
       "  <thead>\n",
       "    <tr style=\"text-align: right;\">\n",
       "      <th></th>\n",
       "      <th></th>\n",
       "      <th>Inwoners</th>\n",
       "    </tr>\n",
       "    <tr>\n",
       "      <th>Provincie</th>\n",
       "      <th>Naam</th>\n",
       "      <th></th>\n",
       "    </tr>\n",
       "  </thead>\n",
       "  <tbody>\n",
       "    <tr>\n",
       "      <th>Drenthe</th>\n",
       "      <th>Emmen</th>\n",
       "      <td>109361</td>\n",
       "    </tr>\n",
       "    <tr>\n",
       "      <th>Flevoland</th>\n",
       "      <th>Almere</th>\n",
       "      <td>226630</td>\n",
       "    </tr>\n",
       "    <tr>\n",
       "      <th>Friesland</th>\n",
       "      <th>Leeuwarden</th>\n",
       "      <td>128857</td>\n",
       "    </tr>\n",
       "    <tr>\n",
       "      <th rowspan=\"4\" valign=\"top\">Gelderland</th>\n",
       "      <th>Apeldoorn</th>\n",
       "      <td>168212</td>\n",
       "    </tr>\n",
       "    <tr>\n",
       "      <th>Arnhem</th>\n",
       "      <td>167651</td>\n",
       "    </tr>\n",
       "    <tr>\n",
       "      <th>Ede</th>\n",
       "      <td>123489</td>\n",
       "    </tr>\n",
       "    <tr>\n",
       "      <th>Nijmegen</th>\n",
       "      <td>187011</td>\n",
       "    </tr>\n",
       "    <tr>\n",
       "      <th>Groningen</th>\n",
       "      <th>Groningen</th>\n",
       "      <td>243833</td>\n",
       "    </tr>\n",
       "    <tr>\n",
       "      <th rowspan=\"2\" valign=\"top\">Limburg</th>\n",
       "      <th>Maastricht</th>\n",
       "      <td>125203</td>\n",
       "    </tr>\n",
       "    <tr>\n",
       "      <th>Venlo</th>\n",
       "      <td>103785</td>\n",
       "    </tr>\n",
       "    <tr>\n",
       "      <th rowspan=\"4\" valign=\"top\">Noord-Brabant</th>\n",
       "      <th>'s-Hertogenbosch</th>\n",
       "      <td>160740</td>\n",
       "    </tr>\n",
       "    <tr>\n",
       "      <th>Breda</th>\n",
       "      <td>188217</td>\n",
       "    </tr>\n",
       "    <tr>\n",
       "      <th>Eindhoven</th>\n",
       "      <td>246443</td>\n",
       "    </tr>\n",
       "    <tr>\n",
       "      <th>Tilburg</th>\n",
       "      <td>229797</td>\n",
       "    </tr>\n",
       "    <tr>\n",
       "      <th rowspan=\"5\" valign=\"top\">Noord-Holland</th>\n",
       "      <th>Alkmaar</th>\n",
       "      <td>112311</td>\n",
       "    </tr>\n",
       "    <tr>\n",
       "      <th>Amsterdam</th>\n",
       "      <td>934927</td>\n",
       "    </tr>\n",
       "    <tr>\n",
       "      <th>Haarlem</th>\n",
       "      <td>167763</td>\n",
       "    </tr>\n",
       "    <tr>\n",
       "      <th>Haarlemmermeer</th>\n",
       "      <td>163196</td>\n",
       "    </tr>\n",
       "    <tr>\n",
       "      <th>Zaanstad</th>\n",
       "      <td>161429</td>\n",
       "    </tr>\n",
       "    <tr>\n",
       "      <th rowspan=\"3\" valign=\"top\">Overijssel</th>\n",
       "      <th>Deventer</th>\n",
       "      <td>103402</td>\n",
       "    </tr>\n",
       "    <tr>\n",
       "      <th>Enschede</th>\n",
       "      <td>161741</td>\n",
       "    </tr>\n",
       "    <tr>\n",
       "      <th>Zwolle</th>\n",
       "      <td>133133</td>\n",
       "    </tr>\n",
       "    <tr>\n",
       "      <th rowspan=\"2\" valign=\"top\">Utrecht</th>\n",
       "      <th>Amersfoort</th>\n",
       "      <td>161825</td>\n",
       "    </tr>\n",
       "    <tr>\n",
       "      <th>Utrecht</th>\n",
       "      <td>374411</td>\n",
       "    </tr>\n",
       "    <tr>\n",
       "      <th rowspan=\"8\" valign=\"top\">Zuid-Holland</th>\n",
       "      <th>Alphen aan den Rijn</th>\n",
       "      <td>114968</td>\n",
       "    </tr>\n",
       "    <tr>\n",
       "      <th>Delft</th>\n",
       "      <td>109573</td>\n",
       "    </tr>\n",
       "    <tr>\n",
       "      <th>Den Haag</th>\n",
       "      <td>565701</td>\n",
       "    </tr>\n",
       "    <tr>\n",
       "      <th>Dordrecht</th>\n",
       "      <td>122089</td>\n",
       "    </tr>\n",
       "    <tr>\n",
       "      <th>Leiden</th>\n",
       "      <td>130181</td>\n",
       "    </tr>\n",
       "    <tr>\n",
       "      <th>Rotterdam</th>\n",
       "      <td>671125</td>\n",
       "    </tr>\n",
       "    <tr>\n",
       "      <th>Westland</th>\n",
       "      <td>115984</td>\n",
       "    </tr>\n",
       "    <tr>\n",
       "      <th>Zoetermeer</th>\n",
       "      <td>128424</td>\n",
       "    </tr>\n",
       "  </tbody>\n",
       "</table>\n",
       "</div>"
      ],
      "text/plain": [
       "                                   Inwoners\n",
       "Provincie     Naam                         \n",
       "Drenthe       Emmen                  109361\n",
       "Flevoland     Almere                 226630\n",
       "Friesland     Leeuwarden             128857\n",
       "Gelderland    Apeldoorn              168212\n",
       "              Arnhem                 167651\n",
       "              Ede                    123489\n",
       "              Nijmegen               187011\n",
       "Groningen     Groningen              243833\n",
       "Limburg       Maastricht             125203\n",
       "              Venlo                  103785\n",
       "Noord-Brabant 's-Hertogenbosch       160740\n",
       "              Breda                  188217\n",
       "              Eindhoven              246443\n",
       "              Tilburg                229797\n",
       "Noord-Holland Alkmaar                112311\n",
       "              Amsterdam              934927\n",
       "              Haarlem                167763\n",
       "              Haarlemmermeer         163196\n",
       "              Zaanstad               161429\n",
       "Overijssel    Deventer               103402\n",
       "              Enschede               161741\n",
       "              Zwolle                 133133\n",
       "Utrecht       Amersfoort             161825\n",
       "              Utrecht                374411\n",
       "Zuid-Holland  Alphen aan den Rijn    114968\n",
       "              Delft                  109573\n",
       "              Den Haag               565701\n",
       "              Dordrecht              122089\n",
       "              Leiden                 130181\n",
       "              Rotterdam              671125\n",
       "              Westland               115984\n",
       "              Zoetermeer             128424"
      ]
     },
     "execution_count": 64,
     "metadata": {},
     "output_type": "execute_result"
    }
   ],
   "source": [
    "df_hierarchical = df.set_index(['Provincie', 'Naam']).sort_index()\n",
    "df_hierarchical"
   ]
  },
  {
   "cell_type": "code",
   "execution_count": 65,
   "id": "76f74122-876b-4fab-a56f-56a03c4223ce",
   "metadata": {},
   "outputs": [
    {
     "data": {
      "text/plain": [
       "MultiIndex([(      'Drenthe',               'Emmen'),\n",
       "            (    'Flevoland',              'Almere'),\n",
       "            (    'Friesland',          'Leeuwarden'),\n",
       "            (   'Gelderland',           'Apeldoorn'),\n",
       "            (   'Gelderland',              'Arnhem'),\n",
       "            (   'Gelderland',                 'Ede'),\n",
       "            (   'Gelderland',            'Nijmegen'),\n",
       "            (    'Groningen',           'Groningen'),\n",
       "            (      'Limburg',          'Maastricht'),\n",
       "            (      'Limburg',               'Venlo'),\n",
       "            ('Noord-Brabant',    ''s-Hertogenbosch'),\n",
       "            ('Noord-Brabant',               'Breda'),\n",
       "            ('Noord-Brabant',           'Eindhoven'),\n",
       "            ('Noord-Brabant',             'Tilburg'),\n",
       "            ('Noord-Holland',             'Alkmaar'),\n",
       "            ('Noord-Holland',           'Amsterdam'),\n",
       "            ('Noord-Holland',             'Haarlem'),\n",
       "            ('Noord-Holland',      'Haarlemmermeer'),\n",
       "            ('Noord-Holland',            'Zaanstad'),\n",
       "            (   'Overijssel',            'Deventer'),\n",
       "            (   'Overijssel',            'Enschede'),\n",
       "            (   'Overijssel',              'Zwolle'),\n",
       "            (      'Utrecht',          'Amersfoort'),\n",
       "            (      'Utrecht',             'Utrecht'),\n",
       "            ( 'Zuid-Holland', 'Alphen aan den Rijn'),\n",
       "            ( 'Zuid-Holland',               'Delft'),\n",
       "            ( 'Zuid-Holland',            'Den Haag'),\n",
       "            ( 'Zuid-Holland',           'Dordrecht'),\n",
       "            ( 'Zuid-Holland',              'Leiden'),\n",
       "            ( 'Zuid-Holland',           'Rotterdam'),\n",
       "            ( 'Zuid-Holland',            'Westland'),\n",
       "            ( 'Zuid-Holland',          'Zoetermeer')],\n",
       "           names=['Provincie', 'Naam'])"
      ]
     },
     "execution_count": 65,
     "metadata": {},
     "output_type": "execute_result"
    }
   ],
   "source": [
    "df_hierarchical.index"
   ]
  },
  {
   "cell_type": "code",
   "execution_count": 74,
   "id": "9eb95532-ab92-4261-87eb-902b4fcac5a2",
   "metadata": {},
   "outputs": [
    {
     "data": {
      "text/plain": [
       "934927"
      ]
     },
     "execution_count": 74,
     "metadata": {},
     "output_type": "execute_result"
    }
   ],
   "source": [
    "df_hierarchical['Inwoners']['Noord-Holland', 'Amsterdam']"
   ]
  },
  {
   "cell_type": "code",
   "execution_count": 70,
   "id": "fbeeedab-5503-4a6d-9c0e-01a83d8ec932",
   "metadata": {},
   "outputs": [
    {
     "data": {
      "text/plain": [
       "Naam\n",
       "Alkmaar           112311\n",
       "Amsterdam         934927\n",
       "Haarlem           167763\n",
       "Haarlemmermeer    163196\n",
       "Zaanstad          161429\n",
       "Name: Inwoners, dtype: int64"
      ]
     },
     "execution_count": 70,
     "metadata": {},
     "output_type": "execute_result"
    }
   ],
   "source": [
    "df_hierarchical['Inwoners']['Noord-Holland', 'Amsterdam']"
   ]
  },
  {
   "cell_type": "code",
   "execution_count": null,
   "id": "2e5ded30-8f9b-4fe7-981f-27b342274bd5",
   "metadata": {},
   "outputs": [],
   "source": []
  }
 ],
 "metadata": {
  "kernelspec": {
   "display_name": "Python 3 (ipykernel)",
   "language": "python",
   "name": "python3"
  },
  "language_info": {
   "codemirror_mode": {
    "name": "ipython",
    "version": 3
   },
   "file_extension": ".py",
   "mimetype": "text/x-python",
   "name": "python",
   "nbconvert_exporter": "python",
   "pygments_lexer": "ipython3",
   "version": "3.10.13"
  }
 },
 "nbformat": 4,
 "nbformat_minor": 5
}
