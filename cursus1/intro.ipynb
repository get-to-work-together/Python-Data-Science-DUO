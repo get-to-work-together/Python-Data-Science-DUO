{
 "cells": [
  {
   "cell_type": "markdown",
   "id": "3ed9c085-daaf-45d5-bf69-24bcdae364a4",
   "metadata": {},
   "source": [
    "# Intro Python\n",
    "\n",
    "Voor meer info kijk op:\n",
    "https://docs.python.org/3/"
   ]
  },
  {
   "cell_type": "code",
   "execution_count": 35,
   "id": "96914ff8-36c0-44d9-b360-505f0d06d044",
   "metadata": {},
   "outputs": [],
   "source": [
    "# Alle imports hier!\n",
    "import math"
   ]
  },
  {
   "cell_type": "code",
   "execution_count": 36,
   "id": "71d72717-825d-4a92-9f4a-1e149e160872",
   "metadata": {},
   "outputs": [
    {
     "name": "stdout",
     "output_type": "stream",
     "text": [
      "Hello world\n",
      "3.141592653589793\n"
     ]
    }
   ],
   "source": [
    "print(\"Hello world\")\n",
    "print(math.pi)"
   ]
  },
  {
   "cell_type": "markdown",
   "id": "d32c65e0-ed1a-4309-804b-f0383cc6352d",
   "metadata": {},
   "source": [
    "#### Numerieke berekeningen\n",
    "\n",
    "* optellen\n",
    "* aftrekken\n",
    "* vermenigvuldigen\n",
    "* delen"
   ]
  },
  {
   "cell_type": "code",
   "execution_count": 9,
   "id": "8cf08c19-f9ca-4aa4-9de2-56b8735b8621",
   "metadata": {},
   "outputs": [
    {
     "data": {
      "text/plain": [
       "7361"
      ]
     },
     "execution_count": 9,
     "metadata": {},
     "output_type": "execute_result"
    }
   ],
   "source": [
    "1 + 2\n",
    "\n",
    "6575 + 786"
   ]
  },
  {
   "cell_type": "code",
   "execution_count": 13,
   "id": "9c140f04-ed52-4d49-bf29-b40384dd7729",
   "metadata": {},
   "outputs": [
    {
     "name": "stdout",
     "output_type": "stream",
     "text": [
      "7361\n",
      "5789\n",
      "5167950\n",
      "8.365139949109414\n"
     ]
    }
   ],
   "source": [
    "print(6575 + 786)\n",
    "print(6575 - 786)\n",
    "print(6575 * 786)\n",
    "print(6575 / 786)"
   ]
  },
  {
   "cell_type": "code",
   "execution_count": 15,
   "id": "a96ddf84-8cae-4837-b834-35b200a26b0a",
   "metadata": {},
   "outputs": [
    {
     "name": "stdout",
     "output_type": "stream",
     "text": [
      "43230625\n"
     ]
    }
   ],
   "source": [
    "print(6575 ** 2)"
   ]
  },
  {
   "cell_type": "code",
   "execution_count": 17,
   "id": "6810c45a-fb7f-4da9-b50f-5ad8e2e2625c",
   "metadata": {},
   "outputs": [
    {
     "name": "stdout",
     "output_type": "stream",
     "text": [
      "3.141592653589793\n"
     ]
    }
   ],
   "source": [
    "print(math.pi)"
   ]
  },
  {
   "cell_type": "code",
   "execution_count": 11,
   "id": "15bf6515-bfe3-41b1-9799-9991cc611a3c",
   "metadata": {},
   "outputs": [
    {
     "name": "stdout",
     "output_type": "stream",
     "text": [
      "1.0\n"
     ]
    }
   ],
   "source": [
    "print(math.sin(math.pi / 2))"
   ]
  },
  {
   "cell_type": "code",
   "execution_count": 13,
   "id": "f64de1a8-4526-4d47-834d-a372a2ea1a24",
   "metadata": {},
   "outputs": [
    {
     "name": "stdout",
     "output_type": "stream",
     "text": [
      "0.7071067811865475\n"
     ]
    }
   ],
   "source": [
    "print(math.sin(math.radians(45)))"
   ]
  },
  {
   "cell_type": "code",
   "execution_count": 19,
   "id": "c3196b28-e9f7-46c9-8a74-67be38e618d5",
   "metadata": {},
   "outputs": [
    {
     "name": "stdout",
     "output_type": "stream",
     "text": [
      "hallo\n",
      "3498457\n",
      "3.14\n",
      "27\n",
      "3.141592653589793\n",
      "0.7853981633974483\n"
     ]
    }
   ],
   "source": [
    "print('hallo')\n",
    "print(3498457)\n",
    "print(3.14)\n",
    "print(3 * 9)\n",
    "print(math.pi)\n",
    "print(math.radians(45))"
   ]
  },
  {
   "cell_type": "markdown",
   "id": "2ed5083a-4516-4694-9d73-bb7eb1f190ae",
   "metadata": {},
   "source": [
    "### Variabelen"
   ]
  },
  {
   "cell_type": "code",
   "execution_count": 20,
   "id": "dfb386fd-8b15-4f56-b4aa-eff4ad46e591",
   "metadata": {},
   "outputs": [],
   "source": [
    "naam = 'Peter'"
   ]
  },
  {
   "cell_type": "code",
   "execution_count": 22,
   "id": "e8a9436d-43c2-4482-a48d-76d398035935",
   "metadata": {},
   "outputs": [
    {
     "name": "stdout",
     "output_type": "stream",
     "text": [
      "Peter\n"
     ]
    }
   ],
   "source": [
    "print(naam)"
   ]
  },
  {
   "cell_type": "code",
   "execution_count": 28,
   "id": "b6723f78-05c8-4a24-90d9-6eb0c35a8c88",
   "metadata": {},
   "outputs": [
    {
     "name": "stdout",
     "output_type": "stream",
     "text": [
      "573780\n"
     ]
    }
   ],
   "source": [
    "resultaat = 876 * 655\n",
    "\n",
    "print(resultaat)"
   ]
  },
  {
   "cell_type": "code",
   "execution_count": 24,
   "id": "7bf1682b-d4d1-45bc-8838-61ff866ef000",
   "metadata": {},
   "outputs": [
    {
     "data": {
      "text/plain": [
       "str"
      ]
     },
     "execution_count": 24,
     "metadata": {},
     "output_type": "execute_result"
    }
   ],
   "source": [
    "type(naam)"
   ]
  },
  {
   "cell_type": "code",
   "execution_count": 25,
   "id": "46d580c4-d166-4704-906f-4d6167151131",
   "metadata": {},
   "outputs": [
    {
     "data": {
      "text/plain": [
       "int"
      ]
     },
     "execution_count": 25,
     "metadata": {},
     "output_type": "execute_result"
    }
   ],
   "source": [
    "type(resultaat)"
   ]
  },
  {
   "cell_type": "code",
   "execution_count": 26,
   "id": "295625af-b315-4927-8535-2a1ace4148ba",
   "metadata": {},
   "outputs": [],
   "source": [
    "resultaat = 2.5"
   ]
  },
  {
   "cell_type": "code",
   "execution_count": 29,
   "id": "fb114f15-3f65-41ac-a4dd-e43797d023eb",
   "metadata": {},
   "outputs": [
    {
     "data": {
      "text/plain": [
       "int"
      ]
     },
     "execution_count": 29,
     "metadata": {},
     "output_type": "execute_result"
    }
   ],
   "source": [
    "type(resultaat)"
   ]
  },
  {
   "cell_type": "code",
   "execution_count": 31,
   "id": "ab8162a9-2dc6-45e1-a2a9-67c695900ef4",
   "metadata": {},
   "outputs": [
    {
     "name": "stdout",
     "output_type": "stream",
     "text": [
      "15\n"
     ]
    }
   ],
   "source": [
    "aantal_autos = 15  # snake case\n",
    "\n",
    "print(aantal_autos)"
   ]
  },
  {
   "cell_type": "markdown",
   "id": "677228f0-cfbe-4dac-bc2c-d91f0a10eb4b",
   "metadata": {},
   "source": [
    "### Strings"
   ]
  },
  {
   "cell_type": "code",
   "execution_count": 41,
   "id": "c40efbd4-466a-4069-96f0-96d5858a7f84",
   "metadata": {},
   "outputs": [],
   "source": [
    "naam = 'PeteR'"
   ]
  },
  {
   "cell_type": "code",
   "execution_count": 43,
   "id": "a4a48eee-f7e6-4a76-8de1-3413d41faad6",
   "metadata": {},
   "outputs": [
    {
     "name": "stdout",
     "output_type": "stream",
     "text": [
      "PeteR\n",
      "PETER\n",
      "peter\n",
      "Peter\n",
      "pETEr\n"
     ]
    }
   ],
   "source": [
    "print(naam)\n",
    "print(naam.upper())\n",
    "print(naam.lower())\n",
    "print(naam.title())\n",
    "print(naam.swapcase())"
   ]
  },
  {
   "cell_type": "code",
   "execution_count": 44,
   "id": "42b7e7f4-bc41-43e5-b2b8-8a4d0773f43d",
   "metadata": {},
   "outputs": [
    {
     "data": {
      "text/plain": [
       "False"
      ]
     },
     "execution_count": 44,
     "metadata": {},
     "output_type": "execute_result"
    }
   ],
   "source": [
    "naam.endswith('.csv')"
   ]
  },
  {
   "cell_type": "code",
   "execution_count": 49,
   "id": "38b14636-bb89-4d51-964a-17cfd8500e1a",
   "metadata": {},
   "outputs": [
    {
     "data": {
      "text/plain": [
       "True"
      ]
     },
     "execution_count": 49,
     "metadata": {},
     "output_type": "execute_result"
    }
   ],
   "source": [
    "naam.lower().endswith('er')"
   ]
  },
  {
   "cell_type": "code",
   "execution_count": 50,
   "id": "f3e734b7-ce99-4e4c-b8f4-62e9f89161e3",
   "metadata": {},
   "outputs": [
    {
     "data": {
      "text/plain": [
       "'PxtxR'"
      ]
     },
     "execution_count": 50,
     "metadata": {},
     "output_type": "execute_result"
    }
   ],
   "source": [
    "naam.replace('e', 'x')"
   ]
  },
  {
   "cell_type": "markdown",
   "id": "03ccaa7d-bbed-435c-af1f-881627542838",
   "metadata": {},
   "source": [
    "#### indexing"
   ]
  },
  {
   "cell_type": "code",
   "execution_count": 57,
   "id": "f40c5808-694d-4b91-87c8-850c0b25d8b3",
   "metadata": {},
   "outputs": [
    {
     "data": {
      "text/plain": [
       "'PeteR'"
      ]
     },
     "execution_count": 57,
     "metadata": {},
     "output_type": "execute_result"
    }
   ],
   "source": [
    "naam"
   ]
  },
  {
   "cell_type": "code",
   "execution_count": 61,
   "id": "e1d52ac3-335a-460c-b440-c315f08b511a",
   "metadata": {},
   "outputs": [
    {
     "data": {
      "text/plain": [
       "'t'"
      ]
     },
     "execution_count": 61,
     "metadata": {},
     "output_type": "execute_result"
    }
   ],
   "source": [
    "naam[2]"
   ]
  },
  {
   "cell_type": "code",
   "execution_count": 65,
   "id": "a9d34a3f-8d69-4ab5-a05a-906fc7dc0869",
   "metadata": {},
   "outputs": [
    {
     "data": {
      "text/plain": [
       "'t'"
      ]
     },
     "execution_count": 65,
     "metadata": {},
     "output_type": "execute_result"
    }
   ],
   "source": [
    "naam[-3]"
   ]
  },
  {
   "cell_type": "code",
   "execution_count": 67,
   "id": "7107fc72-fee7-49a7-8e42-45daa4698904",
   "metadata": {},
   "outputs": [
    {
     "data": {
      "text/plain": [
       "'Pe'"
      ]
     },
     "execution_count": 67,
     "metadata": {},
     "output_type": "execute_result"
    }
   ],
   "source": [
    "naam[0:2]"
   ]
  },
  {
   "cell_type": "code",
   "execution_count": 68,
   "id": "9c0c7a29-52fa-4e68-999e-8ee9c798d284",
   "metadata": {},
   "outputs": [
    {
     "data": {
      "text/plain": [
       "'teR'"
      ]
     },
     "execution_count": 68,
     "metadata": {},
     "output_type": "execute_result"
    }
   ],
   "source": [
    "naam[-3:]"
   ]
  },
  {
   "cell_type": "markdown",
   "id": "8a0c963a-3598-4d6f-8191-b45e6f51676a",
   "metadata": {},
   "source": [
    "### String formatting"
   ]
  },
  {
   "cell_type": "code",
   "execution_count": 69,
   "id": "8b8a8614-7942-4806-a76a-9c3cf997d0a1",
   "metadata": {},
   "outputs": [],
   "source": [
    "naam = 'Guido'\n",
    "leeftijd = 45"
   ]
  },
  {
   "cell_type": "code",
   "execution_count": 70,
   "id": "01458b39-2693-4309-a641-e141dbad26c7",
   "metadata": {},
   "outputs": [
    {
     "name": "stdout",
     "output_type": "stream",
     "text": [
      "Guido is 45 jaar oud.\n"
     ]
    }
   ],
   "source": [
    "print(naam, 'is', leeftijd, 'jaar oud.')"
   ]
  },
  {
   "cell_type": "code",
   "execution_count": 77,
   "id": "decd74d1-a36c-4f24-9fd9-294255a17ba6",
   "metadata": {},
   "outputs": [
    {
     "name": "stdout",
     "output_type": "stream",
     "text": [
      "Guido is 45 jaar oud.\n"
     ]
    }
   ],
   "source": [
    "print(naam + ' is ' + str(leeftijd) + ' jaar oud.')"
   ]
  },
  {
   "cell_type": "code",
   "execution_count": 82,
   "id": "b6047079-3707-429f-85f3-60387cc5273c",
   "metadata": {},
   "outputs": [
    {
     "name": "stdout",
     "output_type": "stream",
     "text": [
      "Guido is 45 jaar oud.\n"
     ]
    }
   ],
   "source": [
    "print(f'{naam} is {leeftijd} jaar oud.')"
   ]
  },
  {
   "cell_type": "markdown",
   "id": "266659a1-7e04-4d8e-9a09-26f4ecf48160",
   "metadata": {},
   "source": [
    "### Unicode"
   ]
  },
  {
   "cell_type": "code",
   "execution_count": 84,
   "id": "cfab20b4-796c-4c20-be89-093f42ea519f",
   "metadata": {},
   "outputs": [
    {
     "name": "stdout",
     "output_type": "stream",
     "text": [
      "◕\n"
     ]
    }
   ],
   "source": [
    "print('\\u25D5')"
   ]
  },
  {
   "cell_type": "markdown",
   "id": "62c685d8-985d-477f-9d0c-599a74fa852d",
   "metadata": {},
   "source": [
    "### Datastructuur - list"
   ]
  },
  {
   "cell_type": "code",
   "execution_count": 85,
   "id": "b0320d28-4cf1-447d-8547-524f18a685b9",
   "metadata": {},
   "outputs": [],
   "source": [
    "getallen = [23, 45, 67, 25, 32]"
   ]
  },
  {
   "cell_type": "code",
   "execution_count": 86,
   "id": "b4ec2533-f018-42d6-82a1-0abff8137e0f",
   "metadata": {},
   "outputs": [
    {
     "data": {
      "text/plain": [
       "list"
      ]
     },
     "execution_count": 86,
     "metadata": {},
     "output_type": "execute_result"
    }
   ],
   "source": [
    "type(getallen)"
   ]
  },
  {
   "cell_type": "code",
   "execution_count": 88,
   "id": "7fb3625c-78f0-49fa-808b-2da2cbfb309d",
   "metadata": {},
   "outputs": [
    {
     "name": "stdout",
     "output_type": "stream",
     "text": [
      "[23, 45, 67, 25, 32]\n"
     ]
    }
   ],
   "source": [
    "print(getallen)"
   ]
  },
  {
   "cell_type": "code",
   "execution_count": 89,
   "id": "60ed7ec1-9ff1-412c-b0ca-b3eda43da651",
   "metadata": {},
   "outputs": [
    {
     "data": {
      "text/plain": [
       "5"
      ]
     },
     "execution_count": 89,
     "metadata": {},
     "output_type": "execute_result"
    }
   ],
   "source": [
    "len(getallen)"
   ]
  },
  {
   "cell_type": "code",
   "execution_count": 90,
   "id": "4be05e0a-bd69-4016-9277-4e56257b7d3c",
   "metadata": {},
   "outputs": [
    {
     "name": "stdout",
     "output_type": "stream",
     "text": [
      "23\n",
      "67\n",
      "192\n"
     ]
    }
   ],
   "source": [
    "print(min(getallen))\n",
    "print(max(getallen))\n",
    "print(sum(getallen))"
   ]
  },
  {
   "cell_type": "code",
   "execution_count": 91,
   "id": "8991e700-c7d5-496a-a70e-068e4adf4dc4",
   "metadata": {},
   "outputs": [
    {
     "name": "stdout",
     "output_type": "stream",
     "text": [
      "[23, 25, 32, 45, 67]\n"
     ]
    }
   ],
   "source": [
    "print(sorted(getallen))"
   ]
  },
  {
   "cell_type": "code",
   "execution_count": 92,
   "id": "105b494d-2c51-4930-a300-a80671b41a3f",
   "metadata": {},
   "outputs": [],
   "source": [
    "boodschappenlijstje = []"
   ]
  },
  {
   "cell_type": "code",
   "execution_count": 104,
   "id": "610d434c-156c-41ab-a07e-1644a9df7b88",
   "metadata": {},
   "outputs": [
    {
     "name": "stdout",
     "output_type": "stream",
     "text": [
      "['bier', 'boter', 'kaas', 'eieren', 'melk', 'boter', 'kaas']\n",
      "7\n"
     ]
    }
   ],
   "source": [
    "print(boodschappenlijstje)\n",
    "print(len(boodschappenlijstje))"
   ]
  },
  {
   "cell_type": "code",
   "execution_count": 97,
   "id": "7d2ea69d-9496-422f-aa8d-8cc3d2c879f8",
   "metadata": {},
   "outputs": [],
   "source": [
    "boodschappenlijstje.append('boter')\n",
    "boodschappenlijstje.append('kaas')\n",
    "boodschappenlijstje.append('eieren')\n",
    "boodschappenlijstje.append('melk')"
   ]
  },
  {
   "cell_type": "code",
   "execution_count": 101,
   "id": "9c211d93-95fb-4e95-9a02-59e1aa31ffb5",
   "metadata": {},
   "outputs": [
    {
     "data": {
      "text/plain": [
       "'eieren'"
      ]
     },
     "execution_count": 101,
     "metadata": {},
     "output_type": "execute_result"
    }
   ],
   "source": [
    "boodschappenlijstje.pop()"
   ]
  },
  {
   "cell_type": "code",
   "execution_count": 103,
   "id": "18e00143-e4b7-47da-85e0-49ac3c2be3a4",
   "metadata": {},
   "outputs": [],
   "source": [
    "boodschappenlijstje.insert(0, 'bier')"
   ]
  },
  {
   "cell_type": "code",
   "execution_count": 105,
   "id": "7f1f4085-a3a0-487c-acaa-29ac9c6bc2e3",
   "metadata": {},
   "outputs": [
    {
     "data": {
      "text/plain": [
       "'eieren'"
      ]
     },
     "execution_count": 105,
     "metadata": {},
     "output_type": "execute_result"
    }
   ],
   "source": [
    "boodschappenlijstje[3]"
   ]
  },
  {
   "cell_type": "code",
   "execution_count": 106,
   "id": "c4fe097d-b2a7-4926-810a-cbaa143f5e9a",
   "metadata": {},
   "outputs": [
    {
     "data": {
      "text/plain": [
       "['melk', 'boter', 'kaas']"
      ]
     },
     "execution_count": 106,
     "metadata": {},
     "output_type": "execute_result"
    }
   ],
   "source": [
    "boodschappenlijstje[-3:]"
   ]
  },
  {
   "cell_type": "code",
   "execution_count": 107,
   "id": "a5c9b7ca-959b-4011-ba42-836423ad8b60",
   "metadata": {},
   "outputs": [],
   "source": [
    "zin = 'de hond springt over de luie kat'"
   ]
  },
  {
   "cell_type": "code",
   "execution_count": 111,
   "id": "2fc38e05-d225-4df4-b1b6-5bb6dfd2181f",
   "metadata": {},
   "outputs": [],
   "source": [
    "woorden = zin.split()"
   ]
  },
  {
   "cell_type": "code",
   "execution_count": 114,
   "id": "8c529daf-ad12-42f3-aabf-6e0884f35cde",
   "metadata": {},
   "outputs": [
    {
     "data": {
      "text/plain": [
       "['de', 'hond', 'springt', 'over', 'de', 'luie', 'kat']"
      ]
     },
     "execution_count": 114,
     "metadata": {},
     "output_type": "execute_result"
    }
   ],
   "source": [
    "woorden"
   ]
  },
  {
   "cell_type": "code",
   "execution_count": 115,
   "id": "e1f160fe-4086-4d33-a3d4-e5bc0d9ea9f1",
   "metadata": {},
   "outputs": [
    {
     "data": {
      "text/plain": [
       "'de-hond-springt-over-de-luie-kat'"
      ]
     },
     "execution_count": 115,
     "metadata": {},
     "output_type": "execute_result"
    }
   ],
   "source": [
    "'-'.join(woorden)"
   ]
  },
  {
   "cell_type": "markdown",
   "id": "cd40cfbe-0243-46a0-bb9d-59f3acc70815",
   "metadata": {},
   "source": [
    "### dict"
   ]
  },
  {
   "cell_type": "code",
   "execution_count": 116,
   "id": "7536aca5-e9e6-4c85-8b5e-d51d528e6203",
   "metadata": {},
   "outputs": [],
   "source": [
    "d = {'Utrecht':'030', 'Groningen':'050', 'Amsterdam':'020'}"
   ]
  },
  {
   "cell_type": "code",
   "execution_count": 119,
   "id": "a44d240a-4d15-4fee-9f87-a43409ffdffb",
   "metadata": {},
   "outputs": [
    {
     "data": {
      "text/plain": [
       "'050'"
      ]
     },
     "execution_count": 119,
     "metadata": {},
     "output_type": "execute_result"
    }
   ],
   "source": [
    "d['Groningen']"
   ]
  },
  {
   "cell_type": "code",
   "execution_count": 143,
   "id": "21951c1d-e7e5-41a5-a3a0-c64958159bb6",
   "metadata": {},
   "outputs": [],
   "source": [
    "d['Rotterdam'] = '010'"
   ]
  },
  {
   "cell_type": "code",
   "execution_count": 144,
   "id": "db9a73f6-3f8e-4bea-bd3d-28197fbd21f2",
   "metadata": {},
   "outputs": [
    {
     "data": {
      "text/plain": [
       "{'Utrecht': '030', 'Groningen': '050', 'Amsterdam': '020', 'Rotterdam': '010'}"
      ]
     },
     "execution_count": 144,
     "metadata": {},
     "output_type": "execute_result"
    }
   ],
   "source": [
    "d"
   ]
  },
  {
   "cell_type": "code",
   "execution_count": 145,
   "id": "fbb7bfd7-aa4f-47f6-83d5-7d3e84fbbd86",
   "metadata": {},
   "outputs": [
    {
     "data": {
      "text/plain": [
       "'?????'"
      ]
     },
     "execution_count": 145,
     "metadata": {},
     "output_type": "execute_result"
    }
   ],
   "source": [
    "d.get('Den Haag', '?????')"
   ]
  },
  {
   "cell_type": "code",
   "execution_count": 146,
   "id": "9e640521-2185-4e34-908c-afa480cf3ce3",
   "metadata": {},
   "outputs": [
    {
     "data": {
      "text/plain": [
       "4"
      ]
     },
     "execution_count": 146,
     "metadata": {},
     "output_type": "execute_result"
    }
   ],
   "source": [
    "len(d)"
   ]
  },
  {
   "cell_type": "code",
   "execution_count": 147,
   "id": "47b5ac98-27d0-40d8-98f7-49bf2300e24a",
   "metadata": {},
   "outputs": [
    {
     "data": {
      "text/plain": [
       "['Utrecht', 'Groningen', 'Amsterdam', 'Rotterdam']"
      ]
     },
     "execution_count": 147,
     "metadata": {},
     "output_type": "execute_result"
    }
   ],
   "source": [
    "list(d.keys())"
   ]
  },
  {
   "cell_type": "code",
   "execution_count": 148,
   "id": "0fc3bae9-7002-4d14-9dc6-26ffb5818fb7",
   "metadata": {},
   "outputs": [
    {
     "data": {
      "text/plain": [
       "['030', '050', '020', '010']"
      ]
     },
     "execution_count": 148,
     "metadata": {},
     "output_type": "execute_result"
    }
   ],
   "source": [
    "list(d.values())"
   ]
  },
  {
   "cell_type": "code",
   "execution_count": 149,
   "id": "8f2778b5-fefb-4dde-a73c-27f0a162664e",
   "metadata": {},
   "outputs": [],
   "source": [
    "del d['Rotterdam']"
   ]
  },
  {
   "cell_type": "code",
   "execution_count": 139,
   "id": "85c93ebb-ad4c-47f5-ac47-3d0f81875c3a",
   "metadata": {},
   "outputs": [
    {
     "data": {
      "text/plain": [
       "{'Utrecht': '030', 'Groningen': '050', 'Amsterdam': '020'}"
      ]
     },
     "execution_count": 139,
     "metadata": {},
     "output_type": "execute_result"
    }
   ],
   "source": [
    "d"
   ]
  },
  {
   "cell_type": "markdown",
   "id": "f1c999ec-fdbc-48b6-ae63-7a05df38b73c",
   "metadata": {},
   "source": [
    "### tuple"
   ]
  },
  {
   "cell_type": "code",
   "execution_count": 157,
   "id": "f4097135-1a46-4d60-8ae6-c89b0a6156ae",
   "metadata": {},
   "outputs": [],
   "source": [
    "t = (23, 45, 67, 89, 32, 53)"
   ]
  },
  {
   "cell_type": "code",
   "execution_count": 158,
   "id": "b7f23ebe-c602-4549-bf4b-9ad5c6a638f0",
   "metadata": {},
   "outputs": [
    {
     "data": {
      "text/plain": [
       "tuple"
      ]
     },
     "execution_count": 158,
     "metadata": {},
     "output_type": "execute_result"
    }
   ],
   "source": [
    "type(t)"
   ]
  },
  {
   "cell_type": "code",
   "execution_count": 159,
   "id": "b8f8ac41-75af-47d2-9863-290362ff20be",
   "metadata": {},
   "outputs": [
    {
     "name": "stdout",
     "output_type": "stream",
     "text": [
      "(23, 45, 67, 89, 32, 53)\n"
     ]
    }
   ],
   "source": [
    "print(t)"
   ]
  },
  {
   "cell_type": "code",
   "execution_count": 160,
   "id": "cb58c023-5a42-492c-94ce-36e609736171",
   "metadata": {},
   "outputs": [
    {
     "data": {
      "text/plain": [
       "(89, 32, 53)"
      ]
     },
     "execution_count": 160,
     "metadata": {},
     "output_type": "execute_result"
    }
   ],
   "source": [
    "t[-3:]"
   ]
  },
  {
   "cell_type": "code",
   "execution_count": null,
   "id": "f68c9d30-6d09-467d-9c93-c9b4ac126eae",
   "metadata": {},
   "outputs": [],
   "source": []
  },
  {
   "cell_type": "code",
   "execution_count": 162,
   "id": "0483121f-7a6d-4f94-92b1-9e0b0578e1de",
   "metadata": {},
   "outputs": [
    {
     "data": {
      "text/plain": [
       "7.4"
      ]
     },
     "execution_count": 162,
     "metadata": {},
     "output_type": "execute_result"
    }
   ],
   "source": [
    "37 / 5"
   ]
  },
  {
   "cell_type": "code",
   "execution_count": 163,
   "id": "228d82d9-8cc9-4543-9ef7-798e4e6c0979",
   "metadata": {},
   "outputs": [
    {
     "data": {
      "text/plain": [
       "7"
      ]
     },
     "execution_count": 163,
     "metadata": {},
     "output_type": "execute_result"
    }
   ],
   "source": [
    "37 // 5"
   ]
  },
  {
   "cell_type": "code",
   "execution_count": 164,
   "id": "b02f1b2a-df80-49d6-89c0-b85f774d40f1",
   "metadata": {},
   "outputs": [
    {
     "data": {
      "text/plain": [
       "2"
      ]
     },
     "execution_count": 164,
     "metadata": {},
     "output_type": "execute_result"
    }
   ],
   "source": [
    "37 % 5"
   ]
  },
  {
   "cell_type": "code",
   "execution_count": 165,
   "id": "4032e2b4-7b7f-42fe-b980-5246c861a67f",
   "metadata": {},
   "outputs": [
    {
     "data": {
      "text/plain": [
       "(7, 2)"
      ]
     },
     "execution_count": 165,
     "metadata": {},
     "output_type": "execute_result"
    }
   ],
   "source": [
    "divmod(37, 5)"
   ]
  },
  {
   "cell_type": "code",
   "execution_count": 166,
   "id": "fbb3f365-6e54-4dce-99ad-6c3d2f63be6b",
   "metadata": {},
   "outputs": [],
   "source": [
    "t = ('Peter', 'Anema', 67, 'Lhee')"
   ]
  },
  {
   "cell_type": "code",
   "execution_count": 167,
   "id": "45556a3e-0610-46d0-9ce1-c0e76a6c0eb3",
   "metadata": {},
   "outputs": [
    {
     "data": {
      "text/plain": [
       "('Peter', 'Anema', 67, 'Lhee')"
      ]
     },
     "execution_count": 167,
     "metadata": {},
     "output_type": "execute_result"
    }
   ],
   "source": [
    "t"
   ]
  },
  {
   "cell_type": "code",
   "execution_count": 170,
   "id": "dc8f9247-9f7d-4d14-8516-f3ba4c38b850",
   "metadata": {},
   "outputs": [],
   "source": [
    "voornaam, achternaam, leeftijd, woonplaats = t"
   ]
  },
  {
   "cell_type": "code",
   "execution_count": 173,
   "id": "eb048af6-792c-477f-80e6-dfb19313c23f",
   "metadata": {},
   "outputs": [
    {
     "data": {
      "text/plain": [
       "int"
      ]
     },
     "execution_count": 173,
     "metadata": {},
     "output_type": "execute_result"
    }
   ],
   "source": [
    "type(leeftijd)"
   ]
  },
  {
   "cell_type": "code",
   "execution_count": 181,
   "id": "954c502d-a016-4382-9d78-7eb525512d98",
   "metadata": {},
   "outputs": [
    {
     "data": {
      "text/plain": [
       "[23, 45, 101, 25, 32]"
      ]
     },
     "execution_count": 181,
     "metadata": {},
     "output_type": "execute_result"
    }
   ],
   "source": [
    "getallen"
   ]
  },
  {
   "cell_type": "code",
   "execution_count": 180,
   "id": "2905854c-1c64-4d43-aae4-caefc1cf2d9b",
   "metadata": {},
   "outputs": [],
   "source": [
    "getallen[2] += 1"
   ]
  },
  {
   "cell_type": "markdown",
   "id": "1bde8aca-a1f7-450e-9f5d-8f0f9c5bc350",
   "metadata": {},
   "source": [
    "### set"
   ]
  },
  {
   "cell_type": "code",
   "execution_count": 182,
   "id": "7f72daa2-cabf-48ba-a606-46608a961269",
   "metadata": {},
   "outputs": [],
   "source": [
    "st = {1,2,3,4,5,5,5,5}"
   ]
  },
  {
   "cell_type": "code",
   "execution_count": 191,
   "id": "4896afaf-af8d-4e38-822c-498210d5939d",
   "metadata": {},
   "outputs": [
    {
     "data": {
      "text/plain": [
       "{1, 2, 3, 4, 6}"
      ]
     },
     "execution_count": 191,
     "metadata": {},
     "output_type": "execute_result"
    }
   ],
   "source": [
    "st"
   ]
  },
  {
   "cell_type": "code",
   "execution_count": 188,
   "id": "ae9199b5-cd18-4093-a58b-594f869b66fa",
   "metadata": {},
   "outputs": [],
   "source": [
    "st.add(6)"
   ]
  },
  {
   "cell_type": "code",
   "execution_count": 192,
   "id": "5f8475d6-5883-4be5-a5c6-51c11315832e",
   "metadata": {},
   "outputs": [
    {
     "ename": "KeyError",
     "evalue": "5",
     "output_type": "error",
     "traceback": [
      "\u001b[0;31m---------------------------------------------------------------------------\u001b[0m",
      "\u001b[0;31mKeyError\u001b[0m                                  Traceback (most recent call last)",
      "Cell \u001b[0;32mIn[192], line 1\u001b[0m\n\u001b[0;32m----> 1\u001b[0m \u001b[43mst\u001b[49m\u001b[38;5;241;43m.\u001b[39;49m\u001b[43mremove\u001b[49m\u001b[43m(\u001b[49m\u001b[38;5;241;43m5\u001b[39;49m\u001b[43m)\u001b[49m\n",
      "\u001b[0;31mKeyError\u001b[0m: 5"
     ]
    }
   ],
   "source": [
    "st.remove(5)"
   ]
  },
  {
   "cell_type": "code",
   "execution_count": 194,
   "id": "57ecf3aa-4da4-4bb0-838c-9be7258b659f",
   "metadata": {},
   "outputs": [
    {
     "data": {
      "text/plain": [
       "True"
      ]
     },
     "execution_count": 194,
     "metadata": {},
     "output_type": "execute_result"
    }
   ],
   "source": [
    "6 in st"
   ]
  },
  {
   "cell_type": "markdown",
   "id": "4e1d8b12-ce25-4c73-98de-230d0e9bb562",
   "metadata": {},
   "source": [
    "### Flow control"
   ]
  },
  {
   "cell_type": "code",
   "execution_count": 222,
   "id": "7addc6d5-d504-4666-9ce4-ef9b2fcd4e53",
   "metadata": {},
   "outputs": [
    {
     "name": "stdout",
     "output_type": "stream",
     "text": [
      "Beste jongen\n",
      "Hoe gaat het?\n"
     ]
    }
   ],
   "source": [
    "gender = 'm'\n",
    "leeftijd = 15\n",
    "\n",
    "if gender == 'm' and leeftijd > 18:\n",
    "    print('Geachte heer')\n",
    "\n",
    "elif gender == 'm' and leeftijd <= 18:\n",
    "    print('Beste jongen')\n",
    "\n",
    "elif gender == 'v':\n",
    "    print('Geachte mevrouw')\n",
    "\n",
    "else:\n",
    "    print('Beste mens')\n",
    "\n",
    "print('Hoe gaat het?')"
   ]
  },
  {
   "cell_type": "code",
   "execution_count": 224,
   "id": "338d1272-b8ac-4285-8086-b93780d51bf8",
   "metadata": {},
   "outputs": [
    {
     "name": "stdout",
     "output_type": "stream",
     "text": [
      "Ergens tussen 10 en 100\n"
     ]
    }
   ],
   "source": [
    "getal = 80\n",
    "\n",
    "if getal >= 100:\n",
    "    print('Groot')\n",
    "\n",
    "elif getal >= 10 and getal < 100:\n",
    "    print('Ergens tussen 10 en 100')\n",
    "    \n",
    "else:\n",
    "    print('Klein')"
   ]
  },
  {
   "cell_type": "code",
   "execution_count": 228,
   "id": "835d057e-77cf-4431-b22b-0619fa0cc116",
   "metadata": {},
   "outputs": [
    {
     "name": "stdout",
     "output_type": "stream",
     "text": [
      "23 False\n",
      "45 False\n",
      "101 True\n",
      "25 False\n",
      "32 False\n"
     ]
    }
   ],
   "source": [
    "for getal in getallen:\n",
    "    print(getal, getal > 100)"
   ]
  },
  {
   "cell_type": "code",
   "execution_count": 226,
   "id": "99b74720-74f3-4ed9-a189-a1d2d0ec2b2c",
   "metadata": {},
   "outputs": [
    {
     "data": {
      "text/plain": [
       "[23, 45, 101, 25, 32]"
      ]
     },
     "execution_count": 226,
     "metadata": {},
     "output_type": "execute_result"
    }
   ],
   "source": [
    "getallen"
   ]
  },
  {
   "cell_type": "code",
   "execution_count": 230,
   "id": "0befbc3b-38d1-497b-aa84-d7a1b0b1601f",
   "metadata": {},
   "outputs": [
    {
     "name": "stdout",
     "output_type": "stream",
     "text": [
      "1\n",
      "2\n",
      "3\n",
      "4\n",
      "5\n",
      "6\n",
      "7\n",
      "8\n",
      "9\n",
      "10\n",
      "11\n",
      "12\n",
      "13\n",
      "14\n",
      "15\n",
      "16\n",
      "17\n",
      "18\n",
      "19\n",
      "20\n"
     ]
    }
   ],
   "source": [
    "for getal in range(1, 21):\n",
    "    print(getal)"
   ]
  },
  {
   "cell_type": "markdown",
   "id": "ecb015eb-d431-44b5-a14c-6a94a63e2942",
   "metadata": {},
   "source": [
    "## Print alle getallen onder de 100 die deelbaar zijn door 3 en door 7"
   ]
  },
  {
   "cell_type": "code",
   "execution_count": 238,
   "id": "b8bff7b9-8a0d-4a05-b048-66a52068b420",
   "metadata": {},
   "outputs": [
    {
     "data": {
      "text/plain": [
       "True"
      ]
     },
     "execution_count": 238,
     "metadata": {},
     "output_type": "execute_result"
    }
   ],
   "source": [
    "getal = 21\n",
    "getal % 3 == 0 and getal % 7 == 0"
   ]
  },
  {
   "cell_type": "code",
   "execution_count": 241,
   "id": "f9941464-512a-4441-b58e-02c99900a4eb",
   "metadata": {},
   "outputs": [
    {
     "name": "stdout",
     "output_type": "stream",
     "text": [
      "21\n",
      "42\n",
      "63\n",
      "84\n"
     ]
    }
   ],
   "source": [
    "for getal in range(1, 100):\n",
    "    if getal % 3 == 0 and getal % 7 == 0:\n",
    "        print(getal)"
   ]
  },
  {
   "cell_type": "markdown",
   "id": "95227892-f53a-4c7a-a099-f8068634ea02",
   "metadata": {},
   "source": [
    "### Functies"
   ]
  },
  {
   "cell_type": "code",
   "execution_count": 271,
   "id": "c06c2acb-d758-425c-9a53-11359cfed231",
   "metadata": {},
   "outputs": [],
   "source": [
    "def is_deelbaar(getal, a1, a2=1):\n",
    "    \"\"\"Bepaal of getal deelbaar is door a\n",
    "\n",
    "    Zowel getal als a moeten een int zijn!\n",
    "    \"\"\"\n",
    "    return getal % a1 == 0 and getal % a2 == 0\n",
    "\n",
    "\n",
    "def is_deelbaar(getal, *factors):\n",
    "    \"\"\"Bepaal of getal deelbaar is door alle factors\n",
    "\n",
    "    Zowel getal als a moeten een int zijn!\n",
    "    \"\"\"\n",
    "    for a in factors:\n",
    "        if getal % a != 0:\n",
    "            return False\n",
    "    return True"
   ]
  },
  {
   "cell_type": "code",
   "execution_count": 276,
   "id": "74a4b9b3-7dd3-4c0e-9679-5bc454401dd7",
   "metadata": {},
   "outputs": [
    {
     "name": "stdout",
     "output_type": "stream",
     "text": [
      "True\n",
      "True\n",
      "False\n",
      "True\n"
     ]
    }
   ],
   "source": [
    "getal = 210\n",
    "\n",
    "print( is_deelbaar(getal, 6) )\n",
    "print( is_deelbaar(getal, 6, 5) )\n",
    "print( is_deelbaar(getal, 6, 4, 7) )\n",
    "print( is_deelbaar(getal, 6, 5, 7, 10) )\n"
   ]
  },
  {
   "cell_type": "code",
   "execution_count": null,
   "id": "ad592099-f35c-4026-9e72-82b6e3954b9b",
   "metadata": {},
   "outputs": [],
   "source": []
  },
  {
   "cell_type": "code",
   "execution_count": 257,
   "id": "ae07e5eb-99a2-48a1-9f87-a4ec5e28c829",
   "metadata": {},
   "outputs": [],
   "source": [
    "def telop(a, b):\n",
    "    \"\"\"Tel de argumenten bij elkaar op\"\"\"\n",
    "    result = a + b\n",
    "    return result"
   ]
  },
  {
   "cell_type": "code",
   "execution_count": 253,
   "id": "be9dc3e6-5d8e-42c9-a00e-092655d838a0",
   "metadata": {},
   "outputs": [
    {
     "data": {
      "text/plain": [
       "75"
      ]
     },
     "execution_count": 253,
     "metadata": {},
     "output_type": "execute_result"
    }
   ],
   "source": [
    "telop(32, 43)"
   ]
  },
  {
   "cell_type": "code",
   "execution_count": 277,
   "id": "8e600708-57db-4f73-b627-44630d15ce56",
   "metadata": {},
   "outputs": [],
   "source": [
    "f1 = 0.1\n",
    "f2 = 0.2"
   ]
  },
  {
   "cell_type": "code",
   "execution_count": 279,
   "id": "c409ae3a-be50-4fcc-99cd-afdcc943bf6b",
   "metadata": {},
   "outputs": [
    {
     "data": {
      "text/plain": [
       "float"
      ]
     },
     "execution_count": 279,
     "metadata": {},
     "output_type": "execute_result"
    }
   ],
   "source": [
    "type(f2)"
   ]
  },
  {
   "cell_type": "code",
   "execution_count": 282,
   "id": "44283887-ef12-4c35-8cef-a3dcf3d2d6e3",
   "metadata": {},
   "outputs": [
    {
     "data": {
      "text/plain": [
       "0.30000000000000004"
      ]
     },
     "execution_count": 282,
     "metadata": {},
     "output_type": "execute_result"
    }
   ],
   "source": [
    "f1 + f2"
   ]
  },
  {
   "cell_type": "code",
   "execution_count": 291,
   "id": "095e53ba-0c8a-47ee-8f6a-58b90f2e4551",
   "metadata": {},
   "outputs": [
    {
     "name": "stdout",
     "output_type": "stream",
     "text": [
      "0.100000000000000005551115123126\n",
      "0.200000000000000011102230246252\n",
      "0.300000000000000044408920985006\n"
     ]
    }
   ],
   "source": [
    "print(f'{0.1:.30f}')\n",
    "print(f'{0.2:.30f}')\n",
    "print(f'{0.1+0.2:.30f}')"
   ]
  },
  {
   "cell_type": "code",
   "execution_count": 294,
   "id": "593f7c9b-e437-4ff1-a4d3-a21ee3d25cbc",
   "metadata": {},
   "outputs": [
    {
     "name": "stdout",
     "output_type": "stream",
     "text": [
      "0.3\n"
     ]
    }
   ],
   "source": [
    "from decimal import Decimal\n",
    "\n",
    "d1 = Decimal('0.1')\n",
    "d2 = Decimal('0.2')\n",
    "\n",
    "print(d1 + d2)"
   ]
  },
  {
   "cell_type": "code",
   "execution_count": 300,
   "id": "62ce104b-d541-4cac-8863-ef64180721ee",
   "metadata": {},
   "outputs": [
    {
     "data": {
      "text/plain": [
       "False"
      ]
     },
     "execution_count": 300,
     "metadata": {},
     "output_type": "execute_result"
    }
   ],
   "source": [
    "round(0.1 + 0.2, 17) == round(0.3, 17)"
   ]
  },
  {
   "cell_type": "code",
   "execution_count": 305,
   "id": "c5fdea05-0241-4a70-9e24-53b7bd62f383",
   "metadata": {},
   "outputs": [],
   "source": [
    "f1 = 1.1e-100\n",
    "f2 = 1.2e-100"
   ]
  },
  {
   "cell_type": "code",
   "execution_count": 306,
   "id": "32f52f08-2a74-4ec6-bde2-1d9dce754405",
   "metadata": {},
   "outputs": [
    {
     "data": {
      "text/plain": [
       "2.3e-100"
      ]
     },
     "execution_count": 306,
     "metadata": {},
     "output_type": "execute_result"
    }
   ],
   "source": [
    "f1 + f2"
   ]
  },
  {
   "cell_type": "code",
   "execution_count": null,
   "id": "8a2f7337-fa53-42a0-b93f-41d51c317db5",
   "metadata": {},
   "outputs": [],
   "source": []
  }
 ],
 "metadata": {
  "kernelspec": {
   "display_name": "Python 3 (ipykernel)",
   "language": "python",
   "name": "python3"
  },
  "language_info": {
   "codemirror_mode": {
    "name": "ipython",
    "version": 3
   },
   "file_extension": ".py",
   "mimetype": "text/x-python",
   "name": "python",
   "nbconvert_exporter": "python",
   "pygments_lexer": "ipython3",
   "version": "3.13.3"
  }
 },
 "nbformat": 4,
 "nbformat_minor": 5
}
