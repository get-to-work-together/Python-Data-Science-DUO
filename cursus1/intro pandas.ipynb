{
 "cells": [
  {
   "cell_type": "markdown",
   "id": "53d9de34-2baa-4d85-9a93-44f1bfe56ded",
   "metadata": {},
   "source": [
    "# Pandas"
   ]
  },
  {
   "cell_type": "code",
   "execution_count": 12,
   "id": "835ea375-e567-4ca7-a3d7-71de23cd73f4",
   "metadata": {},
   "outputs": [],
   "source": [
    "import pandas as pd"
   ]
  },
  {
   "cell_type": "code",
   "execution_count": 13,
   "id": "cf523d81-5946-45d4-ba82-9cbc0bae2423",
   "metadata": {},
   "outputs": [],
   "source": [
    "df = pd.DataFrame([\n",
    "    {'kengetal': '050', 'plaats': 'Groningen', 'provincie': 'GR', 'aantal_inwoners': 80000},\n",
    "    {'kengetal': '020', 'plaats': 'Amsterdam', 'provincie': 'NH', 'aantal_inwoners': 200000},\n",
    "    {'kengetal': '010', 'plaats': 'Rotterdam', 'provincie': 'ZH', 'aantal_inwoners': 180000},\n",
    "    {'kengetal': '030', 'plaats': 'Utrecht'},\n",
    "    {'kengetal': '070', 'plaats': 'Den Haag', 'provincie': 'ZH', 'aantal_inwoners': 170000},\n",
    "])"
   ]
  },
  {
   "cell_type": "code",
   "execution_count": 14,
   "id": "41aaaa22-9fb5-4f8d-9079-7c9ecc5832c3",
   "metadata": {},
   "outputs": [
    {
     "data": {
      "text/html": [
       "<div>\n",
       "<style scoped>\n",
       "    .dataframe tbody tr th:only-of-type {\n",
       "        vertical-align: middle;\n",
       "    }\n",
       "\n",
       "    .dataframe tbody tr th {\n",
       "        vertical-align: top;\n",
       "    }\n",
       "\n",
       "    .dataframe thead th {\n",
       "        text-align: right;\n",
       "    }\n",
       "</style>\n",
       "<table border=\"1\" class=\"dataframe\">\n",
       "  <thead>\n",
       "    <tr style=\"text-align: right;\">\n",
       "      <th></th>\n",
       "      <th>kengetal</th>\n",
       "      <th>plaats</th>\n",
       "      <th>provincie</th>\n",
       "      <th>aantal_inwoners</th>\n",
       "    </tr>\n",
       "  </thead>\n",
       "  <tbody>\n",
       "    <tr>\n",
       "      <th>0</th>\n",
       "      <td>050</td>\n",
       "      <td>Groningen</td>\n",
       "      <td>GR</td>\n",
       "      <td>80000.0</td>\n",
       "    </tr>\n",
       "    <tr>\n",
       "      <th>1</th>\n",
       "      <td>020</td>\n",
       "      <td>Amsterdam</td>\n",
       "      <td>NH</td>\n",
       "      <td>200000.0</td>\n",
       "    </tr>\n",
       "    <tr>\n",
       "      <th>2</th>\n",
       "      <td>010</td>\n",
       "      <td>Rotterdam</td>\n",
       "      <td>ZH</td>\n",
       "      <td>180000.0</td>\n",
       "    </tr>\n",
       "    <tr>\n",
       "      <th>3</th>\n",
       "      <td>030</td>\n",
       "      <td>Utrecht</td>\n",
       "      <td>NaN</td>\n",
       "      <td>NaN</td>\n",
       "    </tr>\n",
       "    <tr>\n",
       "      <th>4</th>\n",
       "      <td>070</td>\n",
       "      <td>Den Haag</td>\n",
       "      <td>ZH</td>\n",
       "      <td>170000.0</td>\n",
       "    </tr>\n",
       "  </tbody>\n",
       "</table>\n",
       "</div>"
      ],
      "text/plain": [
       "  kengetal     plaats provincie  aantal_inwoners\n",
       "0      050  Groningen        GR          80000.0\n",
       "1      020  Amsterdam        NH         200000.0\n",
       "2      010  Rotterdam        ZH         180000.0\n",
       "3      030    Utrecht       NaN              NaN\n",
       "4      070   Den Haag        ZH         170000.0"
      ]
     },
     "execution_count": 14,
     "metadata": {},
     "output_type": "execute_result"
    }
   ],
   "source": [
    "df"
   ]
  },
  {
   "cell_type": "code",
   "execution_count": 4,
   "id": "763ec2bb-adbc-4681-b5d3-eb2675443432",
   "metadata": {},
   "outputs": [
    {
     "name": "stdout",
     "output_type": "stream",
     "text": [
      "<class 'pandas.core.frame.DataFrame'>\n",
      "RangeIndex: 5 entries, 0 to 4\n",
      "Data columns (total 3 columns):\n",
      " #   Column     Non-Null Count  Dtype \n",
      "---  ------     --------------  ----- \n",
      " 0   kengetal   5 non-null      object\n",
      " 1   plaats     5 non-null      object\n",
      " 2   provincie  4 non-null      object\n",
      "dtypes: object(3)\n",
      "memory usage: 252.0+ bytes\n"
     ]
    }
   ],
   "source": [
    "df.info()"
   ]
  },
  {
   "cell_type": "code",
   "execution_count": 5,
   "id": "643c34b6-68e8-49ce-b513-9466423acb2d",
   "metadata": {},
   "outputs": [
    {
     "data": {
      "text/plain": [
       "['kengetal', 'plaats', 'provincie']"
      ]
     },
     "execution_count": 5,
     "metadata": {},
     "output_type": "execute_result"
    }
   ],
   "source": [
    "list(df.columns)"
   ]
  },
  {
   "cell_type": "markdown",
   "id": "ce05c256-c21d-4662-9517-87e9a30030f2",
   "metadata": {},
   "source": [
    "### Indexing"
   ]
  },
  {
   "cell_type": "code",
   "execution_count": 6,
   "id": "61ebdead-99b7-47de-8a9e-15fb344af396",
   "metadata": {},
   "outputs": [],
   "source": [
    "df['provincie'] = df['provincie'].fillna('-')"
   ]
  },
  {
   "cell_type": "code",
   "execution_count": 7,
   "id": "556f7439-0b1a-4f63-97b4-9eac6b95c09d",
   "metadata": {},
   "outputs": [
    {
     "data": {
      "text/html": [
       "<div>\n",
       "<style scoped>\n",
       "    .dataframe tbody tr th:only-of-type {\n",
       "        vertical-align: middle;\n",
       "    }\n",
       "\n",
       "    .dataframe tbody tr th {\n",
       "        vertical-align: top;\n",
       "    }\n",
       "\n",
       "    .dataframe thead th {\n",
       "        text-align: right;\n",
       "    }\n",
       "</style>\n",
       "<table border=\"1\" class=\"dataframe\">\n",
       "  <thead>\n",
       "    <tr style=\"text-align: right;\">\n",
       "      <th></th>\n",
       "      <th>plaats</th>\n",
       "      <th>provincie</th>\n",
       "    </tr>\n",
       "  </thead>\n",
       "  <tbody>\n",
       "    <tr>\n",
       "      <th>0</th>\n",
       "      <td>Groningen</td>\n",
       "      <td>GR</td>\n",
       "    </tr>\n",
       "    <tr>\n",
       "      <th>1</th>\n",
       "      <td>Amsterdam</td>\n",
       "      <td>NH</td>\n",
       "    </tr>\n",
       "    <tr>\n",
       "      <th>2</th>\n",
       "      <td>Rotterdam</td>\n",
       "      <td>ZH</td>\n",
       "    </tr>\n",
       "    <tr>\n",
       "      <th>3</th>\n",
       "      <td>Utrecht</td>\n",
       "      <td>-</td>\n",
       "    </tr>\n",
       "    <tr>\n",
       "      <th>4</th>\n",
       "      <td>Den Haag</td>\n",
       "      <td>ZH</td>\n",
       "    </tr>\n",
       "  </tbody>\n",
       "</table>\n",
       "</div>"
      ],
      "text/plain": [
       "      plaats provincie\n",
       "0  Groningen        GR\n",
       "1  Amsterdam        NH\n",
       "2  Rotterdam        ZH\n",
       "3    Utrecht         -\n",
       "4   Den Haag        ZH"
      ]
     },
     "execution_count": 7,
     "metadata": {},
     "output_type": "execute_result"
    }
   ],
   "source": [
    "df[['plaats', 'provincie']]"
   ]
  },
  {
   "cell_type": "code",
   "execution_count": 8,
   "id": "5727aa6b-6ea0-48dc-83b6-63abec4b534a",
   "metadata": {},
   "outputs": [],
   "source": [
    "df['adressering'] = df['plaats'] + ', ' + df['provincie']"
   ]
  },
  {
   "cell_type": "code",
   "execution_count": 9,
   "id": "c7345658-6e69-49e2-b2fe-bb1ee505ed61",
   "metadata": {},
   "outputs": [
    {
     "data": {
      "text/html": [
       "<div>\n",
       "<style scoped>\n",
       "    .dataframe tbody tr th:only-of-type {\n",
       "        vertical-align: middle;\n",
       "    }\n",
       "\n",
       "    .dataframe tbody tr th {\n",
       "        vertical-align: top;\n",
       "    }\n",
       "\n",
       "    .dataframe thead th {\n",
       "        text-align: right;\n",
       "    }\n",
       "</style>\n",
       "<table border=\"1\" class=\"dataframe\">\n",
       "  <thead>\n",
       "    <tr style=\"text-align: right;\">\n",
       "      <th></th>\n",
       "      <th>kengetal</th>\n",
       "      <th>plaats</th>\n",
       "      <th>provincie</th>\n",
       "      <th>adressering</th>\n",
       "    </tr>\n",
       "  </thead>\n",
       "  <tbody>\n",
       "    <tr>\n",
       "      <th>0</th>\n",
       "      <td>050</td>\n",
       "      <td>Groningen</td>\n",
       "      <td>GR</td>\n",
       "      <td>Groningen, GR</td>\n",
       "    </tr>\n",
       "    <tr>\n",
       "      <th>1</th>\n",
       "      <td>020</td>\n",
       "      <td>Amsterdam</td>\n",
       "      <td>NH</td>\n",
       "      <td>Amsterdam, NH</td>\n",
       "    </tr>\n",
       "    <tr>\n",
       "      <th>2</th>\n",
       "      <td>010</td>\n",
       "      <td>Rotterdam</td>\n",
       "      <td>ZH</td>\n",
       "      <td>Rotterdam, ZH</td>\n",
       "    </tr>\n",
       "    <tr>\n",
       "      <th>3</th>\n",
       "      <td>030</td>\n",
       "      <td>Utrecht</td>\n",
       "      <td>-</td>\n",
       "      <td>Utrecht, -</td>\n",
       "    </tr>\n",
       "    <tr>\n",
       "      <th>4</th>\n",
       "      <td>070</td>\n",
       "      <td>Den Haag</td>\n",
       "      <td>ZH</td>\n",
       "      <td>Den Haag, ZH</td>\n",
       "    </tr>\n",
       "  </tbody>\n",
       "</table>\n",
       "</div>"
      ],
      "text/plain": [
       "  kengetal     plaats provincie    adressering\n",
       "0      050  Groningen        GR  Groningen, GR\n",
       "1      020  Amsterdam        NH  Amsterdam, NH\n",
       "2      010  Rotterdam        ZH  Rotterdam, ZH\n",
       "3      030    Utrecht         -     Utrecht, -\n",
       "4      070   Den Haag        ZH   Den Haag, ZH"
      ]
     },
     "execution_count": 9,
     "metadata": {},
     "output_type": "execute_result"
    }
   ],
   "source": [
    "df"
   ]
  },
  {
   "cell_type": "code",
   "execution_count": 10,
   "id": "1e5d3c85-5fcd-48a5-835f-b84e0a88269d",
   "metadata": {},
   "outputs": [
    {
     "data": {
      "text/html": [
       "<div>\n",
       "<style scoped>\n",
       "    .dataframe tbody tr th:only-of-type {\n",
       "        vertical-align: middle;\n",
       "    }\n",
       "\n",
       "    .dataframe tbody tr th {\n",
       "        vertical-align: top;\n",
       "    }\n",
       "\n",
       "    .dataframe thead th {\n",
       "        text-align: right;\n",
       "    }\n",
       "</style>\n",
       "<table border=\"1\" class=\"dataframe\">\n",
       "  <thead>\n",
       "    <tr style=\"text-align: right;\">\n",
       "      <th></th>\n",
       "      <th>kengetal</th>\n",
       "      <th>plaats</th>\n",
       "      <th>provincie</th>\n",
       "      <th>adressering</th>\n",
       "    </tr>\n",
       "  </thead>\n",
       "  <tbody>\n",
       "    <tr>\n",
       "      <th>2</th>\n",
       "      <td>010</td>\n",
       "      <td>Rotterdam</td>\n",
       "      <td>ZH</td>\n",
       "      <td>Rotterdam, ZH</td>\n",
       "    </tr>\n",
       "    <tr>\n",
       "      <th>4</th>\n",
       "      <td>070</td>\n",
       "      <td>Den Haag</td>\n",
       "      <td>ZH</td>\n",
       "      <td>Den Haag, ZH</td>\n",
       "    </tr>\n",
       "  </tbody>\n",
       "</table>\n",
       "</div>"
      ],
      "text/plain": [
       "  kengetal     plaats provincie    adressering\n",
       "2      010  Rotterdam        ZH  Rotterdam, ZH\n",
       "4      070   Den Haag        ZH   Den Haag, ZH"
      ]
     },
     "execution_count": 10,
     "metadata": {},
     "output_type": "execute_result"
    }
   ],
   "source": [
    "df.query('provincie==\"ZH\"')"
   ]
  },
  {
   "cell_type": "code",
   "execution_count": 11,
   "id": "7bf30b1c-3501-41b6-be3c-3bb8b33229b3",
   "metadata": {},
   "outputs": [
    {
     "data": {
      "text/html": [
       "<div>\n",
       "<style scoped>\n",
       "    .dataframe tbody tr th:only-of-type {\n",
       "        vertical-align: middle;\n",
       "    }\n",
       "\n",
       "    .dataframe tbody tr th {\n",
       "        vertical-align: top;\n",
       "    }\n",
       "\n",
       "    .dataframe thead th {\n",
       "        text-align: right;\n",
       "    }\n",
       "</style>\n",
       "<table border=\"1\" class=\"dataframe\">\n",
       "  <thead>\n",
       "    <tr style=\"text-align: right;\">\n",
       "      <th></th>\n",
       "      <th>kengetal</th>\n",
       "      <th>plaats</th>\n",
       "      <th>provincie</th>\n",
       "      <th>adressering</th>\n",
       "    </tr>\n",
       "  </thead>\n",
       "  <tbody>\n",
       "    <tr>\n",
       "      <th>2</th>\n",
       "      <td>010</td>\n",
       "      <td>Rotterdam</td>\n",
       "      <td>ZH</td>\n",
       "      <td>Rotterdam, ZH</td>\n",
       "    </tr>\n",
       "    <tr>\n",
       "      <th>4</th>\n",
       "      <td>070</td>\n",
       "      <td>Den Haag</td>\n",
       "      <td>ZH</td>\n",
       "      <td>Den Haag, ZH</td>\n",
       "    </tr>\n",
       "  </tbody>\n",
       "</table>\n",
       "</div>"
      ],
      "text/plain": [
       "  kengetal     plaats provincie    adressering\n",
       "2      010  Rotterdam        ZH  Rotterdam, ZH\n",
       "4      070   Den Haag        ZH   Den Haag, ZH"
      ]
     },
     "execution_count": 11,
     "metadata": {},
     "output_type": "execute_result"
    }
   ],
   "source": [
    "df[df['provincie']=='ZH']"
   ]
  },
  {
   "cell_type": "code",
   "execution_count": null,
   "id": "f169ed7b-f84c-49c5-8647-57b59822d162",
   "metadata": {},
   "outputs": [],
   "source": [
    "pd.merge(....., df.set_index('jaar'))"
   ]
  },
  {
   "cell_type": "code",
   "execution_count": null,
   "id": "b1b00e4b-ff8f-4742-8d0e-8af6fba3f773",
   "metadata": {},
   "outputs": [],
   "source": []
  }
 ],
 "metadata": {
  "kernelspec": {
   "display_name": "Python 3 (ipykernel)",
   "language": "python",
   "name": "python3"
  },
  "language_info": {
   "codemirror_mode": {
    "name": "ipython",
    "version": 3
   },
   "file_extension": ".py",
   "mimetype": "text/x-python",
   "name": "python",
   "nbconvert_exporter": "python",
   "pygments_lexer": "ipython3",
   "version": "3.13.3"
  }
 },
 "nbformat": 4,
 "nbformat_minor": 5
}
