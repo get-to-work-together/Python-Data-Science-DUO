


import numpy as np
import matplotlib.pyplot as plt





a = np.array([23,45,67,89,32,54,76], dtype='float')


a


type(a)


print(a)


len(a)


a.dtype


a.ndim


a = np.arange(1, 21)


len(a)


a.dtype


a.ndim


m = a.reshape(4, 5)


m


m.ndim


len(m)


m.shape


np.arange(1, 21, 0.5)


x = np.linspace(1, 20, 100)


y = np.sin(x)


import matplotlib.pyplot as plt


plt.plot(x, y, color='purple', label='sin')
plt.plot(x, y/2, color='seagreen', label='sin/2')
plt.plot(x, y/x, color='red', label='sin/x', linewidth=5)
plt.grid()
plt.legend()
plt.show()


a


a[-5:]


m


m[3, 2]


m[2:, 2:]


type(a)


a % 4 == 0


a[a % 4 == 0]


a[[3,7,4,9]]


a = np.arange(80, 101)


a


a[a >= 90]


getallen = range(1000)


%%timeit
kwadraten = []
for getal in getallen:
    kwadraten.append(getal ** 2)


agetallen = np.array(getallen)

agetallen


%%timeit
agetallen ** 2


'abc' + 'def'


[1, 2, 3] + [4, 5, 6]


np.array([1, 2, 3]) + np.array([4, 5, 6])


a[(a > 85) & (a < 95)]





np.random.randint(1, 100, 10)


data = np.random.normal(10, 3, 1000)


data.mean()


data.std()


import matplotlib.pyplot as plt


plt.hist(data, bins=np.linspace(0, 20, 21))
plt.grid()
plt.show()





xdata = np.random.uniform(0, 10, 100)


ydata = xdata * 5 + 10 + np.random.randn(100) * 10


plt.scatter(xdata, ydata)
plt.grid()
plt.show()


np.polynomial.Polynomial.fit(xdata, ydata, deg = 1)


b1, b0 = np.polyfit(xdata, ydata, deg = 1)


xmodel = np.linspace(0, 10, 100)
ymodel = b0 + b1 * xmodel


plt.scatter(xdata, ydata)
plt.plot(xmodel, ymodel, color='red')
plt.grid()
plt.show()


coefs = np.polyfit(xdata, ydata, deg = 1)


model = np.poly1d(coefs)


ymodel = model(xmodel)


plt.scatter(xdata, ydata)
plt.plot(xmodel, ymodel, color='red')
plt.grid()
plt.show()


coefs



