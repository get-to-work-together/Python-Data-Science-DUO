


import pandas as pd
import seaborn as sns


df = sns.load_dataset('mpg')

# of

df = pd.read_csv('../datasets/mpg.csv')


df.head()


df.info()


df['origin'] = df['origin'].astype('category')


df['name']


df = df.drop(index=[2,4,6])


df.loc[[384, 385], ['name', 'origin']]


df['horsepower'].plot(kind='box')


df.at[384, 'name'] = 'honda civic'


df['origin'].value_counts()


df['origin'].value_counts().plot(kind='barh')


df[['make', 'model']] = df['name'].str.split(n=1, expand=True)


df


df['make'].value_counts().sort_index()


fix_typos = {
    'capri': 'ford',
    'chevy': 'chevrolet',
    'chevroelt': 'chevrolet',
    'maxda': 'mazda',
    'mercedes-benz': 'mercedes',
    'toyouta': 'toyota',
    'vokswagen': 'volkswagen',
    'vw': 'volkswagen'
}

df['make'] = df['make'].replace(fix_typos)


df['make'].value_counts()


sns.pairplot(data=df, hue='origin')


df.sort_values('mpg').head()


df.sort_values('mpg').tail()


df['weight_category'] = pd.cut(df['weight'], 
                               bins=[0, 2000, 3000, 5000], 
                               labels=['light', 'medium', 'heavy'])


df


df.pivot_table(index = 'origin', 
               columns = 'weight_category', 
               aggfunc = 'size',
               values = 'mpg',
               fill_value = 0,
               observed = True)



