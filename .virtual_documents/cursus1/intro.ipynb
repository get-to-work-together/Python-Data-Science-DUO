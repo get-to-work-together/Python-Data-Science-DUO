


# Alle imports hier!
import math


print("Hello world")
print(math.pi)





1 + 2

6575 + 786


print(6575 + 786)
print(6575 - 786)
print(6575 * 786)
print(6575 / 786)


print(6575 ** 2)


print(math.pi)


print(math.sin(math.pi / 2))


print(math.sin(math.radians(45)))


print('hallo')
print(3498457)
print(3.14)
print(3 * 9)
print(math.pi)
print(math.radians(45))





naam = 'Peter'


print(naam)


resultaat = 876 * 655

print(resultaat)


type(naam)


type(resultaat)


resultaat = 2.5


type(resultaat)


aantal_autos = 15  # snake case

print(aantal_autos)





naam = 'PeteR'


print(naam)
print(naam.upper())
print(naam.lower())
print(naam.title())
print(naam.swapcase())


naam.endswith('.csv')


naam.lower().endswith('er')


naam.replace('e', 'x')





naam


naam[2]


naam[-3]


naam[0:2]


naam[-3:]





naam = 'Guido'
leeftijd = 45


print(naam, 'is', leeftijd, 'jaar oud.')


print(naam + ' is ' + str(leeftijd) + ' jaar oud.')


print(f'{naam} is {leeftijd} jaar oud.')





print('\u25D5')





getallen = [23, 45, 67, 25, 32]


type(getallen)


print(getallen)


len(getallen)


print(min(getallen))
print(max(getallen))
print(sum(getallen))


print(sorted(getallen))


boodschappenlijstje = []


print(boodschappenlijstje)
print(len(boodschappenlijstje))


boodschappenlijstje.append('boter')
boodschappenlijstje.append('kaas')
boodschappenlijstje.append('eieren')
boodschappenlijstje.append('melk')


boodschappenlijstje.pop()


boodschappenlijstje.insert(0, 'bier')


boodschappenlijstje[3]


boodschappenlijstje[-3:]


zin = 'de hond springt over de luie kat'


woorden = zin.split()


woorden


'-'.join(woorden)





d = {'Utrecht':'030', 'Groningen':'050', 'Amsterdam':'020'}


d['Groningen']


d['Rotterdam'] = '010'


d


d.get('Den Haag', '?????')


len(d)


list(d.keys())


list(d.values())


del d['Rotterdam']


d





t = (23, 45, 67, 89, 32, 53)


type(t)


print(t)


t[-3:]





37 / 5


37 // 5


37 % 5


divmod(37, 5)


t = ('Peter', 'Anema', 67, 'Lhee')


t


voornaam, achternaam, leeftijd, woonplaats = t


type(leeftijd)


getallen


getallen[2] += 1





st = {1,2,3,4,5,5,5,5}


st


st.add(6)


st.remove(5)


6 in st





gender = 'm'
leeftijd = 15

if gender == 'm' and leeftijd > 18:
    print('Geachte heer')

elif gender == 'm' and leeftijd <= 18:
    print('Beste jongen')

elif gender == 'v':
    print('Geachte mevrouw')

else:
    print('Beste mens')

print('Hoe gaat het?')


getal = 80

if getal >= 100:
    print('Groot')

elif getal >= 10 and getal < 100:
    print('Ergens tussen 10 en 100')
    
else:
    print('Klein')


for getal in getallen:
    print(getal, getal > 100)


getallen


for getal in range(1, 21):
    print(getal)





getal = 21
getal % 3 == 0 and getal % 7 == 0


for getal in range(1, 100):
    if getal % 3 == 0 and getal % 7 == 0:
        print(getal)





def is_deelbaar(getal, a1, a2=1):
    """Bepaal of getal deelbaar is door a

    Zowel getal als a moeten een int zijn!
    """
    return getal % a1 == 0 and getal % a2 == 0


def is_deelbaar(getal, *factors):
    """Bepaal of getal deelbaar is door alle factors

    Zowel getal als a moeten een int zijn!
    """
    for a in factors:
        if getal % a != 0:
            return False
    return True


getal = 210

print( is_deelbaar(getal, 6) )
print( is_deelbaar(getal, 6, 5) )
print( is_deelbaar(getal, 6, 4, 7) )
print( is_deelbaar(getal, 6, 5, 7, 10) )






def telop(a, b):
    """Tel de argumenten bij elkaar op"""
    result = a + b
    return result


telop(32, 43)


f1 = 0.1
f2 = 0.2


type(f2)


f1 + f2


print(f'{0.1:.30f}')
print(f'{0.2:.30f}')
print(f'{0.1+0.2:.30f}')


from decimal import Decimal

d1 = Decimal('0.1')
d2 = Decimal('0.2')

print(d1 + d2)


round(0.1 + 0.2, 17) == round(0.3, 17)


f1 = 0.1e-100


f1



