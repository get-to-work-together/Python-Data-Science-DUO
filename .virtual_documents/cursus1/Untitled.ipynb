


import pandas as pd
import matplotlib.pyplot as plt
import seaborn as sns
import sklearn

pd.set_option('display.max_columns', None)
pd.set_option('display.max_rows', None)


df = sns.load_dataset('penguins')
df.info()


df.head()


df['species'].value_counts()


df['island'].value_counts()


sns.pairplot(df, hue='sex')





df.dropna(inplace=True)


df.drop('island', axis='columns', inplace=True)


df.info()


df_encoded = pd.get_dummies(df, columns=['species'], drop_first=True, dtype=int)


target = 'sex'

df_target = df_encoded[[target]]
df_features = df_encoded.drop(target, axis='columns')

df_features.head()


from sklearn.preprocessing import MinMaxScaler


scaler = MinMaxScaler()

scaler.fit(df_features)

df_scaled_features = scaler.transform(df_features)


X = df_scaled_features.round(2)


y = df_target[target].values


y


y.shape


from sklearn.model_selection import train_test_split


X_train, X_test, y_train, y_test = train_test_split(X, y, test_size=0.2)


print(X_train.shape)
print(X_test.shape)
print(y_train.shape)
print(y_test.shape)








from sklearn.neighbors import KNeighborsClassifier


classifier = KNeighborsClassifier(n_neighbors = 3)


classifier.fit(X_train, y_train)


y_predict = classifier.predict(X_test)


y_predict == y_test


n_correct = sum(y_predict == y_test)
n_correct


accuracy = n_correct / len(y_test)
print(f'accuracy = {accuracy:.2f}')





from sklearn.naive_bayes import GaussianNB


classifier = GaussianNB()


classifier.fit(X_train, y_train)


y_predict = classifier.predict(X_test)


accuracy = sum(y_predict == y_test) / len(y_test)
print(f'accuracy = {accuracy:.2f}')





from sklearn.tree import DecisionTreeClassifier


classifier = DecisionTreeClassifier(max_depth=10)


classifier.fit(X_train, y_train)


y_predict = classifier.predict(X_test)


accuracy = sum(y_predict == y_test) / len(y_test)
print(f'accuracy = {accuracy:.2f}')


from sklearn.tree import plot_tree

plt.figure(figsize = (15,10))

plot_tree(classifier, 
          feature_names = df_features.columns,
          class_names = df_target[target].unique(),
          filled = True,
          rounded = True, 
          impurity = False)

plt.show()


from sklearn.tree import export_text

print(export_text(classifier, 
                  feature_names = df_features.columns))


print('Feature Importances Decision Tree')

for feature, importance in zip( df_features.columns, classifier.feature_importances_):
    print(f'{feature:25}: {importance:.3f}')





from sklearn.ensemble import RandomForestClassifier


classifier = RandomForestClassifier(n_estimators=100)


classifier.fit(X_train, y_train)


y_predict = classifier.predict(X_test)


accuracy = sum(y_predict == y_test) / len(y_test)
print(f'accuracy = {accuracy:.2f}')


print('Feature Importances')

for feature, importance in zip( df_features.columns, classifier.feature_importances_):
    print(f'{feature:25}: {importance:.3f}')



