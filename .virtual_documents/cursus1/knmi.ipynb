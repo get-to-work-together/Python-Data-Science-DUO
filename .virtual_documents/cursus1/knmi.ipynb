


import pandas as pd
import matplotlib.pyplot as plt


filename = 'result.txt'


df = pd.read_csv(filename, comment='#', names=['STN','YYYYMMDD','TG'])
df


df['TGEM'] = df['TG']/10


df['DATUM'] = pd.to_datetime(df['YYYYMMDD'], format='%Y%m%d')


df['STATION'] = df['STN'].replace({260:'De Bilt', 279:'Hoogeveen'})


df


df_pivot = pd.pivot(df, index='DATUM', columns='STATION', values='TGEM')


df_pivot


df_pivot.plot()


verschil = df_pivot['Hoogeveen'] - df_pivot['De Bilt']
verschil


verschil.plot(kind='hist', bins=20)
plt.axvline(0, color='red')
plt.show()


verschil.plot()
plt.axhline(0, color='red')
plt.grid()
plt.show()



