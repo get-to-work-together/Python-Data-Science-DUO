


import numpy as np
import pandas as pd
import matplotlib.pyplot as plt
import statsmodels as sm





!ls ../datasets/knmi


filename_260 = '../datasets/knmi/etmgeg_260.txt'
filename_279 = '../datasets/knmi/etmgeg_279.txt'


nrows_header = 51
df_260 = pd.read_csv(filename_260, skiprows=nrows_header, low_memory=False, skipinitialspace=True, dtype='string')
df_279 = pd.read_csv(filename_279, skiprows=nrows_header, low_memory=False, skipinitialspace=True, dtype='string')


df_260.rename(columns = lambda s: s.strip('# '), inplace = True)
df_279.rename(columns = lambda s: s.strip('# '), inplace = True)


df_260.info()


df_279.info()





columns = ['STN','YYYYMMDD','TG']

df_260 = df_260[columns].copy()
df_279 = df_279[columns].copy()





df_260.info()


df_260['dd'] = pd.to_datetime(df_260['YYYYMMDD'], format='%Y%m%d')
df_279['dd'] = pd.to_datetime(df_279['YYYYMMDD'], format='%Y%m%d')





year = 2023
df_260 = df_260[df_260['dd'].dt.year == year].copy()
df_279 = df_279[df_279['dd'].dt.year == year].copy()





df = pd.concat([df_260, df_279]).reset_index(drop = True)


df





df['TG'] = df['TG'].astype('int') / 10


df.info()





stations = {
    260: 'De Bilt',
    279: 'Hoogeveen'
}

df['station'] = df['STN'].astype('int').replace(stations)
station_names = list(stations.values())


df





df.drop(['STN','YYYYMMDD'], axis = 1, inplace = True)


df





df_pivot = pd.pivot(df, index='dd', columns='station', values='TG')
df_pivot





df_pivot.plot(kind = 'line', figsize = (16, 5));


fig, ax = plt.subplots(figsize = (16, 5))

column_name = station_names[0]
ax.plot(df_pivot.index, 
        df_pivot[column_name], 
        color='red', 
        alpha = 0.5, 
        linewidth = 3, 
        linestyle = 'solid', 
        label = column_name)

column_name = station_names[1]
ax.plot(df_pivot.index, 
        df_pivot[column_name], 
        color='blue', 
        alpha = 0.4, 
        linewidth = 3, 
        linestyle = 'solid', 
        label = column_name)

ax.set_xlim(np.min(df_pivot.index), np.max(df_pivot.index))

ax.set_xlabel('dd')

plt.legend()
plt.grid()

plt.show()


df_pivot.plot(kind='box')

plt.grid()
plt.show()


df_pivot.describe()


df_pivot.plot(kind = 'scatter', x = station_names[0], y = station_names[1])
plt.axline([0,0], [28,28], color = 'red')
plt.show()


n_days_colder = np.sum(data[station_names[1]] < data[station_names[0]])
print(f'In {year} was het is {n_days_colder} dagen van het jaar kouder {station_names[1]} in {station_names[0]}')





diff = data[station_names[1]] - data[station_names[0]]


diff.plot(kind = 'hist', bins = 30)
plt.axvline(0, color = 'red')
plt.show()


diff.describe()


diff.plot.box()
plt.grid()
plt.show()


diff.plot(kind = 'line', figsize = (14, 5))
plt.axhline(0, color = 'red')
plt.show()





from statsmodels.graphics.api import qqplot

qqplot(diff, line='r')

plt.show()





from scipy import stats

t, p = stats.ttest_1samp(diff, 0)

print("The t-statistic is %.3f and the p-value is %.5f." % (t, p/2))






