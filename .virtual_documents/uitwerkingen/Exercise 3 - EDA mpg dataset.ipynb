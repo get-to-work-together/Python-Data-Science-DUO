import pandas as pd
import matplotlib.pyplot as plt
import seaborn as sns

pd.set_option('display.max_rows', 1000)
pd.set_option('display.max_columns', 100)

import warnings
warnings.simplefilter(action='ignore', category=FutureWarning)


df = sns.load_dataset('mpg')


with pd.option_context('display.max_rows', 5, 
                       'display.max_columns', None):
    display(df)





df.info()


df.describe()


df['origin'].value_counts()


df['origin'] = df['origin'].astype('category')


df['name'].value_counts().sort_index()


df[['make', 'model']] = df['name'].str.split(n=1, expand=True)


df


df['make'].value_counts().sort_index()


fix_typos = {
    'capri': 'ford',
    'chevy': 'chevrolet',
    'chevroelt': 'chevrolet',
    'maxda': 'mazda',
    'mercedes-benz': 'mercedes',
    'toyouta': 'toyota',
    'vokswagen': 'volkswagen',
    'vw': 'volkswagen'
}

df['make'] = df['make'].replace(fix_typos)


df['make'].value_counts().sort_index()


df





df.isna().any()


df[df.isna().any(axis=1)]


df.dropna(subset='horsepower', inplace=True)
df.info()





sns.pairplot(data=df, hue='origin');


df_num = df.select_dtypes(['int','float'])
df_corr = df_num.corr()
sns.heatmap(data = df_corr, annot=True, cmap='vlag', vmin=-1, vmax=1, fmt='.2g')


df.sort_values('mpg').head(5)


df.sort_values('mpg', ascending=False).head(5)


df['kml'] = (df['mpg'] * 1.609344 / 4.54609).round(1)


df[['mpg', 'kml']].sort_values('mpg')


bins = [0, 2500, 3500, 6000]
labels = ['light','medium','heavy']
df['weight_class'] = pd.cut(df['weight'], bins, labels = labels)


df['weight_class'].value_counts()


df.pivot_table(index = 'origin', 
               columns = 'weight_class', 
               aggfunc = 'size',
               values = 'mpg',
               fill_value = 0,
               observed = True)


df.groupby('origin')[['weight','horsepower']].mean()


totals = df.groupby('origin')[['mpg','weight']].agg(['size', 'min','max','mean','median']).round(1)
totals


totals[[('mpg','mean'), ('mpg','median')]].plot.bar()


df


plt.scatter(df['horsepower'], df['acceleration'])


sns.pairplot(df[['horsepower','acceleration','weight','origin']], hue='origin')


sns.scatterplot(data=df, x='horsepower', y='acceleration', hue='make', legend = False)


df.sort_values('horsepower', ascending = False).head(5)


df[df['origin']=='usa']


df[ df['make']=='ford' ]


df[ ['origin','make','model'] ]


df.loc[ df['make']=='ford', ['origin','make','model'] ]


df['horsepower'].plot(kind='box')


ax = plt.figure(figsize=(8, 6)).add_subplot(projection='3d')

dfx = df[df['origin']=='usa']
ax.plot(dfx['horsepower'], dfx['weight'], dfx['acceleration'], lw=0, marker='o')

dfx = df[df['origin']=='europe']
ax.plot(dfx['horsepower'], dfx['weight'], dfx['acceleration'], lw=0, marker='o')

dfx = df[df['origin']=='japan']
ax.plot(dfx['horsepower'], dfx['weight'], dfx['acceleration'], lw=0, marker='o')

plt.show()





df.info()


df['origin'] = df['origin'].astype('category')


df['origin'].cat.categories


df.info()


bins = [0, 2000, 4000, 6000]
labels = ['light', 'medium', 'heavy']
df['weight_class'] = pd.cut(df['weight'], bins, labels = labels)


df['weight_class'].value_counts()


df.pivot_table(index = 'origin', 
               columns = 'weight_class', 
               aggfunc = 'mean',
               values = 'mpg',
               fill_value = 0,
               observed = False)


pd.crosstab(index = df['origin'], 
            columns = df['weight_class'],
            values = df['mpg'],
            aggfunc = 'mean'
           )


df.set_index('name')


df_indexed = df.set_index(['origin', 'make', 'model']).sort_index()
df_indexed


df


df_indexed.loc[('usa', 'ford', 'torino')]


df[['make','weight']].groupby('make').agg('mean').astype('int').sort_values('weight')


df['horsepower'].plot(kind='hist', bins=20)


df['horsepower'].plot(kind='box')


sns.boxplot(data=df, x='horsepower')


sns.histplot(data=df, x='horsepower')


sns.violinplot(data=df, x='mpg')


df['make'].value_counts().plot(kind='barh')


df['make'].unique



