import numpy as np
import matplotlib.pyplot as plt





a = np.arange(1, 25, dtype=int)
print(a)
print(a.dtype)
print(a.ndim)
print(a.shape)

print(a.size)


a = np.arange(1, 25, dtype=int).reshape(4, -1)

print(a)

print(a.dtype)
print(a.ndim)
print(a.shape)

print(a.size)   # total number of elements

print(len(a))  # only first dimension 





d = np.random.randn(40000)


plt.hist(d, bins=40)
plt.show()





f = np.polynomial.Polynomial([0, 1, 1])


x = np.linspace(-2, 2, 100)
y = f(x)


plt.axhline(0, c='k', lw=1)
plt.axvline(0, c='k', lw=1)
plt.grid()
plt.plot(x, y, c='r')
plt.show()








rng = np.random.default_rng()
x = np.arange(10)
y = np.arange(10) + rng.standard_normal(10)





coefs = np.polyfit(x, y, deg=1)
fitted = np.poly1d(coefs)
coefs = coefs[::-1]
coefs





fitted = np.polynomial.Polynomial.fit(x, y, deg=1).convert()
coefs = fitted.coef
coefs





from sklearn.linear_model import LinearRegression
model = LinearRegression(fit_intercept=True)
X = x.reshape((len(x),-1))
model.fit(X, y)
coefs = np.array([model.intercept_] + list(model.coef_))
fitted = lambda x: model.predict(x.reshape((len(x),-1)))
coefs





plt.scatter(x, y)
plt.plot(x, fitted1(x), color='r')
plt.title(f'b0 + b1.x with b0={coefs[0]:.2f} and b1={coefs[1]:.2f}')
plt.grid()
plt.show()





a = np.linspace(0, 10, 11, dtype=np.int32)
a


part = a[3:6]
part


part[0] = 99
part


a



