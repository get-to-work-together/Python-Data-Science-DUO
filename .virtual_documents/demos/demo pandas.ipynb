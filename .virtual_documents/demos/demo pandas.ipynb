import numpy as np
import pandas as pd

pd.set_option('display.max_rows', 100)
pd.set_option('display.max_columns', 100)





df = pd.DataFrame([
    {'plaats': 'Amsterdam', 'kengetal': '020', 'provincie': 'NH', 'inwoners': 934_927},
    {'plaats': 'Rotterdam', 'kengetal': '010', 'provincie': 'ZH', 'inwoners': 671_125},
    {'plaats': 'Utrecht', 'kengetal': '030', 'provincie': 'UT', 'inwoners': 374_411},
    {'plaats': 'Groningen', 'kengetal': '050', 'provincie': 'GR', 'inwoners': 243_833},
    {'plaats': 'Den Haag', 'kengetal': '070', 'provincie': 'ZH', 'inwoners': 565_701},
])

df





new_row = pd.DataFrame([{'plaats': 'Eindhoven', 'kengetal': '050', 'provincie': 'NB', 'inwoners': 246_444}])
new_row



# df = pd.concat([df, new_row], ignore_index=True)
# df





df1 = df.set_index(['provincie', 'plaats']).sort_index()
df1


df1.loc[('GR')]


df


df.rename(columns = {'plaats': 'city'}, inplace = True)


provincies = {
    'ZH': 'Zuid Holland',
    'NH': 'Noord Holland',
    'UT': 'Utrecht',
    'GR': 'Groningen',
    'DR': 'Drenthe',
    'L': 'Limburg',
}

df['provincie_naam'] = df['provincie'].replace(provincies)


df





df.info()


df['provincie'].unique()


df['provincie'].value_counts()


list(df.columns)


df.value_counts()





df['plaats']


df['inwoners']


df[['provincie','plaats']]


df.iloc[:, [0, 3]]


df['provincie'] == 'ZH'


df[df['provincie'] == 'ZH']


df[(df['inwoners'] >= 500000) & (df['provincie'] == 'ZH')]


df.query('`inwoners` >= 500000 and `provincie` == "ZH"')


df[['plaats','inwoners']].query('inwoners >= 500000')


df.loc[df['inwoners'] >= 500000, ['plaats','inwoners']]





filename = 'data.csv'
df.to_csv(filename, sep = ';', index = False)


filename = 'data.csv'
df_new = pd.read_csv(filename, sep = ';')
df_new





tables = pd.read_html('https://nl.wikipedia.org/wiki/Lijst_van_grootste_gemeenten_in_Nederland',
                      decimal=',', thousands='.', index_col=0)
df = tables[0]
df


df_hierarchical = df.set_index(['Provincie', 'Naam']).sort_index()
df_hierarchical


df_hierarchical.index


df_hierarchical['Inwoners']['Noord-Holland', 'Amsterdam']


df_hierarchical['Inwoners']['Noord-Holland', 'Amsterdam']



